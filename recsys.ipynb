{
 "cells": [
  {
   "cell_type": "markdown",
   "id": "71973d5b8c2e2838",
   "metadata": {
    "collapsed": false,
    "id": "71973d5b8c2e2838"
   },
   "source": [
    "# Система музыкальных рекоммендаций"
   ]
  },
  {
   "cell_type": "markdown",
   "id": "397ffd09e0e5a64f",
   "metadata": {
    "collapsed": false,
    "id": "397ffd09e0e5a64f"
   },
   "source": [
    "В данной задаче требуется прогнозировать вероятность повторного прослушивания песни пользователями в течение месяца после их первого прослушивания в музыкальном сервисе KKBOX. Для этого используются данные о первом прослушивании каждой уникальной пары пользователь-песня, а цель состоит в определении, будет ли происходить повторное прослушивание или нет. Это может помочь в понимании поведения пользователей и улучшении качества персонализированных рекомендаций."
   ]
  },
  {
   "cell_type": "markdown",
   "id": "4e8df0f04b537c46",
   "metadata": {
    "collapsed": false,
    "id": "4e8df0f04b537c46"
   },
   "source": [
    "## 1. Информация о предоставленных данных"
   ]
  },
  {
   "cell_type": "markdown",
   "id": "2190976af0884657",
   "metadata": {
    "collapsed": false,
    "id": "2190976af0884657"
   },
   "source": [
    "### Таблица с информацией об участниках"
   ]
  },
  {
   "cell_type": "code",
   "execution_count": 1,
   "id": "initial_id",
   "metadata": {
    "collapsed": true,
    "id": "initial_id",
    "ExecuteTime": {
     "end_time": "2024-04-02T16:31:03.322906Z",
     "start_time": "2024-04-02T16:31:03.256086Z"
    }
   },
   "outputs": [],
   "source": [
    "import numpy as np\n",
    "import pandas as pd\n",
    "import matplotlib.pyplot as plt\n",
    "import seaborn as sns"
   ]
  },
  {
   "cell_type": "code",
   "execution_count": 2,
   "id": "bab3cf0dab3f2331",
   "metadata": {
    "id": "bab3cf0dab3f2331",
    "colab": {
     "base_uri": "https://localhost:8080/",
     "height": 304
    },
    "outputId": "90a2f6c2-fe17-45c2-b870-4265b98ec560",
    "ExecuteTime": {
     "end_time": "2024-04-02T15:15:59.228570600Z",
     "start_time": "2024-04-02T15:15:59.112354900Z"
    }
   },
   "outputs": [],
   "source": [
    "members = pd.read_csv('members.csv')"
   ]
  },
  {
   "cell_type": "code",
   "execution_count": 3,
   "id": "f5f21e0b6e4dd4d2",
   "metadata": {
    "id": "f5f21e0b6e4dd4d2",
    "colab": {
     "base_uri": "https://localhost:8080/",
     "height": 423
    },
    "outputId": "a6ef71f4-d87b-48b5-be6b-5db08a79f953",
    "ExecuteTime": {
     "end_time": "2024-04-01T16:19:27.510674Z",
     "start_time": "2024-04-01T16:19:27.455578Z"
    }
   },
   "outputs": [
    {
     "data": {
      "text/plain": "                                               msno  city  bd gender  \\\n0      XQxgAYj3klVKjR3oxPPXYYFp4soD4TuBghkhMTD4oTw=     1   0    NaN   \n1      UizsfmJb9mV54qE9hCYyU07Va97c0lCRLEQX3ae+ztM=     1   0    NaN   \n2      D8nEhsIOBSoE6VthTaqDX8U6lqjJ7dLdr72mOyLya2A=     1   0    NaN   \n3      mCuD+tZ1hERA/o5GPqk38e041J8ZsBaLcu7nGoIIvhI=     1   0    NaN   \n4      q4HRBfVSssAFS9iRfxWrohxuk9kCYMKjHOEagUMV6rQ=     1   0    NaN   \n...                                             ...   ...  ..    ...   \n34398  Wwd/cudKVuLJ3txRVxlg2Zaeliu+LRUfiBmfrnxhRCY=     1   0    NaN   \n34399  g3JGnJX6Hg50lFbrNWfsHwCUmApIkiv2M8sXOaeXoIQ=     4  18   male   \n34400  IMaPMJuyN+ip9Vqi+z2XuXbFAP2kbHr+EvvCNkFfj+o=     1   0    NaN   \n34401  WAnCAJjUty9Stv8yKtV7ZC7PN+ilOy5FX3aIJgGPANM=     1   0    NaN   \n34402  xH8KpzKGeNNq6dOvy51c/8VzqOiGG+m6vabhsPSDHX4=     1   0    NaN   \n\n       registered_via  registration_init_time  expiration_date  \n0                   7                20110820         20170920  \n1                   7                20150628         20170622  \n2                   4                20160411         20170712  \n3                   9                20150906         20150907  \n4                   4                20170126         20170613  \n...               ...                     ...              ...  \n34398               7                20131111         20170910  \n34399               3                20141024         20170518  \n34400               7                20130802         20170908  \n34401               7                20151020         20170920  \n34402               4                20160815         20160818  \n\n[34403 rows x 7 columns]",
      "text/html": "<div>\n<style scoped>\n    .dataframe tbody tr th:only-of-type {\n        vertical-align: middle;\n    }\n\n    .dataframe tbody tr th {\n        vertical-align: top;\n    }\n\n    .dataframe thead th {\n        text-align: right;\n    }\n</style>\n<table border=\"1\" class=\"dataframe\">\n  <thead>\n    <tr style=\"text-align: right;\">\n      <th></th>\n      <th>msno</th>\n      <th>city</th>\n      <th>bd</th>\n      <th>gender</th>\n      <th>registered_via</th>\n      <th>registration_init_time</th>\n      <th>expiration_date</th>\n    </tr>\n  </thead>\n  <tbody>\n    <tr>\n      <th>0</th>\n      <td>XQxgAYj3klVKjR3oxPPXYYFp4soD4TuBghkhMTD4oTw=</td>\n      <td>1</td>\n      <td>0</td>\n      <td>NaN</td>\n      <td>7</td>\n      <td>20110820</td>\n      <td>20170920</td>\n    </tr>\n    <tr>\n      <th>1</th>\n      <td>UizsfmJb9mV54qE9hCYyU07Va97c0lCRLEQX3ae+ztM=</td>\n      <td>1</td>\n      <td>0</td>\n      <td>NaN</td>\n      <td>7</td>\n      <td>20150628</td>\n      <td>20170622</td>\n    </tr>\n    <tr>\n      <th>2</th>\n      <td>D8nEhsIOBSoE6VthTaqDX8U6lqjJ7dLdr72mOyLya2A=</td>\n      <td>1</td>\n      <td>0</td>\n      <td>NaN</td>\n      <td>4</td>\n      <td>20160411</td>\n      <td>20170712</td>\n    </tr>\n    <tr>\n      <th>3</th>\n      <td>mCuD+tZ1hERA/o5GPqk38e041J8ZsBaLcu7nGoIIvhI=</td>\n      <td>1</td>\n      <td>0</td>\n      <td>NaN</td>\n      <td>9</td>\n      <td>20150906</td>\n      <td>20150907</td>\n    </tr>\n    <tr>\n      <th>4</th>\n      <td>q4HRBfVSssAFS9iRfxWrohxuk9kCYMKjHOEagUMV6rQ=</td>\n      <td>1</td>\n      <td>0</td>\n      <td>NaN</td>\n      <td>4</td>\n      <td>20170126</td>\n      <td>20170613</td>\n    </tr>\n    <tr>\n      <th>...</th>\n      <td>...</td>\n      <td>...</td>\n      <td>...</td>\n      <td>...</td>\n      <td>...</td>\n      <td>...</td>\n      <td>...</td>\n    </tr>\n    <tr>\n      <th>34398</th>\n      <td>Wwd/cudKVuLJ3txRVxlg2Zaeliu+LRUfiBmfrnxhRCY=</td>\n      <td>1</td>\n      <td>0</td>\n      <td>NaN</td>\n      <td>7</td>\n      <td>20131111</td>\n      <td>20170910</td>\n    </tr>\n    <tr>\n      <th>34399</th>\n      <td>g3JGnJX6Hg50lFbrNWfsHwCUmApIkiv2M8sXOaeXoIQ=</td>\n      <td>4</td>\n      <td>18</td>\n      <td>male</td>\n      <td>3</td>\n      <td>20141024</td>\n      <td>20170518</td>\n    </tr>\n    <tr>\n      <th>34400</th>\n      <td>IMaPMJuyN+ip9Vqi+z2XuXbFAP2kbHr+EvvCNkFfj+o=</td>\n      <td>1</td>\n      <td>0</td>\n      <td>NaN</td>\n      <td>7</td>\n      <td>20130802</td>\n      <td>20170908</td>\n    </tr>\n    <tr>\n      <th>34401</th>\n      <td>WAnCAJjUty9Stv8yKtV7ZC7PN+ilOy5FX3aIJgGPANM=</td>\n      <td>1</td>\n      <td>0</td>\n      <td>NaN</td>\n      <td>7</td>\n      <td>20151020</td>\n      <td>20170920</td>\n    </tr>\n    <tr>\n      <th>34402</th>\n      <td>xH8KpzKGeNNq6dOvy51c/8VzqOiGG+m6vabhsPSDHX4=</td>\n      <td>1</td>\n      <td>0</td>\n      <td>NaN</td>\n      <td>4</td>\n      <td>20160815</td>\n      <td>20160818</td>\n    </tr>\n  </tbody>\n</table>\n<p>34403 rows × 7 columns</p>\n</div>"
     },
     "execution_count": 3,
     "metadata": {},
     "output_type": "execute_result"
    }
   ],
   "source": [
    "members"
   ]
  },
  {
   "cell_type": "markdown",
   "id": "180aa5dd8188e22b",
   "metadata": {
    "collapsed": false,
    "id": "180aa5dd8188e22b"
   },
   "source": [
    "Признаки:\n",
    "- Идентификатор пользователя\n",
    "- Город\n",
    "- Возраст\n",
    "- пол\n",
    "- метод регистрации\n",
    "- Время регистрации\n",
    "- Срок действия"
   ]
  },
  {
   "cell_type": "code",
   "execution_count": null,
   "id": "38de0218fb2f087e",
   "metadata": {
    "id": "38de0218fb2f087e",
    "colab": {
     "base_uri": "https://localhost:8080/"
    },
    "outputId": "32591df5-be13-4648-952a-a4c7c53ee13a",
    "ExecuteTime": {
     "end_time": "2024-04-01T08:12:12.410788Z",
     "start_time": "2024-04-01T08:12:12.258192Z"
    }
   },
   "outputs": [
    {
     "name": "stdout",
     "output_type": "stream",
     "text": [
      "<class 'pandas.core.frame.DataFrame'>\n",
      "RangeIndex: 34403 entries, 0 to 34402\n",
      "Data columns (total 7 columns):\n",
      " #   Column                  Non-Null Count  Dtype \n",
      "---  ------                  --------------  ----- \n",
      " 0   msno                    34403 non-null  object\n",
      " 1   city                    34403 non-null  int64 \n",
      " 2   bd                      34403 non-null  int64 \n",
      " 3   gender                  14501 non-null  object\n",
      " 4   registered_via          34403 non-null  int64 \n",
      " 5   registration_init_time  34403 non-null  int64 \n",
      " 6   expiration_date         34403 non-null  int64 \n",
      "dtypes: int64(5), object(2)\n",
      "memory usage: 1.8+ MB\n"
     ]
    }
   ],
   "source": [
    "members.info()"
   ]
  },
  {
   "cell_type": "code",
   "execution_count": 3,
   "id": "a972d380a76ddd6d",
   "metadata": {
    "id": "a972d380a76ddd6d",
    "ExecuteTime": {
     "end_time": "2024-04-02T15:16:12.925011800Z",
     "start_time": "2024-04-02T15:16:12.855646200Z"
    }
   },
   "outputs": [],
   "source": [
    "def convert_to_date(date_int):\n",
    "    date_str = str(date_int)[:4]\n",
    "    return int(date_str)"
   ]
  },
  {
   "cell_type": "code",
   "execution_count": 4,
   "id": "155ff2dc1a01dff9",
   "metadata": {
    "id": "155ff2dc1a01dff9",
    "colab": {
     "base_uri": "https://localhost:8080/",
     "height": 176
    },
    "outputId": "25d487fd-f346-4250-fe36-44c7bd9340d5",
    "ExecuteTime": {
     "end_time": "2024-04-02T15:16:14.881033900Z",
     "start_time": "2024-04-02T15:16:14.808702300Z"
    }
   },
   "outputs": [],
   "source": [
    "members['registration_year'] = members['registration_init_time'].apply(convert_to_date)\n",
    "members['expiration_year'] = members['expiration_date'].apply(convert_to_date)\n",
    "members = members.drop(['registration_init_time', 'expiration_date'], axis=1)"
   ]
  },
  {
   "cell_type": "markdown",
   "source": [
    "Из признаков 'registration_year' и 'expiration_year' извлечены годы регистрации и окончания срока действия, соответственно."
   ],
   "metadata": {
    "id": "lGJbsqWNKyFl"
   },
   "id": "lGJbsqWNKyFl"
  },
  {
   "cell_type": "code",
   "execution_count": 5,
   "id": "18d34a2f6ca4083b",
   "metadata": {
    "id": "18d34a2f6ca4083b",
    "ExecuteTime": {
     "end_time": "2024-04-02T15:16:21.228796600Z",
     "start_time": "2024-04-02T15:16:21.151907300Z"
    }
   },
   "outputs": [],
   "source": [
    "gender_dummies = pd.get_dummies(members['gender'])\n",
    "members = pd.concat([members, gender_dummies], axis=1)\n",
    "members = members.drop('gender', axis=1)"
   ]
  },
  {
   "cell_type": "markdown",
   "source": [
    "Из признака \"gender\" были созданы два новых дамми-признака для пола."
   ],
   "metadata": {
    "id": "XiK2dMgdLKu2"
   },
   "id": "XiK2dMgdLKu2"
  },
  {
   "cell_type": "code",
   "execution_count": 6,
   "id": "12e638b4dd0af87f",
   "metadata": {
    "id": "12e638b4dd0af87f",
    "ExecuteTime": {
     "end_time": "2024-04-02T15:16:25.190909700Z",
     "start_time": "2024-04-02T15:16:25.120216500Z"
    }
   },
   "outputs": [],
   "source": [
    "members['bd'] = members['bd'].apply(lambda x: 0 if x >= 100 or x < 0 else x)"
   ]
  },
  {
   "cell_type": "markdown",
   "source": [
    "Этот код заменяет значения в признаке возраста на 0 в случае, если значение в столбце больше или равно 100 или меньше 0."
   ],
   "metadata": {
    "id": "JeV4CSwXLY30"
   },
   "id": "JeV4CSwXLY30"
  },
  {
   "cell_type": "code",
   "execution_count": 7,
   "id": "e9c4b67680928675",
   "metadata": {
    "id": "e9c4b67680928675",
    "ExecuteTime": {
     "end_time": "2024-04-02T15:16:28.802367600Z",
     "start_time": "2024-04-02T15:16:28.740843800Z"
    }
   },
   "outputs": [],
   "source": [
    "members['membership_years'] = members['expiration_year'] - members['registration_year']"
   ]
  },
  {
   "cell_type": "markdown",
   "id": "e6cc5ab0f3b61c0f",
   "metadata": {
    "collapsed": false,
    "id": "e6cc5ab0f3b61c0f"
   },
   "source": [
    "Добавлен новый признак, который указывает, в течение какого времени пользователь является участником."
   ]
  },
  {
   "cell_type": "markdown",
   "id": "8c663df62dca86",
   "metadata": {
    "collapsed": false,
    "id": "8c663df62dca86"
   },
   "source": [
    "### Таблица с информацией о песнях"
   ]
  },
  {
   "cell_type": "code",
   "execution_count": 8,
   "id": "1636842c17ee6761",
   "metadata": {
    "id": "1636842c17ee6761",
    "ExecuteTime": {
     "end_time": "2024-04-02T15:16:42.821749400Z",
     "start_time": "2024-04-02T15:16:36.761726800Z"
    }
   },
   "outputs": [],
   "source": [
    "songs = pd.read_csv('songs.csv')"
   ]
  },
  {
   "cell_type": "code",
   "execution_count": 10,
   "id": "656f126815d71e3f",
   "metadata": {
    "id": "656f126815d71e3f",
    "colab": {
     "base_uri": "https://localhost:8080/",
     "height": 545
    },
    "outputId": "19615122-03af-418a-8fc2-8155c4f1bc4b",
    "ExecuteTime": {
     "end_time": "2024-04-01T16:19:45.227170Z",
     "start_time": "2024-04-01T16:19:45.172926Z"
    }
   },
   "outputs": [
    {
     "data": {
      "text/plain": "                                              song_id  song_length genre_ids  \\\n0        CXoTN1eb7AI+DntdU1vbcwGRV4SCIDxZu+YD8JP8r4E=       247640       465   \n1        o0kFgae9QtnYgRkVPqLJwa05zIhRlUjfF7O1tDw0ZDU=       197328       444   \n2        DwVvVurfpuz+XPuFvucclVQEyPqcpUkHR0ne1RQzPs0=       231781       465   \n3        dKMBWoZyScdxSkihKG+Vf47nc18N9q4m58+b4e7dSSE=       273554       465   \n4        W3bqWd3T+VeHFzHAUfARgW9AvVRaF4N5Yzm4Mr6Eo/o=       140329       726   \n...                                               ...          ...       ...   \n2296315  lg6rn7eV/ZNg0+P+x77kHUL7GDMfoL4eMtXxncseLNA=        20192       958   \n2296316  nXi1lrSJe+gLoTTNky7If0mNPrIyCQCLwagwR6XopGU=       273391       465   \n2296317  9KxSvIjbJyJzfEVWnkMbgR6dyn6d54ot0N5FKyKqii8=       445172      1609   \n2296318  UO8Y2MR2sjOn2q/Tp8/lzZTGKmLEvwZ20oWanG4XnYc=       172669       465   \n2296319  V/9qPSUOGT0FeIGBhDIZRRz5Y5yyjdXC2Z/+bJExo5s=       270466       829   \n\n               artist_name                            composer     lyricist  \\\n0         張信哲 (Jeff Chang)                                  董貞          何啟弘   \n1                BLACKPINK  TEDDY|  FUTURE BOUNCE|  Bekuh BOOM        TEDDY   \n2             SUPER JUNIOR                                 NaN          NaN   \n3                    S.H.E                                 湯小康          徐世珍   \n4                     貴族精選                         Traditional  Traditional   \n...                    ...                                 ...          ...   \n2296315  Catherine Collard         Robert Schumann (1810-1856)          NaN   \n2296316  紀文惠 (Justine Chi)                                 NaN          NaN   \n2296317    Various Artists                                 NaN          NaN   \n2296318  Peter Paul & Mary                                 NaN          NaN   \n2296319      Kim Robertson                                 NaN          NaN   \n\n         language  \n0             3.0  \n1            31.0  \n2            31.0  \n3             3.0  \n4            52.0  \n...           ...  \n2296315      -1.0  \n2296316       3.0  \n2296317      52.0  \n2296318      52.0  \n2296319      52.0  \n\n[2296320 rows x 7 columns]",
      "text/html": "<div>\n<style scoped>\n    .dataframe tbody tr th:only-of-type {\n        vertical-align: middle;\n    }\n\n    .dataframe tbody tr th {\n        vertical-align: top;\n    }\n\n    .dataframe thead th {\n        text-align: right;\n    }\n</style>\n<table border=\"1\" class=\"dataframe\">\n  <thead>\n    <tr style=\"text-align: right;\">\n      <th></th>\n      <th>song_id</th>\n      <th>song_length</th>\n      <th>genre_ids</th>\n      <th>artist_name</th>\n      <th>composer</th>\n      <th>lyricist</th>\n      <th>language</th>\n    </tr>\n  </thead>\n  <tbody>\n    <tr>\n      <th>0</th>\n      <td>CXoTN1eb7AI+DntdU1vbcwGRV4SCIDxZu+YD8JP8r4E=</td>\n      <td>247640</td>\n      <td>465</td>\n      <td>張信哲 (Jeff Chang)</td>\n      <td>董貞</td>\n      <td>何啟弘</td>\n      <td>3.0</td>\n    </tr>\n    <tr>\n      <th>1</th>\n      <td>o0kFgae9QtnYgRkVPqLJwa05zIhRlUjfF7O1tDw0ZDU=</td>\n      <td>197328</td>\n      <td>444</td>\n      <td>BLACKPINK</td>\n      <td>TEDDY|  FUTURE BOUNCE|  Bekuh BOOM</td>\n      <td>TEDDY</td>\n      <td>31.0</td>\n    </tr>\n    <tr>\n      <th>2</th>\n      <td>DwVvVurfpuz+XPuFvucclVQEyPqcpUkHR0ne1RQzPs0=</td>\n      <td>231781</td>\n      <td>465</td>\n      <td>SUPER JUNIOR</td>\n      <td>NaN</td>\n      <td>NaN</td>\n      <td>31.0</td>\n    </tr>\n    <tr>\n      <th>3</th>\n      <td>dKMBWoZyScdxSkihKG+Vf47nc18N9q4m58+b4e7dSSE=</td>\n      <td>273554</td>\n      <td>465</td>\n      <td>S.H.E</td>\n      <td>湯小康</td>\n      <td>徐世珍</td>\n      <td>3.0</td>\n    </tr>\n    <tr>\n      <th>4</th>\n      <td>W3bqWd3T+VeHFzHAUfARgW9AvVRaF4N5Yzm4Mr6Eo/o=</td>\n      <td>140329</td>\n      <td>726</td>\n      <td>貴族精選</td>\n      <td>Traditional</td>\n      <td>Traditional</td>\n      <td>52.0</td>\n    </tr>\n    <tr>\n      <th>...</th>\n      <td>...</td>\n      <td>...</td>\n      <td>...</td>\n      <td>...</td>\n      <td>...</td>\n      <td>...</td>\n      <td>...</td>\n    </tr>\n    <tr>\n      <th>2296315</th>\n      <td>lg6rn7eV/ZNg0+P+x77kHUL7GDMfoL4eMtXxncseLNA=</td>\n      <td>20192</td>\n      <td>958</td>\n      <td>Catherine Collard</td>\n      <td>Robert Schumann (1810-1856)</td>\n      <td>NaN</td>\n      <td>-1.0</td>\n    </tr>\n    <tr>\n      <th>2296316</th>\n      <td>nXi1lrSJe+gLoTTNky7If0mNPrIyCQCLwagwR6XopGU=</td>\n      <td>273391</td>\n      <td>465</td>\n      <td>紀文惠 (Justine Chi)</td>\n      <td>NaN</td>\n      <td>NaN</td>\n      <td>3.0</td>\n    </tr>\n    <tr>\n      <th>2296317</th>\n      <td>9KxSvIjbJyJzfEVWnkMbgR6dyn6d54ot0N5FKyKqii8=</td>\n      <td>445172</td>\n      <td>1609</td>\n      <td>Various Artists</td>\n      <td>NaN</td>\n      <td>NaN</td>\n      <td>52.0</td>\n    </tr>\n    <tr>\n      <th>2296318</th>\n      <td>UO8Y2MR2sjOn2q/Tp8/lzZTGKmLEvwZ20oWanG4XnYc=</td>\n      <td>172669</td>\n      <td>465</td>\n      <td>Peter Paul &amp; Mary</td>\n      <td>NaN</td>\n      <td>NaN</td>\n      <td>52.0</td>\n    </tr>\n    <tr>\n      <th>2296319</th>\n      <td>V/9qPSUOGT0FeIGBhDIZRRz5Y5yyjdXC2Z/+bJExo5s=</td>\n      <td>270466</td>\n      <td>829</td>\n      <td>Kim Robertson</td>\n      <td>NaN</td>\n      <td>NaN</td>\n      <td>52.0</td>\n    </tr>\n  </tbody>\n</table>\n<p>2296320 rows × 7 columns</p>\n</div>"
     },
     "execution_count": 10,
     "metadata": {},
     "output_type": "execute_result"
    }
   ],
   "source": [
    "songs"
   ]
  },
  {
   "cell_type": "markdown",
   "id": "8ed189c185b48172",
   "metadata": {
    "collapsed": false,
    "id": "8ed189c185b48172"
   },
   "source": [
    "Признаки:\n",
    "- Идентификатор песни\n",
    "- Длина песни: в мс\n",
    "- Категория жанра: некоторые песни имеют несколько жанров и разделены знаком \"|\"\n",
    "- Имя артиста: некоторые песни имеют несколько артистов и разделены знаком \"|\"\n",
    "- Композитор: некоторые песни имеют несколько композиторов и разделены знаком \"|\"\n",
    "- Автор текстов\n",
    "- Язык"
   ]
  },
  {
   "cell_type": "code",
   "execution_count": 11,
   "id": "a835acb442e5230d",
   "metadata": {
    "id": "a835acb442e5230d",
    "outputId": "3b10e819-712a-4f11-9d97-4d2310246898",
    "colab": {
     "base_uri": "https://localhost:8080/"
    },
    "ExecuteTime": {
     "end_time": "2024-04-01T16:19:45.274205Z",
     "start_time": "2024-04-01T16:19:45.232341Z"
    }
   },
   "outputs": [
    {
     "name": "stdout",
     "output_type": "stream",
     "text": [
      "<class 'pandas.core.frame.DataFrame'>\n",
      "RangeIndex: 2296320 entries, 0 to 2296319\n",
      "Data columns (total 7 columns):\n",
      " #   Column       Dtype  \n",
      "---  ------       -----  \n",
      " 0   song_id      object \n",
      " 1   song_length  int64  \n",
      " 2   genre_ids    object \n",
      " 3   artist_name  object \n",
      " 4   composer     object \n",
      " 5   lyricist     object \n",
      " 6   language     float64\n",
      "dtypes: float64(1), int64(1), object(5)\n",
      "memory usage: 122.6+ MB\n"
     ]
    }
   ],
   "source": [
    "songs.info()"
   ]
  },
  {
   "cell_type": "code",
   "execution_count": 12,
   "id": "3fc1250df79be2fc",
   "metadata": {
    "id": "3fc1250df79be2fc",
    "outputId": "1f4b09c5-bfcc-4c0f-dd30-3cb39bc62936",
    "colab": {
     "base_uri": "https://localhost:8080/"
    },
    "ExecuteTime": {
     "end_time": "2024-04-01T16:19:47.539788Z",
     "start_time": "2024-04-01T16:19:45.277382Z"
    }
   },
   "outputs": [
    {
     "data": {
      "text/plain": "song_id              0\nsong_length          0\ngenre_ids        94116\nartist_name          0\ncomposer       1071354\nlyricist       1945268\nlanguage             1\ndtype: int64"
     },
     "execution_count": 12,
     "metadata": {},
     "output_type": "execute_result"
    }
   ],
   "source": [
    "songs.isna().sum()"
   ]
  },
  {
   "cell_type": "code",
   "execution_count": 9,
   "id": "bde88d0e51eb2ae6",
   "metadata": {
    "id": "bde88d0e51eb2ae6",
    "ExecuteTime": {
     "end_time": "2024-04-02T15:16:53.654832800Z",
     "start_time": "2024-04-02T15:16:53.570029300Z"
    }
   },
   "outputs": [],
   "source": [
    "songs['language'].dropna(inplace=True)"
   ]
  },
  {
   "cell_type": "markdown",
   "source": [
    "Удалены пропуски из признака 'language'."
   ],
   "metadata": {
    "id": "m0ylvp3iLqh3"
   },
   "id": "m0ylvp3iLqh3"
  },
  {
   "cell_type": "code",
   "execution_count": 14,
   "id": "39f30800445c4f00",
   "metadata": {
    "id": "39f30800445c4f00",
    "outputId": "2f5fc337-f951-41d6-ecb1-c625160efd09",
    "colab": {
     "base_uri": "https://localhost:8080/"
    },
    "ExecuteTime": {
     "end_time": "2024-04-01T16:19:47.617836Z",
     "start_time": "2024-04-01T16:19:47.588348Z"
    }
   },
   "outputs": [
    {
     "name": "stdout",
     "output_type": "stream",
     "text": [
      "<class 'pandas.core.frame.DataFrame'>\n",
      "RangeIndex: 2296320 entries, 0 to 2296319\n",
      "Data columns (total 7 columns):\n",
      " #   Column       Dtype  \n",
      "---  ------       -----  \n",
      " 0   song_id      object \n",
      " 1   song_length  int64  \n",
      " 2   genre_ids    object \n",
      " 3   artist_name  object \n",
      " 4   composer     object \n",
      " 5   lyricist     object \n",
      " 6   language     float64\n",
      "dtypes: float64(1), int64(1), object(5)\n",
      "memory usage: 122.6+ MB\n"
     ]
    }
   ],
   "source": [
    "songs.info()"
   ]
  },
  {
   "cell_type": "code",
   "outputs": [],
   "source": [
    "gnr_list = songs['genre_ids'].dropna().str.split('|')\n",
    "genre_counts = {}\n",
    "\n",
    "for genres in gnr_list:\n",
    "    for genre in genres:\n",
    "        if genre in genre_counts:\n",
    "            genre_counts[genre] += 1\n",
    "        else:\n",
    "            genre_counts[genre] = 1\n",
    "\n",
    "top_5_genres = sorted(genre_counts, key=genre_counts.get, reverse=True)[:5]\n",
    "\n",
    "for genre in top_5_genres:\n",
    "    songs[f'genre_{genre}'] = songs['genre_ids'].fillna('').str.contains(genre).astype(int)"
   ],
   "metadata": {
    "id": "8652f70ec7dd8abd",
    "ExecuteTime": {
     "end_time": "2024-04-02T15:17:07.121397600Z",
     "start_time": "2024-04-02T15:17:00.363548200Z"
    }
   },
   "id": "8652f70ec7dd8abd",
   "execution_count": 10
  },
  {
   "cell_type": "markdown",
   "source": [
    "Добавлены 5 новых дамми-признаков для пяти наиболее популярных жанров."
   ],
   "metadata": {
    "id": "cb6L3u0kLwOC"
   },
   "id": "cb6L3u0kLwOC"
  },
  {
   "cell_type": "code",
   "outputs": [],
   "source": [
    "comp_list = songs['composer'].dropna().str.split('|')\n",
    "comp_counts = {}\n",
    "\n",
    "for comps in comp_list:\n",
    "    for comp in comps:\n",
    "        if comp in comp_counts:\n",
    "            comp_counts[comp] += 1\n",
    "        else:\n",
    "            comp_counts[comp] = 1\n",
    "\n",
    "top_5_composers = sorted(comp_counts, key=comp_counts.get, reverse=True)[:5]\n",
    "\n",
    "for i in top_5_composers:\n",
    "    songs[f'{i}'] = songs['composer'].fillna('').str.contains(i).astype(int)"
   ],
   "metadata": {
    "id": "a94309ef8f5ee2b4",
    "ExecuteTime": {
     "end_time": "2024-04-02T15:17:18.809592900Z",
     "start_time": "2024-04-02T15:17:11.434428700Z"
    }
   },
   "id": "a94309ef8f5ee2b4",
   "execution_count": 11
  },
  {
   "cell_type": "code",
   "outputs": [],
   "source": [
    "lyr_list = songs['lyricist'].dropna().str.split('|')\n",
    "lyr_counts = {}\n",
    "\n",
    "for lyrics in lyr_list:\n",
    "    for lyr in lyrics:\n",
    "        if lyr in lyr_counts:\n",
    "            lyr_counts[lyr] += 1\n",
    "        else:\n",
    "            lyr_counts[lyr] = 1\n",
    "\n",
    "top_5_lyricists = sorted(lyr_counts, key=lyr_counts.get, reverse=True)[:5]\n",
    "\n",
    "for i in top_5_lyricists:\n",
    "    songs[f'{i}'] = songs['lyricist'].fillna('').str.contains(i).astype(int)"
   ],
   "metadata": {
    "id": "972ceb8447f9cb92",
    "ExecuteTime": {
     "end_time": "2024-04-02T15:17:26.567056300Z",
     "start_time": "2024-04-02T15:17:20.806071600Z"
    }
   },
   "id": "972ceb8447f9cb92",
   "execution_count": 12
  },
  {
   "cell_type": "markdown",
   "source": [
    "Аналогично для признаков 'composer' и 'lyricist'."
   ],
   "metadata": {
    "id": "Pe7fuzxLL9bk"
   },
   "id": "Pe7fuzxLL9bk"
  },
  {
   "cell_type": "markdown",
   "id": "507e0f91b8d1d9e3",
   "metadata": {
    "collapsed": false,
    "id": "507e0f91b8d1d9e3"
   },
   "source": [
    "### Таблица с дополнительной информацией о песнях"
   ]
  },
  {
   "cell_type": "code",
   "execution_count": 13,
   "id": "e2237cd4528ce23e",
   "metadata": {
    "id": "e2237cd4528ce23e",
    "ExecuteTime": {
     "end_time": "2024-04-02T15:17:45.348873800Z",
     "start_time": "2024-04-02T15:17:39.982964700Z"
    }
   },
   "outputs": [],
   "source": [
    "song_extra = pd.read_csv('song_extra_info.csv')"
   ]
  },
  {
   "cell_type": "code",
   "execution_count": 14,
   "id": "da7da1cd7aa259b4",
   "metadata": {
    "colab": {
     "base_uri": "https://localhost:8080/",
     "height": 423
    },
    "id": "da7da1cd7aa259b4",
    "outputId": "0cadaaf0-0669-462d-e27f-50e301ba4357",
    "ExecuteTime": {
     "end_time": "2024-04-01T20:23:16.720112Z",
     "start_time": "2024-04-01T20:23:16.692552Z"
    }
   },
   "outputs": [
    {
     "data": {
      "text/plain": "                                              song_id  \\\n0        LP7pLJoJFBvyuUwvu+oLzjT+bI+UeBPURCecJsX1jjs=   \n1        ClazTFnk6r0Bnuie44bocdNMM3rdlrq0bCGAsGUWcHE=   \n2        u2ja/bZE3zhCGxvbbOB3zOoUjx27u40cf5g09UXMoKQ=   \n3        92Fqsy0+p6+RHe2EoLKjHahORHR1Kq1TBJoClW9v+Ts=   \n4        0QFmz/+rJy1Q56C1DuYqT9hKKqi5TUqx0sN0IwvoHrw=   \n...                                               ...   \n2295966  hLnetpF6UbPg28sSfXnPE2vsdaGsLvddlXEdJR4VTIA=   \n2295967  N+6vJ8actKQm0S3Fpf4elipTjoAo9ev28aA5FJN5e40=   \n2295968  pv35uG0ts05mWtirM/AMOWEzbHxIVart5ZzRXqKUY1c=   \n2295969  QSySnm8jt2Go7byY34/PxsZP6dPCins2j2cyYquNhBo=   \n2295970  DYKJKSgDOKxb19XzOVO81176qTH0OIHCsfzFRm/BG+g=   \n\n                              name          isrc  \n0                               我們  TWUM71200043  \n1                  Let Me Love You  QMZSY1600015  \n2                              原諒我  TWA530887303  \n3                          Classic  USSM11301446  \n4                             愛投羅網  TWA471306001  \n...                            ...           ...  \n2295966             Deep Breathing  PLL431720793  \n2295967                  In Hiding  US5UL1519827  \n2295968  Il Est Ne Le Divin Enfant  PLL431502294  \n2295969            The Exodus Song  DEPZ69316095  \n2295970                  Like This  US5UL1512426  \n\n[2295971 rows x 3 columns]",
      "text/html": "<div>\n<style scoped>\n    .dataframe tbody tr th:only-of-type {\n        vertical-align: middle;\n    }\n\n    .dataframe tbody tr th {\n        vertical-align: top;\n    }\n\n    .dataframe thead th {\n        text-align: right;\n    }\n</style>\n<table border=\"1\" class=\"dataframe\">\n  <thead>\n    <tr style=\"text-align: right;\">\n      <th></th>\n      <th>song_id</th>\n      <th>name</th>\n      <th>isrc</th>\n    </tr>\n  </thead>\n  <tbody>\n    <tr>\n      <th>0</th>\n      <td>LP7pLJoJFBvyuUwvu+oLzjT+bI+UeBPURCecJsX1jjs=</td>\n      <td>我們</td>\n      <td>TWUM71200043</td>\n    </tr>\n    <tr>\n      <th>1</th>\n      <td>ClazTFnk6r0Bnuie44bocdNMM3rdlrq0bCGAsGUWcHE=</td>\n      <td>Let Me Love You</td>\n      <td>QMZSY1600015</td>\n    </tr>\n    <tr>\n      <th>2</th>\n      <td>u2ja/bZE3zhCGxvbbOB3zOoUjx27u40cf5g09UXMoKQ=</td>\n      <td>原諒我</td>\n      <td>TWA530887303</td>\n    </tr>\n    <tr>\n      <th>3</th>\n      <td>92Fqsy0+p6+RHe2EoLKjHahORHR1Kq1TBJoClW9v+Ts=</td>\n      <td>Classic</td>\n      <td>USSM11301446</td>\n    </tr>\n    <tr>\n      <th>4</th>\n      <td>0QFmz/+rJy1Q56C1DuYqT9hKKqi5TUqx0sN0IwvoHrw=</td>\n      <td>愛投羅網</td>\n      <td>TWA471306001</td>\n    </tr>\n    <tr>\n      <th>...</th>\n      <td>...</td>\n      <td>...</td>\n      <td>...</td>\n    </tr>\n    <tr>\n      <th>2295966</th>\n      <td>hLnetpF6UbPg28sSfXnPE2vsdaGsLvddlXEdJR4VTIA=</td>\n      <td>Deep Breathing</td>\n      <td>PLL431720793</td>\n    </tr>\n    <tr>\n      <th>2295967</th>\n      <td>N+6vJ8actKQm0S3Fpf4elipTjoAo9ev28aA5FJN5e40=</td>\n      <td>In Hiding</td>\n      <td>US5UL1519827</td>\n    </tr>\n    <tr>\n      <th>2295968</th>\n      <td>pv35uG0ts05mWtirM/AMOWEzbHxIVart5ZzRXqKUY1c=</td>\n      <td>Il Est Ne Le Divin Enfant</td>\n      <td>PLL431502294</td>\n    </tr>\n    <tr>\n      <th>2295969</th>\n      <td>QSySnm8jt2Go7byY34/PxsZP6dPCins2j2cyYquNhBo=</td>\n      <td>The Exodus Song</td>\n      <td>DEPZ69316095</td>\n    </tr>\n    <tr>\n      <th>2295970</th>\n      <td>DYKJKSgDOKxb19XzOVO81176qTH0OIHCsfzFRm/BG+g=</td>\n      <td>Like This</td>\n      <td>US5UL1512426</td>\n    </tr>\n  </tbody>\n</table>\n<p>2295971 rows × 3 columns</p>\n</div>"
     },
     "execution_count": 14,
     "metadata": {},
     "output_type": "execute_result"
    }
   ],
   "source": [
    "song_extra"
   ]
  },
  {
   "cell_type": "markdown",
   "id": "92a305d6896ac4a8",
   "metadata": {
    "collapsed": false,
    "id": "92a305d6896ac4a8"
   },
   "source": [
    "Признаки:\n",
    "- Идентификатор песни\n",
    "- Название песни\n",
    "- Международный стандартный код записи"
   ]
  },
  {
   "cell_type": "code",
   "execution_count": 15,
   "id": "9570aad38598f401",
   "metadata": {
    "id": "9570aad38598f401",
    "outputId": "33732c97-e547-4c49-e650-e5af440b91f9",
    "colab": {
     "base_uri": "https://localhost:8080/"
    },
    "ExecuteTime": {
     "end_time": "2024-04-01T20:23:40.591861Z",
     "start_time": "2024-04-01T20:23:40.547099Z"
    }
   },
   "outputs": [
    {
     "name": "stdout",
     "output_type": "stream",
     "text": [
      "<class 'pandas.core.frame.DataFrame'>\n",
      "RangeIndex: 2295971 entries, 0 to 2295970\n",
      "Data columns (total 3 columns):\n",
      " #   Column   Dtype \n",
      "---  ------   ----- \n",
      " 0   song_id  object\n",
      " 1   name     object\n",
      " 2   isrc     object\n",
      "dtypes: object(3)\n",
      "memory usage: 52.6+ MB\n"
     ]
    }
   ],
   "source": [
    "song_extra.info()"
   ]
  },
  {
   "cell_type": "code",
   "execution_count": 21,
   "id": "2f0159d3776232b2",
   "metadata": {
    "id": "2f0159d3776232b2",
    "outputId": "ae08a59e-b40f-4fdb-a680-0a0d2f044f54",
    "colab": {
     "base_uri": "https://localhost:8080/"
    },
    "ExecuteTime": {
     "end_time": "2024-04-01T16:22:06.296006Z",
     "start_time": "2024-04-01T16:22:04.080282Z"
    }
   },
   "outputs": [
    {
     "data": {
      "text/plain": "song_id         0\nname            2\nisrc       136548\ndtype: int64"
     },
     "execution_count": 21,
     "metadata": {},
     "output_type": "execute_result"
    }
   ],
   "source": [
    "song_extra.isna().sum()"
   ]
  },
  {
   "cell_type": "code",
   "execution_count": 14,
   "id": "51eb3b8cfe15bbe0",
   "metadata": {
    "id": "51eb3b8cfe15bbe0",
    "ExecuteTime": {
     "end_time": "2024-04-02T15:17:51.739408100Z",
     "start_time": "2024-04-02T15:17:51.634247400Z"
    }
   },
   "outputs": [],
   "source": [
    "def get_year(isrc):\n",
    "    if pd.isnull(isrc):\n",
    "        return int(0)\n",
    "    else:\n",
    "        if int(str(isrc)[5:7]) > 17:\n",
    "            year =  1900+int(str(isrc)[5:7])\n",
    "        else:\n",
    "            year = 2000+int(isrc[5:7])\n",
    "        return int(year)"
   ]
  },
  {
   "cell_type": "code",
   "execution_count": 15,
   "id": "d4bbfdbc1279734",
   "metadata": {
    "id": "d4bbfdbc1279734",
    "ExecuteTime": {
     "end_time": "2024-04-02T15:17:59.377760Z",
     "start_time": "2024-04-02T15:17:55.743859900Z"
    }
   },
   "outputs": [],
   "source": [
    "song_extra['year'] = song_extra['isrc'].apply(lambda x: get_year(x))"
   ]
  },
  {
   "cell_type": "markdown",
   "id": "4024ddeca215a4e5",
   "metadata": {
    "collapsed": false,
    "id": "4024ddeca215a4e5"
   },
   "source": [
    "Добавлен новый признак - год выпуска песни, извлеченный из признака Международного стандартного кода записи."
   ]
  },
  {
   "cell_type": "code",
   "execution_count": 16,
   "id": "886c2bb63fb66b96",
   "metadata": {
    "id": "886c2bb63fb66b96",
    "ExecuteTime": {
     "end_time": "2024-04-02T15:18:01.623707900Z",
     "start_time": "2024-04-02T15:18:01.528301800Z"
    }
   },
   "outputs": [],
   "source": [
    "def get_country(isrc):\n",
    "    if pd.isna(isrc):\n",
    "        return str('')\n",
    "    else:\n",
    "        return str(isrc[:2])"
   ]
  },
  {
   "cell_type": "code",
   "execution_count": 17,
   "id": "249b6bc7a4e1191d",
   "metadata": {
    "id": "249b6bc7a4e1191d",
    "ExecuteTime": {
     "end_time": "2024-04-02T15:18:06.246739Z",
     "start_time": "2024-04-02T15:18:03.706803800Z"
    }
   },
   "outputs": [],
   "source": [
    "song_extra['country_code'] = song_extra['isrc'].apply(lambda x: get_country(x))"
   ]
  },
  {
   "cell_type": "markdown",
   "source": [
    "Добавлен новый признак - код страны, выпустившей песню, извлеченный из признака Международного стандартного кода записи."
   ],
   "metadata": {
    "id": "YAD3ojAyMYk_"
   },
   "id": "YAD3ojAyMYk_"
  },
  {
   "cell_type": "code",
   "execution_count": 18,
   "id": "4a2e99918ec359c6",
   "metadata": {
    "id": "4a2e99918ec359c6",
    "ExecuteTime": {
     "end_time": "2024-04-02T15:18:15.294591400Z",
     "start_time": "2024-04-02T15:18:10.055381500Z"
    }
   },
   "outputs": [],
   "source": [
    "songs = songs.merge(song_extra, how='left', on='song_id')"
   ]
  },
  {
   "cell_type": "markdown",
   "id": "350da5a9a2f28067",
   "metadata": {
    "collapsed": false,
    "id": "350da5a9a2f28067"
   },
   "source": [
    "К таблице \"songs\" присоединена таблица \"song_extra\"."
   ]
  },
  {
   "cell_type": "markdown",
   "id": "14856c8a04dcfcad",
   "metadata": {
    "collapsed": false,
    "id": "14856c8a04dcfcad"
   },
   "source": [
    "### Обучающие и тестовые данные"
   ]
  },
  {
   "cell_type": "code",
   "execution_count": 19,
   "id": "e1dc0e3760e369a8",
   "metadata": {
    "id": "e1dc0e3760e369a8",
    "ExecuteTime": {
     "end_time": "2024-04-02T15:18:35.847501400Z",
     "start_time": "2024-04-02T15:18:22.947464400Z"
    }
   },
   "outputs": [],
   "source": [
    "train = pd.read_csv('train.csv')\n",
    "test = pd.read_csv('test.csv')"
   ]
  },
  {
   "cell_type": "code",
   "execution_count": 20,
   "id": "b212afb502501608",
   "metadata": {
    "id": "b212afb502501608",
    "outputId": "55ee38c6-68a5-4a1e-bb02-b5fbde4961fc",
    "colab": {
     "base_uri": "https://localhost:8080/",
     "height": 530
    },
    "ExecuteTime": {
     "end_time": "2024-04-01T16:49:23.533295Z",
     "start_time": "2024-04-01T16:49:17.850024Z"
    }
   },
   "outputs": [
    {
     "data": {
      "text/plain": "                                                 msno  \\\n0        FGtllVqz18RPiwJj/edr2gV78zirAiY/9SmYvia+kCg=   \n1        Xumu+NIjS6QYVxDS4/t3SawvJ7viT9hPKXmf0RtLNx8=   \n2        Xumu+NIjS6QYVxDS4/t3SawvJ7viT9hPKXmf0RtLNx8=   \n3        Xumu+NIjS6QYVxDS4/t3SawvJ7viT9hPKXmf0RtLNx8=   \n4        FGtllVqz18RPiwJj/edr2gV78zirAiY/9SmYvia+kCg=   \n...                                               ...   \n7377413  6xdFzPlrasIDD95mQWXVC3Bg4ptnGYtBl4ztVEZMddU=   \n7377414  ZxbVmt3Kh/XOH+h58c2Kdj6SjFZk+wnUO006IgWzMQE=   \n7377415  ZxbVmt3Kh/XOH+h58c2Kdj6SjFZk+wnUO006IgWzMQE=   \n7377416  0aH4Hd3ziPSRHClRX8rkeOEaAG5EPPkW1mKGCdXEok0=   \n7377417  0aH4Hd3ziPSRHClRX8rkeOEaAG5EPPkW1mKGCdXEok0=   \n\n                                              song_id source_system_tab  \\\n0        BBzumQNXUHKdEBOB7mAJuzok+IJA1c2Ryg/yzTF6tik=           explore   \n1        bhp/MpSNoqoxOIB+/l8WPqu6jldth4DIpCm3ayXnJqM=        my library   \n2        JNWfrrC7zNN7BdMpsISKa4Mw+xVJYNnxXh3/Epw7QgY=        my library   \n3        2A87tzfnJTSWqD7gIZHisolhe4DMdzkbd6LzO1KHjNs=        my library   \n4        3qm6XTZ6MOCU11x8FIVbAGH5l5uMkT3/ZalWG1oo2Gc=           explore   \n...                                               ...               ...   \n7377413  VJTxizih/o28kXCbtPbIyWXScoXGvxyYtl6R+0YB5JM=        my library   \n7377414  z1mqaU9YOX7T/PFDvUoWozdFq7rC3KwaQP7nFVprjMI=            search   \n7377415  750RprmFfLV0bymtDH88g24pLZGVi5VpBAI300P6UOA=            search   \n7377416  G8wgqObgeAMER/rVCIlgcNeQ8mm0CzF/GsxiMK8TTnA=          discover   \n7377417  Ju0VGkjWeBUZCd7r5Az2hUImhMoWxWLUicOedsmvG0g=          discover   \n\n          source_screen_name      source_type  target  \n0                    Explore  online-playlist       1  \n1        Local playlist more   local-playlist       1  \n2        Local playlist more   local-playlist       1  \n3        Local playlist more   local-playlist       1  \n4                    Explore  online-playlist       1  \n...                      ...              ...     ...  \n7377413  Local playlist more   local-playlist       1  \n7377414               Search             song       0  \n7377415               Search             song       1  \n7377416       Discover Genre  online-playlist       1  \n7377417       Discover Genre  online-playlist       1  \n\n[7377418 rows x 6 columns]",
      "text/html": "<div>\n<style scoped>\n    .dataframe tbody tr th:only-of-type {\n        vertical-align: middle;\n    }\n\n    .dataframe tbody tr th {\n        vertical-align: top;\n    }\n\n    .dataframe thead th {\n        text-align: right;\n    }\n</style>\n<table border=\"1\" class=\"dataframe\">\n  <thead>\n    <tr style=\"text-align: right;\">\n      <th></th>\n      <th>msno</th>\n      <th>song_id</th>\n      <th>source_system_tab</th>\n      <th>source_screen_name</th>\n      <th>source_type</th>\n      <th>target</th>\n    </tr>\n  </thead>\n  <tbody>\n    <tr>\n      <th>0</th>\n      <td>FGtllVqz18RPiwJj/edr2gV78zirAiY/9SmYvia+kCg=</td>\n      <td>BBzumQNXUHKdEBOB7mAJuzok+IJA1c2Ryg/yzTF6tik=</td>\n      <td>explore</td>\n      <td>Explore</td>\n      <td>online-playlist</td>\n      <td>1</td>\n    </tr>\n    <tr>\n      <th>1</th>\n      <td>Xumu+NIjS6QYVxDS4/t3SawvJ7viT9hPKXmf0RtLNx8=</td>\n      <td>bhp/MpSNoqoxOIB+/l8WPqu6jldth4DIpCm3ayXnJqM=</td>\n      <td>my library</td>\n      <td>Local playlist more</td>\n      <td>local-playlist</td>\n      <td>1</td>\n    </tr>\n    <tr>\n      <th>2</th>\n      <td>Xumu+NIjS6QYVxDS4/t3SawvJ7viT9hPKXmf0RtLNx8=</td>\n      <td>JNWfrrC7zNN7BdMpsISKa4Mw+xVJYNnxXh3/Epw7QgY=</td>\n      <td>my library</td>\n      <td>Local playlist more</td>\n      <td>local-playlist</td>\n      <td>1</td>\n    </tr>\n    <tr>\n      <th>3</th>\n      <td>Xumu+NIjS6QYVxDS4/t3SawvJ7viT9hPKXmf0RtLNx8=</td>\n      <td>2A87tzfnJTSWqD7gIZHisolhe4DMdzkbd6LzO1KHjNs=</td>\n      <td>my library</td>\n      <td>Local playlist more</td>\n      <td>local-playlist</td>\n      <td>1</td>\n    </tr>\n    <tr>\n      <th>4</th>\n      <td>FGtllVqz18RPiwJj/edr2gV78zirAiY/9SmYvia+kCg=</td>\n      <td>3qm6XTZ6MOCU11x8FIVbAGH5l5uMkT3/ZalWG1oo2Gc=</td>\n      <td>explore</td>\n      <td>Explore</td>\n      <td>online-playlist</td>\n      <td>1</td>\n    </tr>\n    <tr>\n      <th>...</th>\n      <td>...</td>\n      <td>...</td>\n      <td>...</td>\n      <td>...</td>\n      <td>...</td>\n      <td>...</td>\n    </tr>\n    <tr>\n      <th>7377413</th>\n      <td>6xdFzPlrasIDD95mQWXVC3Bg4ptnGYtBl4ztVEZMddU=</td>\n      <td>VJTxizih/o28kXCbtPbIyWXScoXGvxyYtl6R+0YB5JM=</td>\n      <td>my library</td>\n      <td>Local playlist more</td>\n      <td>local-playlist</td>\n      <td>1</td>\n    </tr>\n    <tr>\n      <th>7377414</th>\n      <td>ZxbVmt3Kh/XOH+h58c2Kdj6SjFZk+wnUO006IgWzMQE=</td>\n      <td>z1mqaU9YOX7T/PFDvUoWozdFq7rC3KwaQP7nFVprjMI=</td>\n      <td>search</td>\n      <td>Search</td>\n      <td>song</td>\n      <td>0</td>\n    </tr>\n    <tr>\n      <th>7377415</th>\n      <td>ZxbVmt3Kh/XOH+h58c2Kdj6SjFZk+wnUO006IgWzMQE=</td>\n      <td>750RprmFfLV0bymtDH88g24pLZGVi5VpBAI300P6UOA=</td>\n      <td>search</td>\n      <td>Search</td>\n      <td>song</td>\n      <td>1</td>\n    </tr>\n    <tr>\n      <th>7377416</th>\n      <td>0aH4Hd3ziPSRHClRX8rkeOEaAG5EPPkW1mKGCdXEok0=</td>\n      <td>G8wgqObgeAMER/rVCIlgcNeQ8mm0CzF/GsxiMK8TTnA=</td>\n      <td>discover</td>\n      <td>Discover Genre</td>\n      <td>online-playlist</td>\n      <td>1</td>\n    </tr>\n    <tr>\n      <th>7377417</th>\n      <td>0aH4Hd3ziPSRHClRX8rkeOEaAG5EPPkW1mKGCdXEok0=</td>\n      <td>Ju0VGkjWeBUZCd7r5Az2hUImhMoWxWLUicOedsmvG0g=</td>\n      <td>discover</td>\n      <td>Discover Genre</td>\n      <td>online-playlist</td>\n      <td>1</td>\n    </tr>\n  </tbody>\n</table>\n<p>7377418 rows × 6 columns</p>\n</div>"
     },
     "execution_count": 20,
     "metadata": {},
     "output_type": "execute_result"
    }
   ],
   "source": [
    "train"
   ]
  },
  {
   "cell_type": "markdown",
   "id": "5b50d2b8dc7bb039",
   "metadata": {
    "collapsed": false,
    "id": "5b50d2b8dc7bb039"
   },
   "source": [
    "Признаки:\n",
    "- Идентификатор пользователя\n",
    "- Идентификатор песни\n",
    "- source_system_tab: Имя вкладки, на которой было вызвано событие. Например, вкладка «Моя библиотека» содержит функции для управления локальным хранилищем, а вкладка «Поиск» содержит функции, относящиеся к поиску.\n",
    "- source_screen_name: имя макета, который видит пользователь.\n",
    "- source_type: точка входа, где пользователь впервые воспроизводит музыку в мобильных приложениях. Точкой входа может быть альбом, онлайн-плейлист, песня и т. д.\n",
    "- Целевая переменная. target=1 означает, что в течение месяца после самого первого наблюдаемого пользователем прослушивания происходят повторяющиеся события прослушивания, в противном случае target=0."
   ]
  },
  {
   "cell_type": "code",
   "execution_count": 29,
   "id": "aad440b27f1b0635",
   "metadata": {
    "id": "aad440b27f1b0635",
    "outputId": "fefd29a7-7c29-4072-f98b-9febc32dd560",
    "colab": {
     "base_uri": "https://localhost:8080/"
    },
    "ExecuteTime": {
     "end_time": "2024-04-01T16:25:46.243469Z",
     "start_time": "2024-04-01T16:25:45.576548Z"
    }
   },
   "outputs": [
    {
     "name": "stdout",
     "output_type": "stream",
     "text": [
      "<class 'pandas.core.frame.DataFrame'>\n",
      "RangeIndex: 7377418 entries, 0 to 7377417\n",
      "Data columns (total 6 columns):\n",
      " #   Column              Dtype \n",
      "---  ------              ----- \n",
      " 0   msno                object\n",
      " 1   song_id             object\n",
      " 2   source_system_tab   object\n",
      " 3   source_screen_name  object\n",
      " 4   source_type         object\n",
      " 5   target              int64 \n",
      "dtypes: int64(1), object(5)\n",
      "memory usage: 337.7+ MB\n"
     ]
    }
   ],
   "source": [
    "train.info()"
   ]
  },
  {
   "cell_type": "code",
   "execution_count": 30,
   "id": "b14f691465ecd274",
   "metadata": {
    "id": "b14f691465ecd274",
    "outputId": "72a3f167-2aa3-435b-e95a-bea0765d5ca3",
    "colab": {
     "base_uri": "https://localhost:8080/"
    },
    "ExecuteTime": {
     "end_time": "2024-04-01T16:25:52.696183Z",
     "start_time": "2024-04-01T16:25:46.245576Z"
    }
   },
   "outputs": [
    {
     "data": {
      "text/plain": "msno                       0\nsong_id                    0\nsource_system_tab      24849\nsource_screen_name    414804\nsource_type            21539\ntarget                     0\ndtype: int64"
     },
     "execution_count": 30,
     "metadata": {},
     "output_type": "execute_result"
    }
   ],
   "source": [
    "train.isna().sum()"
   ]
  },
  {
   "cell_type": "code",
   "execution_count": 20,
   "id": "58183724eaf4393f",
   "metadata": {
    "id": "58183724eaf4393f",
    "ExecuteTime": {
     "end_time": "2024-04-02T15:18:43.962524Z",
     "start_time": "2024-04-02T15:18:43.498752200Z"
    }
   },
   "outputs": [],
   "source": [
    "train['source_screen_name'] = train['source_screen_name'].fillna('Unknown')"
   ]
  },
  {
   "cell_type": "markdown",
   "source": [
    "Строки в признаке 'source_screen_name' заполнены значением 'Unknown', если в них присутствуют пропущенные значения."
   ],
   "metadata": {
    "id": "zfLuWVvKMkkA"
   },
   "id": "zfLuWVvKMkkA"
  },
  {
   "cell_type": "code",
   "execution_count": 21,
   "id": "6de3e547ec2ad8fe",
   "metadata": {
    "id": "6de3e547ec2ad8fe",
    "ExecuteTime": {
     "end_time": "2024-04-02T15:19:03.481032400Z",
     "start_time": "2024-04-02T15:18:47.056016900Z"
    }
   },
   "outputs": [],
   "source": [
    "train['source_type'] = train.groupby('msno')['source_type'].transform(lambda x: x.fillna(x.mode().iloc[0]) if not x.dropna().empty else x)"
   ]
  },
  {
   "cell_type": "markdown",
   "id": "444d04c3b196a7d5",
   "metadata": {
    "collapsed": false,
    "id": "444d04c3b196a7d5"
   },
   "source": [
    "Пропуски в признаке точка входа заполнены самым часто встречающимся значением."
   ]
  },
  {
   "cell_type": "code",
   "execution_count": 88,
   "id": "5711a2f6f9eb79e7",
   "metadata": {
    "id": "5711a2f6f9eb79e7",
    "outputId": "d9cc6448-c0b3-4508-e9e7-b024ac81ca24",
    "colab": {
     "base_uri": "https://localhost:8080/"
    },
    "ExecuteTime": {
     "end_time": "2024-04-01T08:17:09.049367Z",
     "start_time": "2024-04-01T08:17:08.502097Z"
    }
   },
   "outputs": [
    {
     "output_type": "execute_result",
     "data": {
      "text/plain": [
       "0.0030963380434340833"
      ]
     },
     "metadata": {},
     "execution_count": 88
    }
   ],
   "source": [
    "train['source_system_tab'].isna().sum() / len(train)"
   ]
  },
  {
   "cell_type": "code",
   "execution_count": 22,
   "id": "a525abf55ffd937e",
   "metadata": {
    "id": "a525abf55ffd937e",
    "ExecuteTime": {
     "end_time": "2024-04-02T15:19:35.506879600Z",
     "start_time": "2024-04-02T15:19:34.671114900Z"
    }
   },
   "outputs": [],
   "source": [
    "train.dropna(subset=['source_system_tab'], inplace=True)"
   ]
  },
  {
   "cell_type": "markdown",
   "id": "5e5bf8376dccc9a0",
   "metadata": {
    "collapsed": false,
    "id": "5e5bf8376dccc9a0"
   },
   "source": [
    "Пропущенные значения в признаке \"source_system_tab\" удалены, так как они составляют менее 10% от объема всех данных."
   ]
  },
  {
   "cell_type": "code",
   "execution_count": 23,
   "id": "486ff4950d8e8972",
   "metadata": {
    "id": "486ff4950d8e8972",
    "ExecuteTime": {
     "end_time": "2024-04-02T15:19:38.369243Z",
     "start_time": "2024-04-02T15:19:38.277122200Z"
    }
   },
   "outputs": [],
   "source": [
    "def merged_data(data, members, songs):\n",
    "    data = data.merge(members, how='left', on='msno')\n",
    "    data = data.merge(songs, how='left', on='song_id')\n",
    "    return data"
   ]
  },
  {
   "cell_type": "code",
   "execution_count": 24,
   "id": "e5d50425f446e070",
   "metadata": {
    "id": "e5d50425f446e070",
    "ExecuteTime": {
     "end_time": "2024-04-02T15:19:58.542431Z",
     "start_time": "2024-04-02T15:19:40.493475500Z"
    }
   },
   "outputs": [],
   "source": [
    "data_train = merged_data(train, members, songs)"
   ]
  },
  {
   "cell_type": "markdown",
   "id": "78541eb3cda035",
   "metadata": {
    "collapsed": false,
    "id": "78541eb3cda035"
   },
   "source": [
    "Данные объединены в общую таблицу."
   ]
  },
  {
   "cell_type": "code",
   "execution_count": 92,
   "id": "cfa0e46469bda6b2",
   "metadata": {
    "id": "cfa0e46469bda6b2",
    "outputId": "153714e7-fd53-46a6-9a08-04a8f290646d",
    "colab": {
     "base_uri": "https://localhost:8080/"
    }
   },
   "outputs": [
    {
     "output_type": "execute_result",
     "data": {
      "text/plain": [
       "0"
      ]
     },
     "metadata": {},
     "execution_count": 92
    }
   ],
   "source": [
    "data_train.duplicated().sum()"
   ]
  },
  {
   "cell_type": "markdown",
   "source": [
    "В данных не обнаружено дубликатов."
   ],
   "metadata": {
    "id": "YJ4zK8wpM9Mj"
   },
   "id": "YJ4zK8wpM9Mj"
  },
  {
   "cell_type": "code",
   "execution_count": 27,
   "id": "b4e28b0e9aefa473",
   "metadata": {
    "id": "b4e28b0e9aefa473",
    "outputId": "908eb876-368f-4690-870e-0cbfa6ddb6ce",
    "colab": {
     "base_uri": "https://localhost:8080/"
    },
    "ExecuteTime": {
     "end_time": "2024-04-01T20:30:06.947864Z",
     "start_time": "2024-04-01T20:30:05.875765Z"
    }
   },
   "outputs": [
    {
     "name": "stdout",
     "output_type": "stream",
     "text": [
      "<class 'pandas.core.frame.DataFrame'>\n",
      "Int64Index: 7352569 entries, 0 to 7352568\n",
      "Data columns (total 38 columns):\n",
      " #   Column                   Dtype  \n",
      "---  ------                   -----  \n",
      " 0   msno                     object \n",
      " 1   song_id                  object \n",
      " 2   source_system_tab        object \n",
      " 3   source_screen_name       object \n",
      " 4   source_type              object \n",
      " 5   target                   int64  \n",
      " 6   city                     int64  \n",
      " 7   bd                       int64  \n",
      " 8   registered_via           int64  \n",
      " 9   registration_year        int64  \n",
      " 10  expiration_year          int64  \n",
      " 11  female                   uint8  \n",
      " 12  male                     uint8  \n",
      " 13  membership_years         int64  \n",
      " 14  song_length              float64\n",
      " 15  genre_ids                object \n",
      " 16  artist_name              object \n",
      " 17  composer                 object \n",
      " 18  lyricist                 object \n",
      " 19  language                 float64\n",
      " 20  genre_465                float64\n",
      " 21  genre_958                float64\n",
      " 22  genre_1609               float64\n",
      " 23  genre_2022               float64\n",
      " 24  genre_2122               float64\n",
      " 25  Neuromancer              float64\n",
      " 26  Johann Sebastian Bach    float64\n",
      " 27  Wolfgang Amadeus Mozart  float64\n",
      " 28  Traditional              float64\n",
      " 29  Marco Rinaldo            float64\n",
      " 30  ―                        float64\n",
      " 31  林夕                       float64\n",
      " 32  Michael Ruland           float64\n",
      " 33   Jr.                     float64\n",
      " 34  name                     object \n",
      " 35  isrc                     object \n",
      " 36  year                     float64\n",
      " 37  country_code             object \n",
      "dtypes: float64(17), int64(7), object(12), uint8(2)\n",
      "memory usage: 2.0+ GB\n"
     ]
    }
   ],
   "source": [
    "data_train.info()"
   ]
  },
  {
   "cell_type": "code",
   "execution_count": 28,
   "id": "aa4404375fb55552",
   "metadata": {
    "id": "aa4404375fb55552",
    "outputId": "74470660-b531-4d38-8b27-3807e629e302",
    "colab": {
     "base_uri": "https://localhost:8080/"
    },
    "ExecuteTime": {
     "end_time": "2024-04-01T20:30:25.450109Z",
     "start_time": "2024-04-01T20:30:06.949932Z"
    }
   },
   "outputs": [
    {
     "data": {
      "text/plain": "msno                             0\nsong_id                          0\nsource_system_tab                0\nsource_screen_name               0\nsource_type                     12\ntarget                           0\ncity                             0\nbd                               0\nregistered_via                   0\nregistration_year                0\nexpiration_year                  0\nfemale                           0\nmale                             0\nmembership_years                 0\nsong_length                    114\ngenre_ids                   118098\nartist_name                    114\ncomposer                   1670541\nlyricist                   3168953\nlanguage                       150\ngenre_465                      114\ngenre_958                      114\ngenre_1609                     114\ngenre_2022                     114\ngenre_2122                     114\nNeuromancer                    114\nJohann Sebastian Bach          114\nWolfgang Amadeus Mozart        114\nTraditional                    114\nMarco Rinaldo                  114\n―                              114\n林夕                             114\nMichael Ruland                 114\n Jr.                           114\nname                          1565\nisrc                        576208\nyear                          1563\ncountry_code                  1563\ndtype: int64"
     },
     "execution_count": 28,
     "metadata": {},
     "output_type": "execute_result"
    }
   ],
   "source": [
    "data_train.isna().sum()"
   ]
  },
  {
   "cell_type": "markdown",
   "id": "1f3623dbc307019",
   "metadata": {
    "collapsed": false,
    "id": "1f3623dbc307019"
   },
   "source": [
    "После присоединения таблиц появились новые пропуски."
   ]
  },
  {
   "cell_type": "code",
   "outputs": [],
   "source": [
    "df_gnr = data_train.copy()\n",
    "genre_df = data_train['genre_ids'].str.split('|', expand=True).stack().reset_index(level=1, drop=True).rename('fav_genre')\n",
    "\n",
    "df_gnr = df_gnr.drop(columns='genre_ids').join(genre_df)\n",
    "genre_counts = df_gnr.groupby(['msno', 'fav_genre']).size().reset_index(name='count')\n",
    "favorite_genres = genre_counts.loc[genre_counts.groupby('msno')['count'].idxmax()]\n",
    "favorite_genres.drop('count', axis=1)\n",
    "\n",
    "data_train = data_train.merge(favorite_genres[['msno', 'fav_genre']], how='left', on='msno')"
   ],
   "metadata": {
    "id": "ce213499cceab99f",
    "ExecuteTime": {
     "end_time": "2024-04-02T15:20:47.092117900Z",
     "start_time": "2024-04-02T15:20:08.343090500Z"
    }
   },
   "id": "ce213499cceab99f",
   "execution_count": 25
  },
  {
   "cell_type": "markdown",
   "source": [
    "Добавлен новый признак, отражающий любимый жанр для каждого пользователя."
   ],
   "metadata": {
    "id": "OMDkTb1DNBuF"
   },
   "id": "OMDkTb1DNBuF"
  },
  {
   "cell_type": "code",
   "source": [
    "data_train['artist_name'] = data_train['artist_name'].fillna('Unknown')"
   ],
   "metadata": {
    "id": "ZZLUUmOSmMLH",
    "ExecuteTime": {
     "end_time": "2024-04-02T15:20:58.457126700Z",
     "start_time": "2024-04-02T15:20:58.123252Z"
    }
   },
   "id": "ZZLUUmOSmMLH",
   "execution_count": 26,
   "outputs": []
  },
  {
   "cell_type": "markdown",
   "source": [
    "Строки в столбце 'artist_name' заполнены значениями 'Unknown', если в них есть пропуски."
   ],
   "metadata": {
    "id": "Pu0xtR_1NNPf"
   },
   "id": "Pu0xtR_1NNPf"
  },
  {
   "cell_type": "code",
   "execution_count": 27,
   "id": "c7445dcbb1eb4c76",
   "metadata": {
    "id": "c7445dcbb1eb4c76",
    "ExecuteTime": {
     "end_time": "2024-04-02T15:21:24.308438600Z",
     "start_time": "2024-04-02T15:21:07.407161400Z"
    }
   },
   "outputs": [],
   "source": [
    "data_train['language'] = data_train.groupby('artist_name')['language'].transform(lambda x: x.fillna(x.mode().iloc[0]) if not x.dropna().empty else x)\n",
    "data_train.dropna(subset='language', inplace=True)"
   ]
  },
  {
   "cell_type": "markdown",
   "id": "f0d1e73192713a4a",
   "metadata": {
    "collapsed": false,
    "id": "f0d1e73192713a4a"
   },
   "source": [
    "Пропуски в признаке 'language' заполнены самым часто встречающимся значением, сгруппированным по имени артиста. Оставшиеся пропуски удалены."
   ]
  },
  {
   "cell_type": "code",
   "execution_count": 28,
   "id": "3c757957c88108e",
   "metadata": {
    "id": "3c757957c88108e",
    "ExecuteTime": {
     "end_time": "2024-04-02T15:21:35.741297500Z",
     "start_time": "2024-04-02T15:21:32.323082500Z"
    }
   },
   "outputs": [],
   "source": [
    "data_train['country_code'] = data_train.groupby('language')['country_code'].transform(lambda x: x.fillna(x.mode().iloc[0]) if not x.dropna().empty else x)"
   ]
  },
  {
   "cell_type": "markdown",
   "id": "e88fdcfcd124a1aa",
   "metadata": {
    "collapsed": false,
    "id": "e88fdcfcd124a1aa"
   },
   "source": [
    "Пропуски в признаке Кода заполнены самым часто встречающимся значением, сгруппированным по признаку языка. Оставшиеся пропуски удалены."
   ]
  },
  {
   "cell_type": "code",
   "source": [
    "threshold = 100\n",
    "\n",
    "artist_counts = data_train['artist_name'].value_counts()\n",
    "\n",
    "data_train['popular_artist'] = data_train['artist_name'].map(artist_counts) >= threshold\n",
    "\n",
    "data_train['popular_artist'] = data_train['popular_artist'].astype(int)"
   ],
   "metadata": {
    "id": "EgPi3iRommi2",
    "ExecuteTime": {
     "end_time": "2024-04-02T15:23:00.223694100Z",
     "start_time": "2024-04-02T15:22:59.522601600Z"
    }
   },
   "id": "EgPi3iRommi2",
   "execution_count": 29,
   "outputs": []
  },
  {
   "cell_type": "markdown",
   "source": [
    "Добавлен новый признак 'popular_artist', который указывает, является ли артист популярным или нет, на основе количества его упоминаний в столбце 'artist_name'."
   ],
   "metadata": {
    "id": "d9I6egDvNtC9"
   },
   "id": "d9I6egDvNtC9"
  },
  {
   "cell_type": "code",
   "execution_count": 30,
   "id": "d015e02623073edb",
   "metadata": {
    "id": "d015e02623073edb",
    "ExecuteTime": {
     "end_time": "2024-04-02T15:23:09.763156500Z",
     "start_time": "2024-04-02T15:23:09.694693100Z"
    }
   },
   "outputs": [],
   "source": [
    "data_train['year'] = data_train['year'].fillna(0)"
   ]
  },
  {
   "cell_type": "markdown",
   "id": "4c0e941f0c3af896",
   "metadata": {
    "collapsed": false,
    "id": "4c0e941f0c3af896"
   },
   "source": [
    "Пропуски в признаке \"year\" в таблице train были заполнены нулями из-за отсутствия значений в признаке \"isrc\", который использовался для заполнения признака \"year\"."
   ]
  },
  {
   "cell_type": "code",
   "source": [
    "data_train['fav_genre'] = data_train['fav_genre'].fillna(top_5_genres[0])"
   ],
   "metadata": {
    "id": "lE-c7H_2q9MR",
    "ExecuteTime": {
     "end_time": "2024-04-02T15:23:18.635565Z",
     "start_time": "2024-04-02T15:23:18.337469300Z"
    }
   },
   "id": "lE-c7H_2q9MR",
   "execution_count": 31,
   "outputs": []
  },
  {
   "cell_type": "markdown",
   "source": [
    "Пропуски в признаке 'fav_genre' заполнены самым популярным жанром среди слушателей."
   ],
   "metadata": {
    "id": "AxndLqYgNvmP"
   },
   "id": "AxndLqYgNvmP"
  },
  {
   "cell_type": "code",
   "outputs": [],
   "source": [
    "data_train.dropna(subset='source_type', inplace=True)"
   ],
   "metadata": {
    "id": "d3f93053afb59922",
    "ExecuteTime": {
     "end_time": "2024-04-02T15:23:29.638710300Z",
     "start_time": "2024-04-02T15:23:26.985823800Z"
    }
   },
   "id": "d3f93053afb59922",
   "execution_count": 32
  },
  {
   "cell_type": "markdown",
   "source": [
    "Пропущенные значения в признаке 'source_type' удалены."
   ],
   "metadata": {
    "id": "dxThcGkpN3ds"
   },
   "id": "dxThcGkpN3ds"
  },
  {
   "cell_type": "code",
   "outputs": [],
   "source": [
    "data_train.drop(['artist_name', 'name', 'isrc', 'genre_ids', 'composer', 'lyricist'], axis=1, inplace=True)"
   ],
   "metadata": {
    "id": "7291e3a92de68744",
    "ExecuteTime": {
     "end_time": "2024-04-02T15:23:39.504335100Z",
     "start_time": "2024-04-02T15:23:38.151785700Z"
    }
   },
   "id": "7291e3a92de68744",
   "execution_count": 33
  },
  {
   "cell_type": "markdown",
   "source": [
    "Признаки 'artist_name', 'name', 'isrc', 'genre_ids', 'composer', 'lyricist' были удалены, поскольку они не несут значимой информации в данном контексте."
   ],
   "metadata": {
    "collapsed": false,
    "id": "8920887068327494"
   },
   "id": "8920887068327494"
  },
  {
   "cell_type": "code",
   "outputs": [
    {
     "output_type": "execute_result",
     "data": {
      "text/plain": [
       "msno                       0\n",
       "song_id                    0\n",
       "source_system_tab          0\n",
       "source_screen_name         0\n",
       "source_type                0\n",
       "target                     0\n",
       "city                       0\n",
       "bd                         0\n",
       "registered_via             0\n",
       "registration_year          0\n",
       "expiration_year            0\n",
       "female                     0\n",
       "male                       0\n",
       "membership_years           0\n",
       "song_length                0\n",
       "language                   0\n",
       "genre_465                  0\n",
       "genre_958                  0\n",
       "genre_1609                 0\n",
       "genre_2022                 0\n",
       "genre_2122                 0\n",
       "Neuromancer                0\n",
       "Johann Sebastian Bach      0\n",
       "Wolfgang Amadeus Mozart    0\n",
       "Traditional                0\n",
       "Marco Rinaldo              0\n",
       "―                          0\n",
       "林夕                         0\n",
       "Michael Ruland             0\n",
       " Jr.                       0\n",
       "year                       0\n",
       "country_code               0\n",
       "fav_genre                  0\n",
       "popular_artist             0\n",
       "dtype: int64"
      ]
     },
     "metadata": {},
     "execution_count": 104
    }
   ],
   "source": [
    "data_train.isna().sum()"
   ],
   "metadata": {
    "ExecuteTime": {
     "end_time": "2024-04-01T10:11:58.332043Z",
     "start_time": "2024-04-01T10:11:37.581610Z"
    },
    "id": "597471daecc02d7b",
    "outputId": "9aa1369a-240a-4699-85fd-3247036d6e49",
    "colab": {
     "base_uri": "https://localhost:8080/"
    }
   },
   "id": "597471daecc02d7b",
   "execution_count": 104
  },
  {
   "cell_type": "markdown",
   "id": "308f9774e588c719",
   "metadata": {
    "collapsed": false,
    "id": "308f9774e588c719"
   },
   "source": [
    "### 2. Анализ данных"
   ]
  },
  {
   "cell_type": "code",
   "execution_count": 38,
   "id": "31658d54b8eb8cc8",
   "metadata": {
    "id": "31658d54b8eb8cc8",
    "outputId": "9d8973d0-c84e-47a3-a184-ff72ea6acd4c",
    "colab": {
     "base_uri": "https://localhost:8080/",
     "height": 384
    },
    "ExecuteTime": {
     "end_time": "2024-04-01T21:22:29.390115Z",
     "start_time": "2024-04-01T21:22:14.806345Z"
    }
   },
   "outputs": [
    {
     "data": {
      "text/plain": "             target          city            bd  registered_via  \\\ncount  7.352443e+06  7.352443e+06  7.352443e+06    7.352443e+06   \nmean   5.034960e-01  7.506297e+00  1.723944e+01    6.793165e+00   \nstd    4.999878e-01  6.638576e+00  1.557864e+01    2.275608e+00   \nmin    0.000000e+00  1.000000e+00  0.000000e+00    3.000000e+00   \n25%    0.000000e+00  1.000000e+00  0.000000e+00    4.000000e+00   \n50%    1.000000e+00  5.000000e+00  2.100000e+01    7.000000e+00   \n75%    1.000000e+00  1.300000e+01  2.900000e+01    9.000000e+00   \nmax    1.000000e+00  2.200000e+01  9.500000e+01    1.300000e+01   \n\n       registration_year  expiration_year        female          male  \\\ncount       7.352443e+06     7.352443e+06  7.352443e+06  7.352443e+06   \nmean        2.012742e+03     2.017072e+03  2.868837e-01  3.114213e-01   \nstd         3.018890e+00     3.966111e-01  4.523068e-01  4.630746e-01   \nmin         2.004000e+03     2.004000e+03  0.000000e+00  0.000000e+00   \n25%         2.011000e+03     2.017000e+03  0.000000e+00  0.000000e+00   \n50%         2.013000e+03     2.017000e+03  0.000000e+00  0.000000e+00   \n75%         2.015000e+03     2.017000e+03  1.000000e+00  1.000000e+00   \nmax         2.017000e+03     2.020000e+03  1.000000e+00  1.000000e+00   \n\n       membership_years   song_length  ...  Johann Sebastian Bach  \\\ncount      7.352443e+06  7.352443e+06  ...           7.352443e+06   \nmean       4.330052e+00  2.451168e+05  ...           4.651515e-04   \nstd        3.081067e+00  6.737429e+04  ...           2.156236e-02   \nmin        0.000000e+00  1.393000e+03  ...           0.000000e+00   \n25%        2.000000e+00  2.147260e+05  ...           0.000000e+00   \n50%        4.000000e+00  2.417890e+05  ...           0.000000e+00   \n75%        6.000000e+00  2.721430e+05  ...           0.000000e+00   \nmax        1.400000e+01  1.085171e+07  ...           1.000000e+00   \n\n       Wolfgang Amadeus Mozart   Traditional  Marco Rinaldo             ―  \\\ncount             7.352443e+06  7.352443e+06   7.352443e+06  7.352443e+06   \nmean              6.344830e-04  2.644019e-04   5.127547e-05  3.182616e-05   \nstd               2.518096e-02  1.625829e-02   7.160506e-03  5.641378e-03   \nmin               0.000000e+00  0.000000e+00   0.000000e+00  0.000000e+00   \n25%               0.000000e+00  0.000000e+00   0.000000e+00  0.000000e+00   \n50%               0.000000e+00  0.000000e+00   0.000000e+00  0.000000e+00   \n75%               0.000000e+00  0.000000e+00   0.000000e+00  0.000000e+00   \nmax               1.000000e+00  1.000000e+00   1.000000e+00  1.000000e+00   \n\n                 林夕  Michael Ruland           Jr.          year  \\\ncount  7.352443e+06    7.352443e+06  7.352443e+06  7.352443e+06   \nmean   6.933070e-03    1.632111e-05  1.839933e-03  1.853642e+03   \nstd    8.297592e-02    4.039906e-03  4.285496e-02  5.405118e+02   \nmin    0.000000e+00    0.000000e+00  0.000000e+00  0.000000e+00   \n25%    0.000000e+00    0.000000e+00  0.000000e+00  2.007000e+03   \n50%    0.000000e+00    0.000000e+00  0.000000e+00  2.013000e+03   \n75%    0.000000e+00    0.000000e+00  0.000000e+00  2.016000e+03   \nmax    1.000000e+00    1.000000e+00  1.000000e+00  2.017000e+03   \n\n       popular_artist  \ncount    7.352443e+06  \nmean     9.501830e-01  \nstd      2.175668e-01  \nmin      0.000000e+00  \n25%      1.000000e+00  \n50%      1.000000e+00  \n75%      1.000000e+00  \nmax      1.000000e+00  \n\n[8 rows x 27 columns]",
      "text/html": "<div>\n<style scoped>\n    .dataframe tbody tr th:only-of-type {\n        vertical-align: middle;\n    }\n\n    .dataframe tbody tr th {\n        vertical-align: top;\n    }\n\n    .dataframe thead th {\n        text-align: right;\n    }\n</style>\n<table border=\"1\" class=\"dataframe\">\n  <thead>\n    <tr style=\"text-align: right;\">\n      <th></th>\n      <th>target</th>\n      <th>city</th>\n      <th>bd</th>\n      <th>registered_via</th>\n      <th>registration_year</th>\n      <th>expiration_year</th>\n      <th>female</th>\n      <th>male</th>\n      <th>membership_years</th>\n      <th>song_length</th>\n      <th>...</th>\n      <th>Johann Sebastian Bach</th>\n      <th>Wolfgang Amadeus Mozart</th>\n      <th>Traditional</th>\n      <th>Marco Rinaldo</th>\n      <th>―</th>\n      <th>林夕</th>\n      <th>Michael Ruland</th>\n      <th>Jr.</th>\n      <th>year</th>\n      <th>popular_artist</th>\n    </tr>\n  </thead>\n  <tbody>\n    <tr>\n      <th>count</th>\n      <td>7.352443e+06</td>\n      <td>7.352443e+06</td>\n      <td>7.352443e+06</td>\n      <td>7.352443e+06</td>\n      <td>7.352443e+06</td>\n      <td>7.352443e+06</td>\n      <td>7.352443e+06</td>\n      <td>7.352443e+06</td>\n      <td>7.352443e+06</td>\n      <td>7.352443e+06</td>\n      <td>...</td>\n      <td>7.352443e+06</td>\n      <td>7.352443e+06</td>\n      <td>7.352443e+06</td>\n      <td>7.352443e+06</td>\n      <td>7.352443e+06</td>\n      <td>7.352443e+06</td>\n      <td>7.352443e+06</td>\n      <td>7.352443e+06</td>\n      <td>7.352443e+06</td>\n      <td>7.352443e+06</td>\n    </tr>\n    <tr>\n      <th>mean</th>\n      <td>5.034960e-01</td>\n      <td>7.506297e+00</td>\n      <td>1.723944e+01</td>\n      <td>6.793165e+00</td>\n      <td>2.012742e+03</td>\n      <td>2.017072e+03</td>\n      <td>2.868837e-01</td>\n      <td>3.114213e-01</td>\n      <td>4.330052e+00</td>\n      <td>2.451168e+05</td>\n      <td>...</td>\n      <td>4.651515e-04</td>\n      <td>6.344830e-04</td>\n      <td>2.644019e-04</td>\n      <td>5.127547e-05</td>\n      <td>3.182616e-05</td>\n      <td>6.933070e-03</td>\n      <td>1.632111e-05</td>\n      <td>1.839933e-03</td>\n      <td>1.853642e+03</td>\n      <td>9.501830e-01</td>\n    </tr>\n    <tr>\n      <th>std</th>\n      <td>4.999878e-01</td>\n      <td>6.638576e+00</td>\n      <td>1.557864e+01</td>\n      <td>2.275608e+00</td>\n      <td>3.018890e+00</td>\n      <td>3.966111e-01</td>\n      <td>4.523068e-01</td>\n      <td>4.630746e-01</td>\n      <td>3.081067e+00</td>\n      <td>6.737429e+04</td>\n      <td>...</td>\n      <td>2.156236e-02</td>\n      <td>2.518096e-02</td>\n      <td>1.625829e-02</td>\n      <td>7.160506e-03</td>\n      <td>5.641378e-03</td>\n      <td>8.297592e-02</td>\n      <td>4.039906e-03</td>\n      <td>4.285496e-02</td>\n      <td>5.405118e+02</td>\n      <td>2.175668e-01</td>\n    </tr>\n    <tr>\n      <th>min</th>\n      <td>0.000000e+00</td>\n      <td>1.000000e+00</td>\n      <td>0.000000e+00</td>\n      <td>3.000000e+00</td>\n      <td>2.004000e+03</td>\n      <td>2.004000e+03</td>\n      <td>0.000000e+00</td>\n      <td>0.000000e+00</td>\n      <td>0.000000e+00</td>\n      <td>1.393000e+03</td>\n      <td>...</td>\n      <td>0.000000e+00</td>\n      <td>0.000000e+00</td>\n      <td>0.000000e+00</td>\n      <td>0.000000e+00</td>\n      <td>0.000000e+00</td>\n      <td>0.000000e+00</td>\n      <td>0.000000e+00</td>\n      <td>0.000000e+00</td>\n      <td>0.000000e+00</td>\n      <td>0.000000e+00</td>\n    </tr>\n    <tr>\n      <th>25%</th>\n      <td>0.000000e+00</td>\n      <td>1.000000e+00</td>\n      <td>0.000000e+00</td>\n      <td>4.000000e+00</td>\n      <td>2.011000e+03</td>\n      <td>2.017000e+03</td>\n      <td>0.000000e+00</td>\n      <td>0.000000e+00</td>\n      <td>2.000000e+00</td>\n      <td>2.147260e+05</td>\n      <td>...</td>\n      <td>0.000000e+00</td>\n      <td>0.000000e+00</td>\n      <td>0.000000e+00</td>\n      <td>0.000000e+00</td>\n      <td>0.000000e+00</td>\n      <td>0.000000e+00</td>\n      <td>0.000000e+00</td>\n      <td>0.000000e+00</td>\n      <td>2.007000e+03</td>\n      <td>1.000000e+00</td>\n    </tr>\n    <tr>\n      <th>50%</th>\n      <td>1.000000e+00</td>\n      <td>5.000000e+00</td>\n      <td>2.100000e+01</td>\n      <td>7.000000e+00</td>\n      <td>2.013000e+03</td>\n      <td>2.017000e+03</td>\n      <td>0.000000e+00</td>\n      <td>0.000000e+00</td>\n      <td>4.000000e+00</td>\n      <td>2.417890e+05</td>\n      <td>...</td>\n      <td>0.000000e+00</td>\n      <td>0.000000e+00</td>\n      <td>0.000000e+00</td>\n      <td>0.000000e+00</td>\n      <td>0.000000e+00</td>\n      <td>0.000000e+00</td>\n      <td>0.000000e+00</td>\n      <td>0.000000e+00</td>\n      <td>2.013000e+03</td>\n      <td>1.000000e+00</td>\n    </tr>\n    <tr>\n      <th>75%</th>\n      <td>1.000000e+00</td>\n      <td>1.300000e+01</td>\n      <td>2.900000e+01</td>\n      <td>9.000000e+00</td>\n      <td>2.015000e+03</td>\n      <td>2.017000e+03</td>\n      <td>1.000000e+00</td>\n      <td>1.000000e+00</td>\n      <td>6.000000e+00</td>\n      <td>2.721430e+05</td>\n      <td>...</td>\n      <td>0.000000e+00</td>\n      <td>0.000000e+00</td>\n      <td>0.000000e+00</td>\n      <td>0.000000e+00</td>\n      <td>0.000000e+00</td>\n      <td>0.000000e+00</td>\n      <td>0.000000e+00</td>\n      <td>0.000000e+00</td>\n      <td>2.016000e+03</td>\n      <td>1.000000e+00</td>\n    </tr>\n    <tr>\n      <th>max</th>\n      <td>1.000000e+00</td>\n      <td>2.200000e+01</td>\n      <td>9.500000e+01</td>\n      <td>1.300000e+01</td>\n      <td>2.017000e+03</td>\n      <td>2.020000e+03</td>\n      <td>1.000000e+00</td>\n      <td>1.000000e+00</td>\n      <td>1.400000e+01</td>\n      <td>1.085171e+07</td>\n      <td>...</td>\n      <td>1.000000e+00</td>\n      <td>1.000000e+00</td>\n      <td>1.000000e+00</td>\n      <td>1.000000e+00</td>\n      <td>1.000000e+00</td>\n      <td>1.000000e+00</td>\n      <td>1.000000e+00</td>\n      <td>1.000000e+00</td>\n      <td>2.017000e+03</td>\n      <td>1.000000e+00</td>\n    </tr>\n  </tbody>\n</table>\n<p>8 rows × 27 columns</p>\n</div>"
     },
     "execution_count": 38,
     "metadata": {},
     "output_type": "execute_result"
    }
   ],
   "source": [
    "data_train.describe()"
   ]
  },
  {
   "cell_type": "code",
   "execution_count": 46,
   "id": "52b29abdd98cd9b1",
   "metadata": {
    "id": "52b29abdd98cd9b1",
    "ExecuteTime": {
     "end_time": "2024-04-02T15:34:40.312137300Z",
     "start_time": "2024-04-02T15:34:40.193268500Z"
    }
   },
   "outputs": [],
   "source": [
    "def get_redundant_pairs(df):\n",
    "    pairs_to_drop = set()\n",
    "    cols = df.columns\n",
    "    for i in range(0, df.shape[1]):\n",
    "        for j in range(0, i+1):\n",
    "            pairs_to_drop.add((cols[i], cols[j]))\n",
    "    return pairs_to_drop\n",
    "\n",
    "def get_top_abs_correlations(df, n=10):\n",
    "    au_corr = df.corr().abs().unstack()\n",
    "    labels_to_drop = get_redundant_pairs(df)\n",
    "    au_corr = au_corr.drop(labels=labels_to_drop).sort_values(ascending=False)\n",
    "    return au_corr[0:n]"
   ]
  },
  {
   "cell_type": "code",
   "execution_count": 47,
   "id": "da28db99c1284f1c",
   "metadata": {
    "id": "da28db99c1284f1c",
    "outputId": "6f1d7e18-f1d2-4dfc-bed8-3c9983265347",
    "colab": {
     "base_uri": "https://localhost:8080/"
    },
    "ExecuteTime": {
     "end_time": "2024-04-02T15:35:00.134549Z",
     "start_time": "2024-04-02T15:34:48.231339300Z"
    }
   },
   "outputs": [
    {
     "name": "stdout",
     "output_type": "stream",
     "text": [
      "Top Absolute Correlations\n",
      "registration_year  membership_years           0.991752\n",
      "city               bd                         0.537519\n",
      "bd                 membership_years           0.454142\n",
      "registered_via     membership_years           0.444543\n",
      "                   registration_year          0.442592\n",
      "bd                 registration_year          0.441553\n",
      "city               membership_years           0.293659\n",
      "                   registration_year          0.279880\n",
      "genre_958          Wolfgang Amadeus Mozart    0.262760\n",
      "language           genre_1609                 0.258139\n",
      "dtype: float64\n"
     ]
    }
   ],
   "source": [
    "num_col = data_train.select_dtypes(include=['int', 'float']).drop('target', axis=1).columns\n",
    "\n",
    "print(\"Top Absolute Correlations\")\n",
    "print(get_top_abs_correlations(data_train[num_col]))"
   ]
  },
  {
   "cell_type": "markdown",
   "id": "2437c819e231b81e",
   "metadata": {
    "collapsed": false,
    "id": "2437c819e231b81e"
   },
   "source": [
    "Наиболее скореллированные признаки - год регистрации и срок участия, менее скореллированные город и возраст, а так же композиторы и авторы текста."
   ]
  },
  {
   "cell_type": "code",
   "execution_count": null,
   "id": "91249e02eba0ec5d",
   "metadata": {
    "id": "91249e02eba0ec5d",
    "outputId": "873acbea-10b5-4e23-a606-0035a615ed65"
   },
   "outputs": [
    {
     "data": {
      "image/png": "[encoded data removed]",
      "text/plain": "<Figure size 1500x800 with 1 Axes>"
     },
     "metadata": {},
     "output_type": "display_data"
    }
   ],
   "source": [
    "plt.figure(figsize=(15, 8))\n",
    "sns.countplot(x='source_type',hue='source_type',data=data_train)\n",
    "plt.xticks(rotation=45)\n",
    "plt.xlabel('Source type')\n",
    "plt.ylabel('Count')\n",
    "plt.show()"
   ]
  },
  {
   "cell_type": "markdown",
   "id": "4407e86ff3795abd",
   "metadata": {
    "collapsed": false,
    "id": "4407e86ff3795abd"
   },
   "source": [
    "Точкой входа для большинства пользователей является их локальная библиотека, на втором месте - онлайн плейлисты. Это может говорить о том, что большая часть пользователей заходят в сервис для прослушивания музыки из своего альбома и меньше интересуются радио и системой похожих песен. Это значит, что большинство пользователей расположены к рекомендациям на основе уже выбранной и понравившейся им музыке, реже привержены к случайным жанрам и форматам(которые могут появиться на радио, так как радио, вероятнее всего, устроено на рандомизированном подборе музыки)"
   ]
  },
  {
   "cell_type": "code",
   "execution_count": null,
   "id": "3e393d0eef49cdb7",
   "metadata": {
    "id": "3e393d0eef49cdb7",
    "outputId": "58cb3a69-d68c-4927-993c-46daa2abc260"
   },
   "outputs": [
    {
     "data": {
      "image/png": "[encoded data removed]",
      "text/plain": "<Figure size 2000x1000 with 1 Axes>"
     },
     "metadata": {},
     "output_type": "display_data"
    }
   ],
   "source": [
    "plt.figure(figsize=(20, 10))\n",
    "sns.countplot(x='source_system_tab',hue='source_system_tab',data=data_train)\n",
    "plt.xticks(rotation=45)\n",
    "plt.title('Count Source system tab')\n",
    "plt.xlabel('Source system tab')\n",
    "plt.ylabel('Count')\n",
    "plt.show()"
   ]
  },
  {
   "cell_type": "markdown",
   "id": "aa8493138bc8a1af",
   "metadata": {
    "collapsed": false,
    "id": "aa8493138bc8a1af"
   },
   "source": [
    "Чаще всего пользователи запускают событие из своей библиотеки, на втором месте - найденная по запросу песня."
   ]
  },
  {
   "cell_type": "code",
   "execution_count": null,
   "id": "40f8adcc0a3ce68d",
   "metadata": {
    "id": "40f8adcc0a3ce68d",
    "outputId": "b7920880-5729-4a94-823c-935b61013b16"
   },
   "outputs": [
    {
     "data": {
      "image/png": "[encoded data removed]",
      "text/plain": "<Figure size 1000x800 with 1 Axes>"
     },
     "metadata": {},
     "output_type": "display_data"
    }
   ],
   "source": [
    "users_per_year = data_train.groupby('registration_year')['msno'].nunique().reset_index()\n",
    "\n",
    "plt.figure(figsize=(10, 8))\n",
    "sns.barplot(x='registration_year', y='msno', data=users_per_year)\n",
    "plt.title('Number of Unique Users Registered Each Year')\n",
    "plt.xlabel('Registration Year')\n",
    "plt.ylabel('Number of Unique Users')\n",
    "plt.xticks(rotation=45)\n",
    "plt.show()"
   ]
  },
  {
   "cell_type": "markdown",
   "id": "1c1406490188d422",
   "metadata": {
    "collapsed": false,
    "id": "1c1406490188d422"
   },
   "source": [
    "Большее число пользователей зарегистрировалось в 2016 году. Начиная с 2011 года, наблюдается рост числа зарегистрированных пользователей, что может быть связано с увеличением популярности сервиса."
   ]
  },
  {
   "cell_type": "code",
   "execution_count": null,
   "id": "3aa5f31c498992ae",
   "metadata": {
    "id": "3aa5f31c498992ae",
    "outputId": "ec8fc823-3da8-4509-e8b0-3fdc9f0ae0c9"
   },
   "outputs": [
    {
     "data": {
      "image/png": "[encoded data removed]",
      "text/plain": "<Figure size 1000x800 with 1 Axes>"
     },
     "metadata": {},
     "output_type": "display_data"
    }
   ],
   "source": [
    "users_per_membership = data_train.groupby('membership_years')['msno'].nunique().reset_index()\n",
    "\n",
    "plt.figure(figsize=(10, 8))\n",
    "sns.barplot(x='membership_years', y='msno', data=users_per_membership)\n",
    "plt.title('Membership term')\n",
    "plt.xlabel('Membership Year')\n",
    "plt.ylabel('Number of Unique Users')\n",
    "plt.show()"
   ]
  },
  {
   "cell_type": "markdown",
   "id": "83f401833ce24a09",
   "metadata": {
    "collapsed": false,
    "id": "83f401833ce24a09"
   },
   "source": [
    "По мере увеличения срока пользования сервисом, количество активных пользователей снижается. Этот паттерн может указывать на то, что пользователи, зарегистрировавшиеся позже 2011, склонны оставаться активными пользователями. Можно предположить, что пользователи, зарегистрировавшиеся 6 лет назад, остались активными пользователями сервиса, однако, необходимо учитывать и появление значительного числа новых пользователей, начиная с 2011, что может влиять на общее количество активных пользователей."
   ]
  },
  {
   "cell_type": "code",
   "execution_count": 41,
   "id": "f66b57b6f566b2a",
   "metadata": {
    "id": "f66b57b6f566b2a",
    "outputId": "53693ac3-1c04-42d8-d830-1b2f0e89d9e6",
    "colab": {
     "base_uri": "https://localhost:8080/"
    },
    "ExecuteTime": {
     "end_time": "2024-04-01T21:35:34.781311Z",
     "start_time": "2024-04-01T21:35:30.763536Z"
    }
   },
   "outputs": [
    {
     "name": "stdout",
     "output_type": "stream",
     "text": [
      "0.49650395113569734\n",
      "0.5034960488643027\n"
     ]
    }
   ],
   "source": [
    "print(data_train['target'].value_counts()[0] / len(data_train))\n",
    "print(data_train['target'].value_counts()[1] / len(data_train))"
   ]
  },
  {
   "cell_type": "markdown",
   "id": "ccb218a0793da9a7",
   "metadata": {
    "collapsed": false,
    "id": "ccb218a0793da9a7"
   },
   "source": [
    "Целевая переменная близка к балансу классов, поэтому выбрана метрика качества roc auc."
   ]
  },
  {
   "cell_type": "markdown",
   "id": "393ec77a42c9c3dc",
   "metadata": {
    "collapsed": false,
    "id": "393ec77a42c9c3dc"
   },
   "source": [
    "## 3. Обучение моделей"
   ]
  },
  {
   "cell_type": "code",
   "execution_count": 48,
   "id": "327a504f1fffe043",
   "metadata": {
    "id": "327a504f1fffe043",
    "ExecuteTime": {
     "end_time": "2024-04-02T15:35:29.061134Z",
     "start_time": "2024-04-02T15:35:23.094463900Z"
    }
   },
   "outputs": [],
   "source": [
    "data_train = data_train.set_index(['msno', 'song_id'])"
   ]
  },
  {
   "cell_type": "code",
   "execution_count": 49,
   "id": "7d011f643c49b8cb",
   "metadata": {
    "id": "7d011f643c49b8cb",
    "ExecuteTime": {
     "end_time": "2024-04-02T15:35:36.504489600Z",
     "start_time": "2024-04-02T15:35:36.496300900Z"
    }
   },
   "outputs": [],
   "source": [
    "def probs(X, y, model, top = 20):\n",
    "\n",
    "    indexes_u = [x[0] for x in X.index.values.tolist()]\n",
    "    indexes_s = [x[1] for x in X.index.values.tolist()]\n",
    "\n",
    "    res = model.predict_proba(X)\n",
    "    res[:, 1].tolist()\n",
    "\n",
    "    predictions_df = pd.DataFrame({\n",
    "        'msno': indexes_u,\n",
    "        'song_id': indexes_s,\n",
    "        'recommendation_proba': res[:, 1],\n",
    "        'target': y.tolist()\n",
    "    }).sort_values(by='msno', ascending=False)\n",
    "\n",
    "    def sorted_prob(group):\n",
    "        group = group.nlargest(top, 'recommendation_proba')\n",
    "        return group\n",
    "\n",
    "    predictions_df_group = predictions_df.groupby('msno').apply(sorted_prob)\n",
    "    predictions_df_group = predictions_df_group.reset_index(drop=True)\n",
    "\n",
    "    return predictions_df_group"
   ]
  },
  {
   "cell_type": "code",
   "execution_count": 50,
   "id": "a3ea5d567d83c907",
   "metadata": {
    "id": "a3ea5d567d83c907",
    "ExecuteTime": {
     "end_time": "2024-04-02T15:35:43.176539800Z",
     "start_time": "2024-04-02T15:35:43.168085700Z"
    }
   },
   "outputs": [],
   "source": [
    "def ndcg_at_k(preds_df):\n",
    "    ndcg_val = []\n",
    "\n",
    "    def penalty_score(position):\n",
    "        return 1 / np.log2(position + 2)\n",
    "\n",
    "    def ndcg_user(ratings):\n",
    "        sorted_ratings = np.sort(ratings)[::-1]\n",
    "        dcg = np.sum(sorted_ratings * penalty_score(np.arange(len(sorted_ratings))))\n",
    "        idcg = np.sum(np.sort(penalty_score(np.arange(len(ratings))))[::-1])\n",
    "        if idcg == 0:\n",
    "            return 0\n",
    "        else:\n",
    "            ndcg = dcg / idcg\n",
    "        return ndcg\n",
    "\n",
    "    for user_id, group in preds_df.groupby('msno'):\n",
    "        ndcg = ndcg_user(group['target'])\n",
    "        ndcg_val.append(ndcg)\n",
    "\n",
    "    return np.mean(ndcg_val)"
   ]
  },
  {
   "cell_type": "markdown",
   "id": "d27a5444c0ae24a6",
   "metadata": {
    "collapsed": false,
    "id": "d27a5444c0ae24a6"
   },
   "source": [
    "Функция, в которой реализована метрика качества NDCG@k."
   ]
  },
  {
   "cell_type": "code",
   "execution_count": 51,
   "id": "ac32d92bf4e63be1",
   "metadata": {
    "id": "ac32d92bf4e63be1",
    "ExecuteTime": {
     "end_time": "2024-04-02T15:35:49.110968600Z",
     "start_time": "2024-04-02T15:35:49.094452200Z"
    }
   },
   "outputs": [],
   "source": [
    "data_split_train = data_train[:5514419]\n",
    "data_split_test = data_train[5514419:]"
   ]
  },
  {
   "cell_type": "code",
   "execution_count": 52,
   "id": "7be439eed2e0a870",
   "metadata": {
    "id": "7be439eed2e0a870",
    "outputId": "729a40ab-28f0-4b6d-e363-9982c67a8bc9",
    "colab": {
     "base_uri": "https://localhost:8080/"
    },
    "ExecuteTime": {
     "end_time": "2024-04-02T15:35:56.160636600Z",
     "start_time": "2024-04-02T15:35:56.148083400Z"
    }
   },
   "outputs": [
    {
     "data": {
      "text/plain": "0.7500117987993923"
     },
     "execution_count": 52,
     "metadata": {},
     "output_type": "execute_result"
    }
   ],
   "source": [
    "len(data_split_train) / len(data_train)"
   ]
  },
  {
   "cell_type": "markdown",
   "id": "f7f497d64e3d3f49",
   "metadata": {
    "collapsed": false,
    "id": "f7f497d64e3d3f49"
   },
   "source": [
    "Обучающие данные разделены на обучающую и тестовую выборки в соотношении 75:25"
   ]
  },
  {
   "cell_type": "code",
   "execution_count": 53,
   "id": "c10314f4203ca585",
   "metadata": {
    "id": "c10314f4203ca585",
    "ExecuteTime": {
     "end_time": "2024-04-02T15:36:03.839948600Z",
     "start_time": "2024-04-02T15:36:03.226872400Z"
    }
   },
   "outputs": [],
   "source": [
    "X_train, X_test = data_split_train.drop('target', axis=1), data_split_test.drop('target', axis=1)\n",
    "y_train, y_test = data_split_train['target'], data_split_test['target']"
   ]
  },
  {
   "cell_type": "markdown",
   "source": [
    "Logloss выбран для функции потерь в обучении модели из-за его способности оценивать вероятности классов и обеспечивать дифференцируемость, что делает его идеальным выбором для оптимизации параметров модели с помощью градиентного спуска."
   ],
   "metadata": {
    "id": "ESubjxMZIO3O"
   },
   "id": "ESubjxMZIO3O"
  },
  {
   "cell_type": "code",
   "execution_count": 111,
   "id": "3ef2d4ceec42a2f8",
   "metadata": {
    "id": "3ef2d4ceec42a2f8",
    "is_executing": true
   },
   "outputs": [],
   "source": [
    "from catboost import CatBoostClassifier"
   ]
  },
  {
   "cell_type": "code",
   "execution_count": 130,
   "id": "75b4e483666134f8",
   "metadata": {
    "id": "75b4e483666134f8",
    "outputId": "9da00673-c126-4075-bb80-f5578ad0adc9",
    "ExecuteTime": {
     "end_time": "2024-04-01T10:56:56.156023Z",
     "start_time": "2024-04-01T10:53:46.946986Z"
    },
    "colab": {
     "base_uri": "https://localhost:8080/"
    }
   },
   "outputs": [
    {
     "output_type": "stream",
     "name": "stdout",
     "text": [
      "Learning rate set to 0.5\n",
      "0:\tlearn: 0.5855022\ttotal: 1.98s\tremaining: 1m 36s\n",
      "1:\tlearn: 0.5604367\ttotal: 3.18s\tremaining: 1m 16s\n",
      "2:\tlearn: 0.5541487\ttotal: 4.42s\tremaining: 1m 9s\n",
      "3:\tlearn: 0.5515302\ttotal: 5.75s\tremaining: 1m 6s\n",
      "4:\tlearn: 0.5501814\ttotal: 7.31s\tremaining: 1m 5s\n",
      "5:\tlearn: 0.5491198\ttotal: 8.82s\tremaining: 1m 4s\n",
      "6:\tlearn: 0.5484100\ttotal: 10.4s\tremaining: 1m 3s\n",
      "7:\tlearn: 0.5478699\ttotal: 12s\tremaining: 1m 3s\n",
      "8:\tlearn: 0.5475841\ttotal: 13.5s\tremaining: 1m 1s\n",
      "9:\tlearn: 0.5469669\ttotal: 15s\tremaining: 59.8s\n",
      "10:\tlearn: 0.5464805\ttotal: 16.6s\tremaining: 58.8s\n",
      "11:\tlearn: 0.5458492\ttotal: 17.9s\tremaining: 56.5s\n",
      "12:\tlearn: 0.5453413\ttotal: 18.7s\tremaining: 53.1s\n",
      "13:\tlearn: 0.5450821\ttotal: 19.4s\tremaining: 50s\n",
      "14:\tlearn: 0.5447950\ttotal: 20.2s\tremaining: 47.1s\n",
      "15:\tlearn: 0.5441814\ttotal: 21s\tremaining: 44.6s\n",
      "16:\tlearn: 0.5437479\ttotal: 21.8s\tremaining: 42.3s\n",
      "17:\tlearn: 0.5433445\ttotal: 22.5s\tremaining: 40.1s\n",
      "18:\tlearn: 0.5429132\ttotal: 23.3s\tremaining: 37.9s\n",
      "19:\tlearn: 0.5427220\ttotal: 24s\tremaining: 36.1s\n",
      "20:\tlearn: 0.5425223\ttotal: 24.9s\tremaining: 34.3s\n",
      "21:\tlearn: 0.5419296\ttotal: 25.7s\tremaining: 32.7s\n",
      "22:\tlearn: 0.5416930\ttotal: 26.6s\tremaining: 31.2s\n",
      "23:\tlearn: 0.5411367\ttotal: 27.4s\tremaining: 29.7s\n",
      "24:\tlearn: 0.5408311\ttotal: 28.6s\tremaining: 28.6s\n",
      "25:\tlearn: 0.5405986\ttotal: 30s\tremaining: 27.7s\n",
      "26:\tlearn: 0.5403517\ttotal: 31.5s\tremaining: 26.8s\n",
      "27:\tlearn: 0.5400733\ttotal: 33.1s\tremaining: 26s\n",
      "28:\tlearn: 0.5398625\ttotal: 34.8s\tremaining: 25.2s\n",
      "29:\tlearn: 0.5392847\ttotal: 37.9s\tremaining: 25.3s\n",
      "30:\tlearn: 0.5391366\ttotal: 40.8s\tremaining: 25s\n",
      "31:\tlearn: 0.5388513\ttotal: 42.7s\tremaining: 24s\n",
      "32:\tlearn: 0.5386234\ttotal: 44.8s\tremaining: 23.1s\n",
      "33:\tlearn: 0.5381855\ttotal: 46.8s\tremaining: 22s\n",
      "34:\tlearn: 0.5378845\ttotal: 48.5s\tremaining: 20.8s\n",
      "35:\tlearn: 0.5375101\ttotal: 51.1s\tremaining: 19.9s\n",
      "36:\tlearn: 0.5373404\ttotal: 53.7s\tremaining: 18.9s\n",
      "37:\tlearn: 0.5370507\ttotal: 56.2s\tremaining: 17.8s\n",
      "38:\tlearn: 0.5365501\ttotal: 58.5s\tremaining: 16.5s\n",
      "39:\tlearn: 0.5362924\ttotal: 1m\tremaining: 15.2s\n",
      "40:\tlearn: 0.5358740\ttotal: 1m 2s\tremaining: 13.6s\n",
      "41:\tlearn: 0.5357451\ttotal: 1m 3s\tremaining: 12.1s\n",
      "42:\tlearn: 0.5355679\ttotal: 1m 4s\tremaining: 10.6s\n",
      "43:\tlearn: 0.5353963\ttotal: 1m 6s\tremaining: 9.04s\n",
      "44:\tlearn: 0.5353257\ttotal: 1m 7s\tremaining: 7.51s\n",
      "45:\tlearn: 0.5350884\ttotal: 1m 8s\tremaining: 5.98s\n",
      "46:\tlearn: 0.5347441\ttotal: 1m 10s\tremaining: 4.47s\n",
      "47:\tlearn: 0.5344132\ttotal: 1m 11s\tremaining: 2.98s\n",
      "48:\tlearn: 0.5342407\ttotal: 1m 13s\tremaining: 1.5s\n",
      "49:\tlearn: 0.5340141\ttotal: 1m 16s\tremaining: 0us\n"
     ]
    },
    {
     "output_type": "execute_result",
     "data": {
      "text/plain": [
       "<catboost.core.CatBoostClassifier at 0x7b8dcbfd6500>"
      ]
     },
     "metadata": {},
     "execution_count": 130
    }
   ],
   "source": [
    "cb_def = CatBoostClassifier(random_state=45, iterations=50, cat_features=list(data_train.select_dtypes(include='object')),  loss_function='Logloss')\n",
    "cb_def.fit(X_train, y_train)"
   ]
  },
  {
   "cell_type": "code",
   "execution_count": 54,
   "id": "201196cf2ea39fd3",
   "metadata": {
    "id": "201196cf2ea39fd3",
    "ExecuteTime": {
     "end_time": "2024-04-02T15:39:32.849085700Z",
     "start_time": "2024-04-02T15:39:31.923548500Z"
    }
   },
   "outputs": [],
   "source": [
    "from sklearn.metrics import roc_auc_score, classification_report"
   ]
  },
  {
   "cell_type": "code",
   "execution_count": 131,
   "id": "d587a558b6f3f801",
   "metadata": {
    "id": "d587a558b6f3f801",
    "outputId": "f482f949-0ee2-42d6-b4eb-98513e5cac3c",
    "ExecuteTime": {
     "end_time": "2024-04-01T11:04:11.069877Z",
     "start_time": "2024-04-01T11:03:03.333995Z"
    },
    "colab": {
     "base_uri": "https://localhost:8080/"
    }
   },
   "outputs": [
    {
     "output_type": "stream",
     "name": "stdout",
     "text": [
      "ROC-AUC TRAIN: 0.7437142388587371\n",
      "ROC-AUC TEST: 0.7132563476089739\n"
     ]
    }
   ],
   "source": [
    "print(f'ROC-AUC TRAIN: {roc_auc_score(y_train, cb_def.predict_proba(X_train)[:,1])}')\n",
    "print(f'ROC-AUC TEST: {roc_auc_score(y_test, cb_def.predict_proba(X_test)[:,1])}')"
   ]
  },
  {
   "cell_type": "markdown",
   "source": [
    "Значение ROC-AUC на обучающем наборе данных составляет 0.7437, указывая на хорошую способность модели разделять классы. На тестовом наборе данных значение ROC-AUC равно 0.7133, что подтверждает хорошее обобщение модели на новых данных."
   ],
   "metadata": {
    "id": "oNoh4gpD_cc8"
   },
   "id": "oNoh4gpD_cc8"
  },
  {
   "cell_type": "code",
   "execution_count": 132,
   "id": "76917c9a88f63805",
   "metadata": {
    "id": "76917c9a88f63805",
    "outputId": "042cfa3a-bba6-4a03-c85b-c0315fe5ae57",
    "ExecuteTime": {
     "end_time": "2024-04-01T11:15:05.474186Z",
     "start_time": "2024-04-01T11:13:45.725245Z"
    },
    "colab": {
     "base_uri": "https://localhost:8080/"
    }
   },
   "outputs": [
    {
     "output_type": "stream",
     "name": "stdout",
     "text": [
      "Train:\n",
      "              precision    recall  f1-score   support\n",
      "\n",
      "         0.0       0.64      0.40      0.49    345642\n",
      "         1.0       0.77      0.90      0.83    758108\n",
      "\n",
      "    accuracy                           0.74   1103750\n",
      "   macro avg       0.71      0.65      0.66   1103750\n",
      "weighted avg       0.73      0.74      0.72   1103750\n",
      "\n",
      "Test:\n",
      "              precision    recall  f1-score   support\n",
      "\n",
      "         0.0       0.66      0.42      0.51    144356\n",
      "         1.0       0.70      0.86      0.77    223560\n",
      "\n",
      "    accuracy                           0.69    367916\n",
      "   macro avg       0.68      0.64      0.64    367916\n",
      "weighted avg       0.68      0.69      0.67    367916\n"
     ]
    }
   ],
   "source": [
    "print('Train:')\n",
    "print(classification_report(y_train, cb_def.predict(X_train)))\n",
    "print('Test:')\n",
    "print(classification_report(y_test, cb_def.predict(X_test)))"
   ]
  },
  {
   "cell_type": "markdown",
   "source": [
    "На обучающем наборе данных модель достигает точности 0.74 с f1-мерой для класса 1.0 равной 0.83 и f1-мерой для класса 0.0 равной 0.49. На тестовом наборе данных точность составляет 0.69 с f1-мерой для класса 1.0 равной 0.77 и f1-мерой для класса 0.0 равной 0.51. Обобщая, модель имеет хорошую способность предсказывать положительные классы, но менее точно предсказывает отрицательные классы."
   ],
   "metadata": {
    "id": "ycId3IGP_oxm"
   },
   "id": "ycId3IGP_oxm"
  },
  {
   "cell_type": "code",
   "execution_count": 133,
   "id": "ca25fa4b2f74980e",
   "metadata": {
    "id": "ca25fa4b2f74980e",
    "ExecuteTime": {
     "end_time": "2024-04-01T11:31:39.180929Z",
     "start_time": "2024-04-01T11:22:01.237938Z"
    }
   },
   "outputs": [],
   "source": [
    "prediction_train_cb = probs(X_train, y_train, cb_def)\n",
    "prediction_test_cb = probs(X_test, y_test, cb_def)"
   ]
  },
  {
   "cell_type": "code",
   "execution_count": 135,
   "id": "8235209564453420",
   "metadata": {
    "id": "8235209564453420",
    "is_executing": true,
    "colab": {
     "base_uri": "https://localhost:8080/"
    },
    "outputId": "930a516f-81d3-4c27-c367-83ee6e6f2b73"
   },
   "outputs": [
    {
     "output_type": "stream",
     "name": "stdout",
     "text": [
      "NDCG@20 in train: 0.7597844228926831\n",
      "NDCG@20 in test: 0.7187524527892477\n"
     ]
    }
   ],
   "source": [
    "cb_train_ndcg = ndcg_at_k(prediction_train_cb)\n",
    "cb_test_ndcg = ndcg_at_k(prediction_test_cb)\n",
    "\n",
    "print(f'NDCG@20 in train: {cb_train_ndcg}')\n",
    "print(f'NDCG@20 in test: {cb_test_ndcg}')"
   ]
  },
  {
   "cell_type": "markdown",
   "source": [
    "Модель показывает хорошие способности в ранжировании рекомендаций на обучающем наборе данных (NDCG@20 = 0.7598) и на тестовом (NDCG@20 = 0.7188)."
   ],
   "metadata": {
    "id": "MVHwzQnp__V6"
   },
   "id": "MVHwzQnp__V6"
  },
  {
   "cell_type": "code",
   "execution_count": 136,
   "id": "cc53418c43033e0c",
   "metadata": {
    "id": "cc53418c43033e0c",
    "ExecuteTime": {
     "end_time": "2024-04-01T11:43:28.905922Z",
     "start_time": "2024-04-01T11:43:08.999932Z"
    }
   },
   "outputs": [],
   "source": [
    "from lightgbm import LGBMClassifier"
   ]
  },
  {
   "cell_type": "code",
   "execution_count": 55,
   "id": "3a343498079399a3",
   "metadata": {
    "id": "3a343498079399a3",
    "ExecuteTime": {
     "end_time": "2024-04-02T15:39:59.549821600Z",
     "start_time": "2024-04-02T15:39:54.201983900Z"
    }
   },
   "outputs": [],
   "source": [
    "obj_cols = X_train.select_dtypes(include='object').columns.tolist()\n",
    "X_train_cat, X_test_cat = X_train.copy(), X_test.copy()\n",
    "X_train_cat[obj_cols] = X_train_cat[obj_cols].astype('category')\n",
    "X_test_cat[obj_cols] = X_test_cat[obj_cols].astype('category')"
   ]
  },
  {
   "cell_type": "markdown",
   "id": "6b5fe57b22ff7650",
   "metadata": {
    "collapsed": false,
    "id": "6b5fe57b22ff7650"
   },
   "source": [
    "Преобразование признаков типа \"object\" в категориальные признаки. Это необходимо для обучения LGBM и XGBOOST моделей."
   ]
  },
  {
   "cell_type": "code",
   "execution_count": 137,
   "id": "8b480aef7a57ad89",
   "metadata": {
    "id": "8b480aef7a57ad89",
    "outputId": "fa55db32-d6fe-4c7f-aae6-6086b1811d0a",
    "ExecuteTime": {
     "end_time": "2024-04-01T12:05:53.197332Z",
     "start_time": "2024-04-01T12:02:59.821607Z"
    },
    "colab": {
     "base_uri": "https://localhost:8080/",
     "height": 230
    }
   },
   "outputs": [
    {
     "output_type": "stream",
     "name": "stdout",
     "text": [
      "[LightGBM] [Warning] Found whitespace in feature_names, replace with underlines\n",
      "[LightGBM] [Info] Number of positive: 758108, number of negative: 345642\n",
      "[LightGBM] [Info] Auto-choosing row-wise multi-threading, the overhead of testing was 0.163078 seconds.\n",
      "You can set `force_row_wise=true` to remove the overhead.\n",
      "And if memory is not enough, you can set `force_col_wise=true`.\n",
      "[LightGBM] [Info] Total Bins 658\n",
      "[LightGBM] [Info] Number of data points in the train set: 1103750, number of used features: 29\n",
      "[LightGBM] [Info] [binary:BoostFromScore]: pavg=0.686848 -> initscore=0.785422\n",
      "[LightGBM] [Info] Start training from score 0.785422\n"
     ]
    },
    {
     "output_type": "execute_result",
     "data": {
      "text/plain": [
       "LGBMClassifier(metric='binary_logloss', n_estimators=50, objective='binary')"
      ],
      "text/html": [
       "<style>#sk-container-id-3 {color: black;background-color: white;}#sk-container-id-3 pre{padding: 0;}#sk-container-id-3 div.sk-toggleable {background-color: white;}#sk-container-id-3 label.sk-toggleable__label {cursor: pointer;display: block;width: 100%;margin-bottom: 0;padding: 0.3em;box-sizing: border-box;text-align: center;}#sk-container-id-3 label.sk-toggleable__label-arrow:before {content: \"▸\";float: left;margin-right: 0.25em;color: #696969;}#sk-container-id-3 label.sk-toggleable__label-arrow:hover:before {color: black;}#sk-container-id-3 div.sk-estimator:hover label.sk-toggleable__label-arrow:before {color: black;}#sk-container-id-3 div.sk-toggleable__content {max-height: 0;max-width: 0;overflow: hidden;text-align: left;background-color: #f0f8ff;}#sk-container-id-3 div.sk-toggleable__content pre {margin: 0.2em;color: black;border-radius: 0.25em;background-color: #f0f8ff;}#sk-container-id-3 input.sk-toggleable__control:checked~div.sk-toggleable__content {max-height: 200px;max-width: 100%;overflow: auto;}#sk-container-id-3 input.sk-toggleable__control:checked~label.sk-toggleable__label-arrow:before {content: \"▾\";}#sk-container-id-3 div.sk-estimator input.sk-toggleable__control:checked~label.sk-toggleable__label {background-color: #d4ebff;}#sk-container-id-3 div.sk-label input.sk-toggleable__control:checked~label.sk-toggleable__label {background-color: #d4ebff;}#sk-container-id-3 input.sk-hidden--visually {border: 0;clip: rect(1px 1px 1px 1px);clip: rect(1px, 1px, 1px, 1px);height: 1px;margin: -1px;overflow: hidden;padding: 0;position: absolute;width: 1px;}#sk-container-id-3 div.sk-estimator {font-family: monospace;background-color: #f0f8ff;border: 1px dotted black;border-radius: 0.25em;box-sizing: border-box;margin-bottom: 0.5em;}#sk-container-id-3 div.sk-estimator:hover {background-color: #d4ebff;}#sk-container-id-3 div.sk-parallel-item::after {content: \"\";width: 100%;border-bottom: 1px solid gray;flex-grow: 1;}#sk-container-id-3 div.sk-label:hover label.sk-toggleable__label {background-color: #d4ebff;}#sk-container-id-3 div.sk-serial::before {content: \"\";position: absolute;border-left: 1px solid gray;box-sizing: border-box;top: 0;bottom: 0;left: 50%;z-index: 0;}#sk-container-id-3 div.sk-serial {display: flex;flex-direction: column;align-items: center;background-color: white;padding-right: 0.2em;padding-left: 0.2em;position: relative;}#sk-container-id-3 div.sk-item {position: relative;z-index: 1;}#sk-container-id-3 div.sk-parallel {display: flex;align-items: stretch;justify-content: center;background-color: white;position: relative;}#sk-container-id-3 div.sk-item::before, #sk-container-id-3 div.sk-parallel-item::before {content: \"\";position: absolute;border-left: 1px solid gray;box-sizing: border-box;top: 0;bottom: 0;left: 50%;z-index: -1;}#sk-container-id-3 div.sk-parallel-item {display: flex;flex-direction: column;z-index: 1;position: relative;background-color: white;}#sk-container-id-3 div.sk-parallel-item:first-child::after {align-self: flex-end;width: 50%;}#sk-container-id-3 div.sk-parallel-item:last-child::after {align-self: flex-start;width: 50%;}#sk-container-id-3 div.sk-parallel-item:only-child::after {width: 0;}#sk-container-id-3 div.sk-dashed-wrapped {border: 1px dashed gray;margin: 0 0.4em 0.5em 0.4em;box-sizing: border-box;padding-bottom: 0.4em;background-color: white;}#sk-container-id-3 div.sk-label label {font-family: monospace;font-weight: bold;display: inline-block;line-height: 1.2em;}#sk-container-id-3 div.sk-label-container {text-align: center;}#sk-container-id-3 div.sk-container {/* jupyter's `normalize.less` sets `[hidden] { display: none; }` but bootstrap.min.css set `[hidden] { display: none !important; }` so we also need the `!important` here to be able to override the default hidden behavior on the sphinx rendered scikit-learn.org. See: https://github.com/scikit-learn/scikit-learn/issues/21755 */display: inline-block !important;position: relative;}#sk-container-id-3 div.sk-text-repr-fallback {display: none;}</style><div id=\"sk-container-id-3\" class=\"sk-top-container\"><div class=\"sk-text-repr-fallback\"><pre>LGBMClassifier(metric=&#x27;binary_logloss&#x27;, n_estimators=50, objective=&#x27;binary&#x27;)</pre><b>In a Jupyter environment, please rerun this cell to show the HTML representation or trust the notebook. <br />On GitHub, the HTML representation is unable to render, please try loading this page with nbviewer.org.</b></div><div class=\"sk-container\" hidden><div class=\"sk-item\"><div class=\"sk-estimator sk-toggleable\"><input class=\"sk-toggleable__control sk-hidden--visually\" id=\"sk-estimator-id-3\" type=\"checkbox\" checked><label for=\"sk-estimator-id-3\" class=\"sk-toggleable__label sk-toggleable__label-arrow\">LGBMClassifier</label><div class=\"sk-toggleable__content\"><pre>LGBMClassifier(metric=&#x27;binary_logloss&#x27;, n_estimators=50, objective=&#x27;binary&#x27;)</pre></div></div></div></div></div>"
      ]
     },
     "metadata": {},
     "execution_count": 137
    }
   ],
   "source": [
    "lgbm_def = LGBMClassifier(n_estimators=50, objective='binary', metric='binary_logloss')\n",
    "lgbm_def.fit(X_train_cat, y_train)"
   ]
  },
  {
   "cell_type": "code",
   "execution_count": 138,
   "id": "62682e8f2b4fb5dc",
   "metadata": {
    "id": "62682e8f2b4fb5dc",
    "outputId": "846ea464-e2a8-4885-9b69-319f1f19d9fa",
    "ExecuteTime": {
     "end_time": "2024-04-01T12:07:24.904186Z",
     "start_time": "2024-04-01T12:05:54.061500Z"
    },
    "colab": {
     "base_uri": "https://localhost:8080/"
    }
   },
   "outputs": [
    {
     "output_type": "stream",
     "name": "stdout",
     "text": [
      "ROC-AUC TRAIN: 0.7398078387697739\n",
      "ROC-AUC TEST: 0.7143818561645136\n"
     ]
    }
   ],
   "source": [
    "print(f'ROC-AUC TRAIN: {roc_auc_score(y_train, lgbm_def.predict_proba(X_train_cat)[:, 1])}')\n",
    "print(f'ROC-AUC TEST: {roc_auc_score(y_test, lgbm_def.predict_proba(X_test_cat)[:, 1])}')"
   ]
  },
  {
   "cell_type": "markdown",
   "source": [
    "Значение ROC-AUC на обучающем наборе данных составляет 0.7398, что указывает на хорошую способность модели разделять классы. На тестовом наборе данных значение ROC-AUC равно 0.7144, что также свидетельствует о хорошем качестве модели в обобщении на новые данные. Относительно модели catboost, lgbm показывает чуть лучшие результаты предсказания классаю"
   ],
   "metadata": {
    "id": "rJJfLSjkAW9l"
   },
   "id": "rJJfLSjkAW9l"
  },
  {
   "cell_type": "code",
   "execution_count": 139,
   "id": "a17b6df9397a6109",
   "metadata": {
    "id": "a17b6df9397a6109",
    "is_executing": true,
    "colab": {
     "base_uri": "https://localhost:8080/"
    },
    "outputId": "0aeb7dae-c823-42be-fa5e-d3a6ccdd2df4"
   },
   "outputs": [
    {
     "output_type": "stream",
     "name": "stdout",
     "text": [
      "Train:\n",
      "              precision    recall  f1-score   support\n",
      "\n",
      "         0.0       0.64      0.41      0.50    345642\n",
      "         1.0       0.77      0.89      0.83    758108\n",
      "\n",
      "    accuracy                           0.74   1103750\n",
      "   macro avg       0.70      0.65      0.66   1103750\n",
      "weighted avg       0.73      0.74      0.72   1103750\n",
      "\n",
      "Test:\n",
      "              precision    recall  f1-score   support\n",
      "\n",
      "         0.0       0.66      0.43      0.52    144356\n",
      "         1.0       0.70      0.85      0.77    223560\n",
      "\n",
      "    accuracy                           0.69    367916\n",
      "   macro avg       0.68      0.64      0.65    367916\n",
      "weighted avg       0.68      0.69      0.67    367916\n"
     ]
    }
   ],
   "source": [
    "print('Train:')\n",
    "print(classification_report(y_train, lgbm_def.predict(X_train_cat)))\n",
    "print('Test:')\n",
    "print(classification_report(y_test, lgbm_def.predict(X_test_cat)))"
   ]
  },
  {
   "cell_type": "markdown",
   "source": [
    "По сравнению с предыдущей моделью, новая модель на обучающем наборе данных также демонстрирует высокую точность (0.74) и f1-меру для класса 1.0 (0.83), однако f1-мера для класса 0.0 увеличилась до 0.50. На тестовом наборе данных точность модели осталась на прежнем уровне (0.69), но f1-мера для класса 1.0 увеличилась до 0.77, а для класса 0.0 - до 0.52."
   ],
   "metadata": {
    "id": "f49JAfoXAM5R"
   },
   "id": "f49JAfoXAM5R"
  },
  {
   "cell_type": "code",
   "execution_count": 140,
   "id": "cff7205f953f9c0d",
   "metadata": {
    "id": "cff7205f953f9c0d",
    "is_executing": true
   },
   "outputs": [],
   "source": [
    "prediction_train_lgbm = probs(X_train_cat, y_train, lgbm_def)\n",
    "prediction_test_lgbm = probs(X_test_cat, y_test, lgbm_def)"
   ]
  },
  {
   "cell_type": "code",
   "execution_count": 141,
   "id": "88a4889582d66c3f",
   "metadata": {
    "id": "88a4889582d66c3f",
    "outputId": "4dc926a2-5003-4f36-f402-8bcbbef0b730",
    "ExecuteTime": {
     "end_time": "2024-04-01T12:38:03.582774Z",
     "start_time": "2024-04-01T12:37:57.118226Z"
    },
    "colab": {
     "base_uri": "https://localhost:8080/"
    }
   },
   "outputs": [
    {
     "output_type": "stream",
     "name": "stdout",
     "text": [
      "NDCG@20 in train: 0.7600054400223965\n",
      "NDCG@20 in test: 0.7187293374744734\n"
     ]
    }
   ],
   "source": [
    "lgbm_train_ndcg = ndcg_at_k(prediction_train_lgbm)\n",
    "lgbm_test_ndcg = ndcg_at_k(prediction_test_lgbm)\n",
    "\n",
    "print(f'NDCG@20 in train: {lgbm_train_ndcg}')\n",
    "print(f'NDCG@20 in test: {lgbm_test_ndcg}')"
   ]
  },
  {
   "cell_type": "markdown",
   "source": [
    "Значение метрики NDCG@20 для обучающего набора данных составляет 0.7600, а для тестового - 0.7187. Эти значения указывают на высокое качество ранжирования предсказаний модели, учитывая как их порядок, так и их релевантность для пользователей. Однако, модель catboost показала себя лучше в результатах ранжирования."
   ],
   "metadata": {
    "id": "ELFu0F8FBEF-"
   },
   "id": "ELFu0F8FBEF-"
  },
  {
   "cell_type": "code",
   "execution_count": 56,
   "id": "abfd70c7d7abc86a",
   "metadata": {
    "id": "abfd70c7d7abc86a",
    "ExecuteTime": {
     "end_time": "2024-04-02T15:40:36.204983200Z",
     "start_time": "2024-04-02T15:40:35.973372300Z"
    }
   },
   "outputs": [],
   "source": [
    "from xgboost import XGBClassifier"
   ]
  },
  {
   "cell_type": "code",
   "execution_count": 142,
   "id": "2b0995025e63920b",
   "metadata": {
    "id": "2b0995025e63920b",
    "is_executing": true,
    "ExecuteTime": {
     "start_time": "2024-04-01T12:38:06.780508Z"
    },
    "colab": {
     "base_uri": "https://localhost:8080/",
     "height": 248
    },
    "outputId": "6ce4db88-911f-4d7f-b614-281ce309e966"
   },
   "outputs": [
    {
     "output_type": "execute_result",
     "data": {
      "text/plain": [
       "XGBClassifier(base_score=None, booster=None, callbacks=None,\n",
       "              colsample_bylevel=None, colsample_bynode=None,\n",
       "              colsample_bytree=None, device=None, early_stopping_rounds=None,\n",
       "              enable_categorical=True, eval_metric=None, feature_types=None,\n",
       "              gamma=None, grow_policy=None, importance_type=None,\n",
       "              interaction_constraints=None, learning_rate=None, max_bin=None,\n",
       "              max_cat_threshold=None, max_cat_to_onehot=None,\n",
       "              max_delta_step=None, max_depth=None, max_leaves=None,\n",
       "              min_child_weight=None, missing=nan, monotone_constraints=None,\n",
       "              multi_strategy=None, n_estimators=50, n_jobs=None,\n",
       "              num_parallel_tree=None, random_state=45, ...)"
      ],
      "text/html": [
       "<style>#sk-container-id-4 {color: black;background-color: white;}#sk-container-id-4 pre{padding: 0;}#sk-container-id-4 div.sk-toggleable {background-color: white;}#sk-container-id-4 label.sk-toggleable__label {cursor: pointer;display: block;width: 100%;margin-bottom: 0;padding: 0.3em;box-sizing: border-box;text-align: center;}#sk-container-id-4 label.sk-toggleable__label-arrow:before {content: \"▸\";float: left;margin-right: 0.25em;color: #696969;}#sk-container-id-4 label.sk-toggleable__label-arrow:hover:before {color: black;}#sk-container-id-4 div.sk-estimator:hover label.sk-toggleable__label-arrow:before {color: black;}#sk-container-id-4 div.sk-toggleable__content {max-height: 0;max-width: 0;overflow: hidden;text-align: left;background-color: #f0f8ff;}#sk-container-id-4 div.sk-toggleable__content pre {margin: 0.2em;color: black;border-radius: 0.25em;background-color: #f0f8ff;}#sk-container-id-4 input.sk-toggleable__control:checked~div.sk-toggleable__content {max-height: 200px;max-width: 100%;overflow: auto;}#sk-container-id-4 input.sk-toggleable__control:checked~label.sk-toggleable__label-arrow:before {content: \"▾\";}#sk-container-id-4 div.sk-estimator input.sk-toggleable__control:checked~label.sk-toggleable__label {background-color: #d4ebff;}#sk-container-id-4 div.sk-label input.sk-toggleable__control:checked~label.sk-toggleable__label {background-color: #d4ebff;}#sk-container-id-4 input.sk-hidden--visually {border: 0;clip: rect(1px 1px 1px 1px);clip: rect(1px, 1px, 1px, 1px);height: 1px;margin: -1px;overflow: hidden;padding: 0;position: absolute;width: 1px;}#sk-container-id-4 div.sk-estimator {font-family: monospace;background-color: #f0f8ff;border: 1px dotted black;border-radius: 0.25em;box-sizing: border-box;margin-bottom: 0.5em;}#sk-container-id-4 div.sk-estimator:hover {background-color: #d4ebff;}#sk-container-id-4 div.sk-parallel-item::after {content: \"\";width: 100%;border-bottom: 1px solid gray;flex-grow: 1;}#sk-container-id-4 div.sk-label:hover label.sk-toggleable__label {background-color: #d4ebff;}#sk-container-id-4 div.sk-serial::before {content: \"\";position: absolute;border-left: 1px solid gray;box-sizing: border-box;top: 0;bottom: 0;left: 50%;z-index: 0;}#sk-container-id-4 div.sk-serial {display: flex;flex-direction: column;align-items: center;background-color: white;padding-right: 0.2em;padding-left: 0.2em;position: relative;}#sk-container-id-4 div.sk-item {position: relative;z-index: 1;}#sk-container-id-4 div.sk-parallel {display: flex;align-items: stretch;justify-content: center;background-color: white;position: relative;}#sk-container-id-4 div.sk-item::before, #sk-container-id-4 div.sk-parallel-item::before {content: \"\";position: absolute;border-left: 1px solid gray;box-sizing: border-box;top: 0;bottom: 0;left: 50%;z-index: -1;}#sk-container-id-4 div.sk-parallel-item {display: flex;flex-direction: column;z-index: 1;position: relative;background-color: white;}#sk-container-id-4 div.sk-parallel-item:first-child::after {align-self: flex-end;width: 50%;}#sk-container-id-4 div.sk-parallel-item:last-child::after {align-self: flex-start;width: 50%;}#sk-container-id-4 div.sk-parallel-item:only-child::after {width: 0;}#sk-container-id-4 div.sk-dashed-wrapped {border: 1px dashed gray;margin: 0 0.4em 0.5em 0.4em;box-sizing: border-box;padding-bottom: 0.4em;background-color: white;}#sk-container-id-4 div.sk-label label {font-family: monospace;font-weight: bold;display: inline-block;line-height: 1.2em;}#sk-container-id-4 div.sk-label-container {text-align: center;}#sk-container-id-4 div.sk-container {/* jupyter's `normalize.less` sets `[hidden] { display: none; }` but bootstrap.min.css set `[hidden] { display: none !important; }` so we also need the `!important` here to be able to override the default hidden behavior on the sphinx rendered scikit-learn.org. See: https://github.com/scikit-learn/scikit-learn/issues/21755 */display: inline-block !important;position: relative;}#sk-container-id-4 div.sk-text-repr-fallback {display: none;}</style><div id=\"sk-container-id-4\" class=\"sk-top-container\"><div class=\"sk-text-repr-fallback\"><pre>XGBClassifier(base_score=None, booster=None, callbacks=None,\n",
       "              colsample_bylevel=None, colsample_bynode=None,\n",
       "              colsample_bytree=None, device=None, early_stopping_rounds=None,\n",
       "              enable_categorical=True, eval_metric=None, feature_types=None,\n",
       "              gamma=None, grow_policy=None, importance_type=None,\n",
       "              interaction_constraints=None, learning_rate=None, max_bin=None,\n",
       "              max_cat_threshold=None, max_cat_to_onehot=None,\n",
       "              max_delta_step=None, max_depth=None, max_leaves=None,\n",
       "              min_child_weight=None, missing=nan, monotone_constraints=None,\n",
       "              multi_strategy=None, n_estimators=50, n_jobs=None,\n",
       "              num_parallel_tree=None, random_state=45, ...)</pre><b>In a Jupyter environment, please rerun this cell to show the HTML representation or trust the notebook. <br />On GitHub, the HTML representation is unable to render, please try loading this page with nbviewer.org.</b></div><div class=\"sk-container\" hidden><div class=\"sk-item\"><div class=\"sk-estimator sk-toggleable\"><input class=\"sk-toggleable__control sk-hidden--visually\" id=\"sk-estimator-id-4\" type=\"checkbox\" checked><label for=\"sk-estimator-id-4\" class=\"sk-toggleable__label sk-toggleable__label-arrow\">XGBClassifier</label><div class=\"sk-toggleable__content\"><pre>XGBClassifier(base_score=None, booster=None, callbacks=None,\n",
       "              colsample_bylevel=None, colsample_bynode=None,\n",
       "              colsample_bytree=None, device=None, early_stopping_rounds=None,\n",
       "              enable_categorical=True, eval_metric=None, feature_types=None,\n",
       "              gamma=None, grow_policy=None, importance_type=None,\n",
       "              interaction_constraints=None, learning_rate=None, max_bin=None,\n",
       "              max_cat_threshold=None, max_cat_to_onehot=None,\n",
       "              max_delta_step=None, max_depth=None, max_leaves=None,\n",
       "              min_child_weight=None, missing=nan, monotone_constraints=None,\n",
       "              multi_strategy=None, n_estimators=50, n_jobs=None,\n",
       "              num_parallel_tree=None, random_state=45, ...)</pre></div></div></div></div></div>"
      ]
     },
     "metadata": {},
     "execution_count": 142
    }
   ],
   "source": [
    "xgb_def = XGBClassifier(random_state=45, enable_categorical=True, tree_method='hist',objective='binary:logistic', n_estimators=50)\n",
    "xgb_def.fit(X_train_cat, y_train)"
   ]
  },
  {
   "cell_type": "code",
   "execution_count": 143,
   "id": "ab057fa0a29a5f1",
   "metadata": {
    "id": "ab057fa0a29a5f1",
    "is_executing": true,
    "colab": {
     "base_uri": "https://localhost:8080/"
    },
    "outputId": "8ba099d2-d710-480e-dc71-116b27442638"
   },
   "outputs": [
    {
     "output_type": "stream",
     "name": "stdout",
     "text": [
      "ROC-AUC TRAIN: 0.7576931395321789\n",
      "ROC-AUC TEST: 0.7186431443292857\n"
     ]
    }
   ],
   "source": [
    "print(f'ROC-AUC TRAIN: {roc_auc_score(y_train, xgb_def.predict_proba(X_train_cat)[:, 1])}')\n",
    "print(f'ROC-AUC TEST: {roc_auc_score(y_test, xgb_def.predict_proba(X_test_cat)[:, 1])}')"
   ]
  },
  {
   "cell_type": "markdown",
   "source": [
    "начение ROC-AUC на обучающем наборе данных для данной модели составляет 0.7577, а на тестовом - 0.7186. Эти результаты указывают на то, что данная модель демонстрирует хорошую способность разделять классы как на обучающем, так и на тестовом наборе данных. По сравнению с моделью lgbm, модель xgboost показывает улучшение на тестовых данных, однако, в сравнении с моделью catboost ухудшение."
   ],
   "metadata": {
    "id": "hLwY3zGeBn7t"
   },
   "id": "hLwY3zGeBn7t"
  },
  {
   "cell_type": "code",
   "execution_count": 144,
   "id": "7f2fc53a3b9e11a2",
   "metadata": {
    "id": "7f2fc53a3b9e11a2",
    "is_executing": true,
    "colab": {
     "base_uri": "https://localhost:8080/"
    },
    "outputId": "69a124ff-1d04-4546-b64e-650656822abb"
   },
   "outputs": [
    {
     "output_type": "stream",
     "name": "stdout",
     "text": [
      "Train:\n",
      "              precision    recall  f1-score   support\n",
      "\n",
      "         0.0       0.67      0.42      0.52    345642\n",
      "         1.0       0.78      0.91      0.84    758108\n",
      "\n",
      "    accuracy                           0.75   1103750\n",
      "   macro avg       0.72      0.66      0.68   1103750\n",
      "weighted avg       0.74      0.75      0.74   1103750\n",
      "\n",
      "Test:\n",
      "              precision    recall  f1-score   support\n",
      "\n",
      "         0.0       0.67      0.43      0.52    144356\n",
      "         1.0       0.70      0.86      0.77    223560\n",
      "\n",
      "    accuracy                           0.69    367916\n",
      "   macro avg       0.68      0.65      0.65    367916\n",
      "weighted avg       0.69      0.69      0.67    367916\n"
     ]
    }
   ],
   "source": [
    "print('Train:')\n",
    "print(classification_report(y_train, xgb_def.predict(X_train_cat)))\n",
    "print('Test:')\n",
    "print(classification_report(y_test, xgb_def.predict(X_test_cat)))"
   ]
  },
  {
   "cell_type": "markdown",
   "source": [
    "По сравнению с предыдущими моделями xgboost показывает лучшие показатели."
   ],
   "metadata": {
    "id": "3U1nRM34CW9-"
   },
   "id": "3U1nRM34CW9-"
  },
  {
   "cell_type": "code",
   "execution_count": 145,
   "id": "7af254a87eb239f9",
   "metadata": {
    "id": "7af254a87eb239f9"
   },
   "outputs": [],
   "source": [
    "prediction_train_xgb = probs(X_train_cat, y_train, xgb_def)\n",
    "prediction_test_xgb = probs(X_test_cat, y_test, xgb_def)"
   ]
  },
  {
   "cell_type": "code",
   "execution_count": 146,
   "id": "235e0987c333448c",
   "metadata": {
    "id": "235e0987c333448c",
    "outputId": "cd220aac-6ec9-4422-89cc-8c72ab6b7663",
    "colab": {
     "base_uri": "https://localhost:8080/"
    }
   },
   "outputs": [
    {
     "output_type": "stream",
     "name": "stdout",
     "text": [
      "NDCG@20 in train: 0.7645757102842604\n",
      "NDCG@20 in test: 0.7194129184655454\n"
     ]
    }
   ],
   "source": [
    "xgb_train_ndcg = ndcg_at_k(prediction_train_xgb)\n",
    "xgb_test_ndcg = ndcg_at_k(prediction_test_xgb)\n",
    "\n",
    "print(f'NDCG@20 in train: {xgb_train_ndcg}')\n",
    "print(f'NDCG@20 in test: {xgb_test_ndcg}')"
   ]
  },
  {
   "cell_type": "markdown",
   "source": [
    "\n",
    "Модель XGBoost была выбрана за ее выдающееся качество ранжирования и высокую точность предсказаний целевой переменной, что делает ее оптимальным выбором для решения данной задачи."
   ],
   "metadata": {
    "id": "ZERnMrC5CfS3"
   },
   "id": "ZERnMrC5CfS3"
  },
  {
   "cell_type": "code",
   "execution_count": 156,
   "id": "4fdd23b58479fb7e",
   "metadata": {
    "id": "4fdd23b58479fb7e"
   },
   "outputs": [],
   "source": [
    "from sklearn.model_selection import GridSearchCV"
   ]
  },
  {
   "cell_type": "code",
   "execution_count": 158,
   "id": "c843115c306400a1",
   "metadata": {
    "id": "c843115c306400a1",
    "outputId": "1a3bbe25-c708-4cd4-b2e0-e004baeda962",
    "colab": {
     "base_uri": "https://localhost:8080/",
     "height": 1000
    }
   },
   "outputs": [
    {
     "output_type": "stream",
     "name": "stdout",
     "text": [
      "Fitting 5 folds for each of 12 candidates, totalling 60 fits\n",
      "[CV 1/5] END learning_rate=0.01, max_depth=4, n_estimators=100;, score=-0.559 total time=  27.8s\n",
      "[CV 2/5] END learning_rate=0.01, max_depth=4, n_estimators=100;, score=-0.563 total time=  24.3s\n",
      "[CV 3/5] END learning_rate=0.01, max_depth=4, n_estimators=100;, score=-0.564 total time=  24.3s\n",
      "[CV 4/5] END learning_rate=0.01, max_depth=4, n_estimators=100;, score=-0.567 total time=  23.5s\n",
      "[CV 5/5] END learning_rate=0.01, max_depth=4, n_estimators=100;, score=-0.564 total time=  26.2s\n",
      "[CV 1/5] END learning_rate=0.01, max_depth=4, n_estimators=200;, score=-0.546 total time=  43.9s\n",
      "[CV 2/5] END learning_rate=0.01, max_depth=4, n_estimators=200;, score=-0.553 total time=  45.4s\n",
      "[CV 3/5] END learning_rate=0.01, max_depth=4, n_estimators=200;, score=-0.553 total time=  41.3s\n",
      "[CV 4/5] END learning_rate=0.01, max_depth=4, n_estimators=200;, score=-0.558 total time= 1.2min\n",
      "[CV 5/5] END learning_rate=0.01, max_depth=4, n_estimators=200;, score=-0.555 total time= 1.3min\n",
      "[CV 1/5] END learning_rate=0.01, max_depth=4, n_estimators=300;, score=-0.542 total time= 1.7min\n",
      "[CV 2/5] END learning_rate=0.01, max_depth=4, n_estimators=300;, score=-0.550 total time= 1.9min\n",
      "[CV 3/5] END learning_rate=0.01, max_depth=4, n_estimators=300;, score=-0.550 total time= 2.0min\n",
      "[CV 4/5] END learning_rate=0.01, max_depth=4, n_estimators=300;, score=-0.555 total time= 1.8min\n",
      "[CV 5/5] END learning_rate=0.01, max_depth=4, n_estimators=300;, score=-0.552 total time= 2.0min\n",
      "[CV 1/5] END learning_rate=0.01, max_depth=6, n_estimators=100;, score=-0.556 total time=  51.8s\n",
      "[CV 2/5] END learning_rate=0.01, max_depth=6, n_estimators=100;, score=-0.561 total time=  37.3s\n",
      "[CV 3/5] END learning_rate=0.01, max_depth=6, n_estimators=100;, score=-0.561 total time= 1.2min\n",
      "[CV 4/5] END learning_rate=0.01, max_depth=6, n_estimators=100;, score=-0.564 total time=  51.4s\n",
      "[CV 5/5] END learning_rate=0.01, max_depth=6, n_estimators=100;, score=-0.562 total time=  34.5s\n",
      "[CV 1/5] END learning_rate=0.01, max_depth=6, n_estimators=200;, score=-0.543 total time= 1.1min\n",
      "[CV 2/5] END learning_rate=0.01, max_depth=6, n_estimators=200;, score=-0.550 total time= 1.0min\n",
      "[CV 3/5] END learning_rate=0.01, max_depth=6, n_estimators=200;, score=-0.550 total time=  59.6s\n",
      "[CV 4/5] END learning_rate=0.01, max_depth=6, n_estimators=200;, score=-0.555 total time= 1.2min\n",
      "[CV 5/5] END learning_rate=0.01, max_depth=6, n_estimators=200;, score=-0.552 total time= 1.1min\n",
      "[CV 1/5] END learning_rate=0.01, max_depth=6, n_estimators=300;, score=-0.539 total time= 1.5min\n",
      "[CV 2/5] END learning_rate=0.01, max_depth=6, n_estimators=300;, score=-0.547 total time= 1.5min\n",
      "[CV 3/5] END learning_rate=0.01, max_depth=6, n_estimators=300;, score=-0.547 total time= 1.5min\n",
      "[CV 4/5] END learning_rate=0.01, max_depth=6, n_estimators=300;, score=-0.552 total time= 1.6min\n",
      "[CV 5/5] END learning_rate=0.01, max_depth=6, n_estimators=300;, score=-0.550 total time= 1.6min\n",
      "[CV 1/5] END learning_rate=0.05, max_depth=4, n_estimators=100;, score=-0.539 total time=  25.4s\n",
      "[CV 2/5] END learning_rate=0.05, max_depth=4, n_estimators=100;, score=-0.548 total time=  19.4s\n",
      "[CV 3/5] END learning_rate=0.05, max_depth=4, n_estimators=100;, score=-0.548 total time=  23.9s\n",
      "[CV 4/5] END learning_rate=0.05, max_depth=4, n_estimators=100;, score=-0.553 total time=  23.9s\n",
      "[CV 5/5] END learning_rate=0.05, max_depth=4, n_estimators=100;, score=-0.550 total time=  22.1s\n",
      "[CV 1/5] END learning_rate=0.05, max_depth=4, n_estimators=200;, score=-0.537 total time=  34.5s\n",
      "[CV 2/5] END learning_rate=0.05, max_depth=4, n_estimators=200;, score=-0.546 total time=  39.5s\n",
      "[CV 3/5] END learning_rate=0.05, max_depth=4, n_estimators=200;, score=-0.545 total time=  38.3s\n",
      "[CV 4/5] END learning_rate=0.05, max_depth=4, n_estimators=200;, score=-0.551 total time=  34.5s\n",
      "[CV 5/5] END learning_rate=0.05, max_depth=4, n_estimators=200;, score=-0.549 total time=  37.1s\n",
      "[CV 1/5] END learning_rate=0.05, max_depth=4, n_estimators=300;, score=-0.535 total time=  52.5s\n",
      "[CV 2/5] END learning_rate=0.05, max_depth=4, n_estimators=300;, score=-0.545 total time=  50.8s\n",
      "[CV 3/5] END learning_rate=0.05, max_depth=4, n_estimators=300;, score=-0.544 total time=  53.7s\n",
      "[CV 4/5] END learning_rate=0.05, max_depth=4, n_estimators=300;, score=-0.550 total time=  54.6s\n",
      "[CV 5/5] END learning_rate=0.05, max_depth=4, n_estimators=300;, score=-0.548 total time= 1.0min\n",
      "[CV 1/5] END learning_rate=0.05, max_depth=6, n_estimators=100;, score=-0.536 total time=  33.1s\n",
      "[CV 2/5] END learning_rate=0.05, max_depth=6, n_estimators=100;, score=-0.545 total time=  33.0s\n",
      "[CV 3/5] END learning_rate=0.05, max_depth=6, n_estimators=100;, score=-0.545 total time=  36.8s\n",
      "[CV 4/5] END learning_rate=0.05, max_depth=6, n_estimators=100;, score=-0.550 total time=  31.1s\n",
      "[CV 5/5] END learning_rate=0.05, max_depth=6, n_estimators=100;, score=-0.548 total time=  38.4s\n",
      "[CV 1/5] END learning_rate=0.05, max_depth=6, n_estimators=200;, score=-0.533 total time=  53.1s\n",
      "[CV 2/5] END learning_rate=0.05, max_depth=6, n_estimators=200;, score=-0.543 total time= 1.0min\n",
      "[CV 3/5] END learning_rate=0.05, max_depth=6, n_estimators=200;, score=-0.543 total time=  54.6s\n",
      "[CV 4/5] END learning_rate=0.05, max_depth=6, n_estimators=200;, score=-0.548 total time= 1.0min\n",
      "[CV 5/5] END learning_rate=0.05, max_depth=6, n_estimators=200;, score=-0.546 total time= 1.0min\n",
      "[CV 1/5] END learning_rate=0.05, max_depth=6, n_estimators=300;, score=-0.530 total time= 1.3min\n",
      "[CV 2/5] END learning_rate=0.05, max_depth=6, n_estimators=300;, score=-0.541 total time= 1.4min\n",
      "[CV 3/5] END learning_rate=0.05, max_depth=6, n_estimators=300;, score=-0.542 total time= 1.2min\n",
      "[CV 4/5] END learning_rate=0.05, max_depth=6, n_estimators=300;, score=-0.547 total time= 1.4min\n",
      "[CV 5/5] END learning_rate=0.05, max_depth=6, n_estimators=300;, score=-0.545 total time= 1.4min\n"
     ]
    },
    {
     "output_type": "execute_result",
     "data": {
      "text/plain": [
       "GridSearchCV(estimator=XGBClassifier(base_score=None, booster=None,\n",
       "                                     callbacks=None, colsample_bylevel=None,\n",
       "                                     colsample_bynode=None,\n",
       "                                     colsample_bytree=None, device=None,\n",
       "                                     early_stopping_rounds=None,\n",
       "                                     enable_categorical=True, eval_metric=None,\n",
       "                                     feature_types=None, gamma=None,\n",
       "                                     grow_policy=None, importance_type=None,\n",
       "                                     interaction_constraints=None,\n",
       "                                     learning_rate=None, max_bi...\n",
       "                                     max_cat_threshold=None,\n",
       "                                     max_cat_to_onehot=None,\n",
       "                                     max_delta_step=None, max_depth=None,\n",
       "                                     max_leaves=None, min_child_weight=None,\n",
       "                                     missing=nan, monotone_constraints=None,\n",
       "                                     multi_strategy=None, n_estimators=None,\n",
       "                                     n_jobs=None, num_parallel_tree=None,\n",
       "                                     random_state=45, ...),\n",
       "             param_grid={'learning_rate': [0.01, 0.05], 'max_depth': [4, 6],\n",
       "                         'n_estimators': [100, 200, 300]},\n",
       "             scoring='neg_log_loss', verbose=3)"
      ],
      "text/html": [
       "<style>#sk-container-id-5 {color: black;background-color: white;}#sk-container-id-5 pre{padding: 0;}#sk-container-id-5 div.sk-toggleable {background-color: white;}#sk-container-id-5 label.sk-toggleable__label {cursor: pointer;display: block;width: 100%;margin-bottom: 0;padding: 0.3em;box-sizing: border-box;text-align: center;}#sk-container-id-5 label.sk-toggleable__label-arrow:before {content: \"▸\";float: left;margin-right: 0.25em;color: #696969;}#sk-container-id-5 label.sk-toggleable__label-arrow:hover:before {color: black;}#sk-container-id-5 div.sk-estimator:hover label.sk-toggleable__label-arrow:before {color: black;}#sk-container-id-5 div.sk-toggleable__content {max-height: 0;max-width: 0;overflow: hidden;text-align: left;background-color: #f0f8ff;}#sk-container-id-5 div.sk-toggleable__content pre {margin: 0.2em;color: black;border-radius: 0.25em;background-color: #f0f8ff;}#sk-container-id-5 input.sk-toggleable__control:checked~div.sk-toggleable__content {max-height: 200px;max-width: 100%;overflow: auto;}#sk-container-id-5 input.sk-toggleable__control:checked~label.sk-toggleable__label-arrow:before {content: \"▾\";}#sk-container-id-5 div.sk-estimator input.sk-toggleable__control:checked~label.sk-toggleable__label {background-color: #d4ebff;}#sk-container-id-5 div.sk-label input.sk-toggleable__control:checked~label.sk-toggleable__label {background-color: #d4ebff;}#sk-container-id-5 input.sk-hidden--visually {border: 0;clip: rect(1px 1px 1px 1px);clip: rect(1px, 1px, 1px, 1px);height: 1px;margin: -1px;overflow: hidden;padding: 0;position: absolute;width: 1px;}#sk-container-id-5 div.sk-estimator {font-family: monospace;background-color: #f0f8ff;border: 1px dotted black;border-radius: 0.25em;box-sizing: border-box;margin-bottom: 0.5em;}#sk-container-id-5 div.sk-estimator:hover {background-color: #d4ebff;}#sk-container-id-5 div.sk-parallel-item::after {content: \"\";width: 100%;border-bottom: 1px solid gray;flex-grow: 1;}#sk-container-id-5 div.sk-label:hover label.sk-toggleable__label {background-color: #d4ebff;}#sk-container-id-5 div.sk-serial::before {content: \"\";position: absolute;border-left: 1px solid gray;box-sizing: border-box;top: 0;bottom: 0;left: 50%;z-index: 0;}#sk-container-id-5 div.sk-serial {display: flex;flex-direction: column;align-items: center;background-color: white;padding-right: 0.2em;padding-left: 0.2em;position: relative;}#sk-container-id-5 div.sk-item {position: relative;z-index: 1;}#sk-container-id-5 div.sk-parallel {display: flex;align-items: stretch;justify-content: center;background-color: white;position: relative;}#sk-container-id-5 div.sk-item::before, #sk-container-id-5 div.sk-parallel-item::before {content: \"\";position: absolute;border-left: 1px solid gray;box-sizing: border-box;top: 0;bottom: 0;left: 50%;z-index: -1;}#sk-container-id-5 div.sk-parallel-item {display: flex;flex-direction: column;z-index: 1;position: relative;background-color: white;}#sk-container-id-5 div.sk-parallel-item:first-child::after {align-self: flex-end;width: 50%;}#sk-container-id-5 div.sk-parallel-item:last-child::after {align-self: flex-start;width: 50%;}#sk-container-id-5 div.sk-parallel-item:only-child::after {width: 0;}#sk-container-id-5 div.sk-dashed-wrapped {border: 1px dashed gray;margin: 0 0.4em 0.5em 0.4em;box-sizing: border-box;padding-bottom: 0.4em;background-color: white;}#sk-container-id-5 div.sk-label label {font-family: monospace;font-weight: bold;display: inline-block;line-height: 1.2em;}#sk-container-id-5 div.sk-label-container {text-align: center;}#sk-container-id-5 div.sk-container {/* jupyter's `normalize.less` sets `[hidden] { display: none; }` but bootstrap.min.css set `[hidden] { display: none !important; }` so we also need the `!important` here to be able to override the default hidden behavior on the sphinx rendered scikit-learn.org. See: https://github.com/scikit-learn/scikit-learn/issues/21755 */display: inline-block !important;position: relative;}#sk-container-id-5 div.sk-text-repr-fallback {display: none;}</style><div id=\"sk-container-id-5\" class=\"sk-top-container\"><div class=\"sk-text-repr-fallback\"><pre>GridSearchCV(estimator=XGBClassifier(base_score=None, booster=None,\n",
       "                                     callbacks=None, colsample_bylevel=None,\n",
       "                                     colsample_bynode=None,\n",
       "                                     colsample_bytree=None, device=None,\n",
       "                                     early_stopping_rounds=None,\n",
       "                                     enable_categorical=True, eval_metric=None,\n",
       "                                     feature_types=None, gamma=None,\n",
       "                                     grow_policy=None, importance_type=None,\n",
       "                                     interaction_constraints=None,\n",
       "                                     learning_rate=None, max_bi...\n",
       "                                     max_cat_threshold=None,\n",
       "                                     max_cat_to_onehot=None,\n",
       "                                     max_delta_step=None, max_depth=None,\n",
       "                                     max_leaves=None, min_child_weight=None,\n",
       "                                     missing=nan, monotone_constraints=None,\n",
       "                                     multi_strategy=None, n_estimators=None,\n",
       "                                     n_jobs=None, num_parallel_tree=None,\n",
       "                                     random_state=45, ...),\n",
       "             param_grid={&#x27;learning_rate&#x27;: [0.01, 0.05], &#x27;max_depth&#x27;: [4, 6],\n",
       "                         &#x27;n_estimators&#x27;: [100, 200, 300]},\n",
       "             scoring=&#x27;neg_log_loss&#x27;, verbose=3)</pre><b>In a Jupyter environment, please rerun this cell to show the HTML representation or trust the notebook. <br />On GitHub, the HTML representation is unable to render, please try loading this page with nbviewer.org.</b></div><div class=\"sk-container\" hidden><div class=\"sk-item sk-dashed-wrapped\"><div class=\"sk-label-container\"><div class=\"sk-label sk-toggleable\"><input class=\"sk-toggleable__control sk-hidden--visually\" id=\"sk-estimator-id-5\" type=\"checkbox\" ><label for=\"sk-estimator-id-5\" class=\"sk-toggleable__label sk-toggleable__label-arrow\">GridSearchCV</label><div class=\"sk-toggleable__content\"><pre>GridSearchCV(estimator=XGBClassifier(base_score=None, booster=None,\n",
       "                                     callbacks=None, colsample_bylevel=None,\n",
       "                                     colsample_bynode=None,\n",
       "                                     colsample_bytree=None, device=None,\n",
       "                                     early_stopping_rounds=None,\n",
       "                                     enable_categorical=True, eval_metric=None,\n",
       "                                     feature_types=None, gamma=None,\n",
       "                                     grow_policy=None, importance_type=None,\n",
       "                                     interaction_constraints=None,\n",
       "                                     learning_rate=None, max_bi...\n",
       "                                     max_cat_threshold=None,\n",
       "                                     max_cat_to_onehot=None,\n",
       "                                     max_delta_step=None, max_depth=None,\n",
       "                                     max_leaves=None, min_child_weight=None,\n",
       "                                     missing=nan, monotone_constraints=None,\n",
       "                                     multi_strategy=None, n_estimators=None,\n",
       "                                     n_jobs=None, num_parallel_tree=None,\n",
       "                                     random_state=45, ...),\n",
       "             param_grid={&#x27;learning_rate&#x27;: [0.01, 0.05], &#x27;max_depth&#x27;: [4, 6],\n",
       "                         &#x27;n_estimators&#x27;: [100, 200, 300]},\n",
       "             scoring=&#x27;neg_log_loss&#x27;, verbose=3)</pre></div></div></div><div class=\"sk-parallel\"><div class=\"sk-parallel-item\"><div class=\"sk-item\"><div class=\"sk-label-container\"><div class=\"sk-label sk-toggleable\"><input class=\"sk-toggleable__control sk-hidden--visually\" id=\"sk-estimator-id-6\" type=\"checkbox\" ><label for=\"sk-estimator-id-6\" class=\"sk-toggleable__label sk-toggleable__label-arrow\">estimator: XGBClassifier</label><div class=\"sk-toggleable__content\"><pre>XGBClassifier(base_score=None, booster=None, callbacks=None,\n",
       "              colsample_bylevel=None, colsample_bynode=None,\n",
       "              colsample_bytree=None, device=None, early_stopping_rounds=None,\n",
       "              enable_categorical=True, eval_metric=None, feature_types=None,\n",
       "              gamma=None, grow_policy=None, importance_type=None,\n",
       "              interaction_constraints=None, learning_rate=None, max_bin=None,\n",
       "              max_cat_threshold=None, max_cat_to_onehot=None,\n",
       "              max_delta_step=None, max_depth=None, max_leaves=None,\n",
       "              min_child_weight=None, missing=nan, monotone_constraints=None,\n",
       "              multi_strategy=None, n_estimators=None, n_jobs=None,\n",
       "              num_parallel_tree=None, random_state=45, ...)</pre></div></div></div><div class=\"sk-serial\"><div class=\"sk-item\"><div class=\"sk-estimator sk-toggleable\"><input class=\"sk-toggleable__control sk-hidden--visually\" id=\"sk-estimator-id-7\" type=\"checkbox\" ><label for=\"sk-estimator-id-7\" class=\"sk-toggleable__label sk-toggleable__label-arrow\">XGBClassifier</label><div class=\"sk-toggleable__content\"><pre>XGBClassifier(base_score=None, booster=None, callbacks=None,\n",
       "              colsample_bylevel=None, colsample_bynode=None,\n",
       "              colsample_bytree=None, device=None, early_stopping_rounds=None,\n",
       "              enable_categorical=True, eval_metric=None, feature_types=None,\n",
       "              gamma=None, grow_policy=None, importance_type=None,\n",
       "              interaction_constraints=None, learning_rate=None, max_bin=None,\n",
       "              max_cat_threshold=None, max_cat_to_onehot=None,\n",
       "              max_delta_step=None, max_depth=None, max_leaves=None,\n",
       "              min_child_weight=None, missing=nan, monotone_constraints=None,\n",
       "              multi_strategy=None, n_estimators=None, n_jobs=None,\n",
       "              num_parallel_tree=None, random_state=45, ...)</pre></div></div></div></div></div></div></div></div></div></div>"
      ]
     },
     "metadata": {},
     "execution_count": 158
    }
   ],
   "source": [
    "param_grid = {\n",
    "    'learning_rate': [0.01, 0.05],\n",
    "    'max_depth': [4, 6],\n",
    "    'n_estimators': [100, 200, 300]\n",
    "}\n",
    "\n",
    "xgboost = XGBClassifier(random_state=45, enable_categorical=True, tree_method='hist', objective='binary:logistic')\n",
    "\n",
    "grid_search = GridSearchCV(estimator=xgboost, param_grid=param_grid, scoring='neg_log_loss', verbose=3)\n",
    "grid_search.fit(X_train_cat, y_train)"
   ]
  },
  {
   "cell_type": "code",
   "execution_count": 159,
   "id": "dbd57466a8e279bb",
   "metadata": {
    "id": "dbd57466a8e279bb",
    "outputId": "11c548cd-c5e4-48a6-aaf3-5ea8e4d7399e",
    "colab": {
     "base_uri": "https://localhost:8080/"
    }
   },
   "outputs": [
    {
     "output_type": "execute_result",
     "data": {
      "text/plain": [
       "{'learning_rate': 0.05, 'max_depth': 6, 'n_estimators': 300}"
      ]
     },
     "metadata": {},
     "execution_count": 159
    }
   ],
   "source": [
    "grid_search.best_params_"
   ]
  },
  {
   "cell_type": "markdown",
   "source": [
    "Поиск оптимальных параметров для модели XGBoost."
   ],
   "metadata": {
    "id": "hi58Kw5TY5Ha"
   },
   "id": "hi58Kw5TY5Ha"
  },
  {
   "cell_type": "code",
   "execution_count": 57,
   "id": "814443bf67646c87",
   "metadata": {
    "id": "814443bf67646c87",
    "colab": {
     "base_uri": "https://localhost:8080/",
     "height": 248
    },
    "outputId": "9bcfcb35-a21b-4ae8-b505-ea6c4ebddddb",
    "ExecuteTime": {
     "end_time": "2024-04-02T15:43:14.176117500Z",
     "start_time": "2024-04-02T15:40:53.177246200Z"
    }
   },
   "outputs": [
    {
     "data": {
      "text/plain": "XGBClassifier(base_score=None, booster=None, callbacks=None,\n              colsample_bylevel=None, colsample_bynode=None,\n              colsample_bytree=None, device=None, early_stopping_rounds=None,\n              enable_categorical=True, eval_metric=None, feature_types=None,\n              gamma=None, grow_policy=None, importance_type=None,\n              interaction_constraints=None, learning_rate=0.05, max_bin=None,\n              max_cat_threshold=None, max_cat_to_onehot=None,\n              max_delta_step=None, max_depth=6, max_leaves=None,\n              min_child_weight=None, missing=nan, monotone_constraints=None,\n              multi_strategy=None, n_estimators=300, n_jobs=None,\n              num_parallel_tree=None, random_state=45, ...)",
      "text/html": "<style>#sk-container-id-1 {\n  /* Definition of color scheme common for light and dark mode */\n  --sklearn-color-text: black;\n  --sklearn-color-line: gray;\n  /* Definition of color scheme for unfitted estimators */\n  --sklearn-color-unfitted-level-0: #fff5e6;\n  --sklearn-color-unfitted-level-1: #f6e4d2;\n  --sklearn-color-unfitted-level-2: #ffe0b3;\n  --sklearn-color-unfitted-level-3: chocolate;\n  /* Definition of color scheme for fitted estimators */\n  --sklearn-color-fitted-level-0: #f0f8ff;\n  --sklearn-color-fitted-level-1: #d4ebff;\n  --sklearn-color-fitted-level-2: #b3dbfd;\n  --sklearn-color-fitted-level-3: cornflowerblue;\n\n  /* Specific color for light theme */\n  --sklearn-color-text-on-default-background: var(--sg-text-color, var(--theme-code-foreground, var(--jp-content-font-color1, black)));\n  --sklearn-color-background: var(--sg-background-color, var(--theme-background, var(--jp-layout-color0, white)));\n  --sklearn-color-border-box: var(--sg-text-color, var(--theme-code-foreground, var(--jp-content-font-color1, black)));\n  --sklearn-color-icon: #696969;\n\n  @media (prefers-color-scheme: dark) {\n    /* Redefinition of color scheme for dark theme */\n    --sklearn-color-text-on-default-background: var(--sg-text-color, var(--theme-code-foreground, var(--jp-content-font-color1, white)));\n    --sklearn-color-background: var(--sg-background-color, var(--theme-background, var(--jp-layout-color0, #111)));\n    --sklearn-color-border-box: var(--sg-text-color, var(--theme-code-foreground, var(--jp-content-font-color1, white)));\n    --sklearn-color-icon: #878787;\n  }\n}\n\n#sk-container-id-1 {\n  color: var(--sklearn-color-text);\n}\n\n#sk-container-id-1 pre {\n  padding: 0;\n}\n\n#sk-container-id-1 input.sk-hidden--visually {\n  border: 0;\n  clip: rect(1px 1px 1px 1px);\n  clip: rect(1px, 1px, 1px, 1px);\n  height: 1px;\n  margin: -1px;\n  overflow: hidden;\n  padding: 0;\n  position: absolute;\n  width: 1px;\n}\n\n#sk-container-id-1 div.sk-dashed-wrapped {\n  border: 1px dashed var(--sklearn-color-line);\n  margin: 0 0.4em 0.5em 0.4em;\n  box-sizing: border-box;\n  padding-bottom: 0.4em;\n  background-color: var(--sklearn-color-background);\n}\n\n#sk-container-id-1 div.sk-container {\n  /* jupyter's `normalize.less` sets `[hidden] { display: none; }`\n     but bootstrap.min.css set `[hidden] { display: none !important; }`\n     so we also need the `!important` here to be able to override the\n     default hidden behavior on the sphinx rendered scikit-learn.org.\n     See: https://github.com/scikit-learn/scikit-learn/issues/21755 */\n  display: inline-block !important;\n  position: relative;\n}\n\n#sk-container-id-1 div.sk-text-repr-fallback {\n  display: none;\n}\n\ndiv.sk-parallel-item,\ndiv.sk-serial,\ndiv.sk-item {\n  /* draw centered vertical line to link estimators */\n  background-image: linear-gradient(var(--sklearn-color-text-on-default-background), var(--sklearn-color-text-on-default-background));\n  background-size: 2px 100%;\n  background-repeat: no-repeat;\n  background-position: center center;\n}\n\n/* Parallel-specific style estimator block */\n\n#sk-container-id-1 div.sk-parallel-item::after {\n  content: \"\";\n  width: 100%;\n  border-bottom: 2px solid var(--sklearn-color-text-on-default-background);\n  flex-grow: 1;\n}\n\n#sk-container-id-1 div.sk-parallel {\n  display: flex;\n  align-items: stretch;\n  justify-content: center;\n  background-color: var(--sklearn-color-background);\n  position: relative;\n}\n\n#sk-container-id-1 div.sk-parallel-item {\n  display: flex;\n  flex-direction: column;\n}\n\n#sk-container-id-1 div.sk-parallel-item:first-child::after {\n  align-self: flex-end;\n  width: 50%;\n}\n\n#sk-container-id-1 div.sk-parallel-item:last-child::after {\n  align-self: flex-start;\n  width: 50%;\n}\n\n#sk-container-id-1 div.sk-parallel-item:only-child::after {\n  width: 0;\n}\n\n/* Serial-specific style estimator block */\n\n#sk-container-id-1 div.sk-serial {\n  display: flex;\n  flex-direction: column;\n  align-items: center;\n  background-color: var(--sklearn-color-background);\n  padding-right: 1em;\n  padding-left: 1em;\n}\n\n\n/* Toggleable style: style used for estimator/Pipeline/ColumnTransformer box that is\nclickable and can be expanded/collapsed.\n- Pipeline and ColumnTransformer use this feature and define the default style\n- Estimators will overwrite some part of the style using the `sk-estimator` class\n*/\n\n/* Pipeline and ColumnTransformer style (default) */\n\n#sk-container-id-1 div.sk-toggleable {\n  /* Default theme specific background. It is overwritten whether we have a\n  specific estimator or a Pipeline/ColumnTransformer */\n  background-color: var(--sklearn-color-background);\n}\n\n/* Toggleable label */\n#sk-container-id-1 label.sk-toggleable__label {\n  cursor: pointer;\n  display: block;\n  width: 100%;\n  margin-bottom: 0;\n  padding: 0.5em;\n  box-sizing: border-box;\n  text-align: center;\n}\n\n#sk-container-id-1 label.sk-toggleable__label-arrow:before {\n  /* Arrow on the left of the label */\n  content: \"▸\";\n  float: left;\n  margin-right: 0.25em;\n  color: var(--sklearn-color-icon);\n}\n\n#sk-container-id-1 label.sk-toggleable__label-arrow:hover:before {\n  color: var(--sklearn-color-text);\n}\n\n/* Toggleable content - dropdown */\n\n#sk-container-id-1 div.sk-toggleable__content {\n  max-height: 0;\n  max-width: 0;\n  overflow: hidden;\n  text-align: left;\n  /* unfitted */\n  background-color: var(--sklearn-color-unfitted-level-0);\n}\n\n#sk-container-id-1 div.sk-toggleable__content.fitted {\n  /* fitted */\n  background-color: var(--sklearn-color-fitted-level-0);\n}\n\n#sk-container-id-1 div.sk-toggleable__content pre {\n  margin: 0.2em;\n  border-radius: 0.25em;\n  color: var(--sklearn-color-text);\n  /* unfitted */\n  background-color: var(--sklearn-color-unfitted-level-0);\n}\n\n#sk-container-id-1 div.sk-toggleable__content.fitted pre {\n  /* unfitted */\n  background-color: var(--sklearn-color-fitted-level-0);\n}\n\n#sk-container-id-1 input.sk-toggleable__control:checked~div.sk-toggleable__content {\n  /* Expand drop-down */\n  max-height: 200px;\n  max-width: 100%;\n  overflow: auto;\n}\n\n#sk-container-id-1 input.sk-toggleable__control:checked~label.sk-toggleable__label-arrow:before {\n  content: \"▾\";\n}\n\n/* Pipeline/ColumnTransformer-specific style */\n\n#sk-container-id-1 div.sk-label input.sk-toggleable__control:checked~label.sk-toggleable__label {\n  color: var(--sklearn-color-text);\n  background-color: var(--sklearn-color-unfitted-level-2);\n}\n\n#sk-container-id-1 div.sk-label.fitted input.sk-toggleable__control:checked~label.sk-toggleable__label {\n  background-color: var(--sklearn-color-fitted-level-2);\n}\n\n/* Estimator-specific style */\n\n/* Colorize estimator box */\n#sk-container-id-1 div.sk-estimator input.sk-toggleable__control:checked~label.sk-toggleable__label {\n  /* unfitted */\n  background-color: var(--sklearn-color-unfitted-level-2);\n}\n\n#sk-container-id-1 div.sk-estimator.fitted input.sk-toggleable__control:checked~label.sk-toggleable__label {\n  /* fitted */\n  background-color: var(--sklearn-color-fitted-level-2);\n}\n\n#sk-container-id-1 div.sk-label label.sk-toggleable__label,\n#sk-container-id-1 div.sk-label label {\n  /* The background is the default theme color */\n  color: var(--sklearn-color-text-on-default-background);\n}\n\n/* On hover, darken the color of the background */\n#sk-container-id-1 div.sk-label:hover label.sk-toggleable__label {\n  color: var(--sklearn-color-text);\n  background-color: var(--sklearn-color-unfitted-level-2);\n}\n\n/* Label box, darken color on hover, fitted */\n#sk-container-id-1 div.sk-label.fitted:hover label.sk-toggleable__label.fitted {\n  color: var(--sklearn-color-text);\n  background-color: var(--sklearn-color-fitted-level-2);\n}\n\n/* Estimator label */\n\n#sk-container-id-1 div.sk-label label {\n  font-family: monospace;\n  font-weight: bold;\n  display: inline-block;\n  line-height: 1.2em;\n}\n\n#sk-container-id-1 div.sk-label-container {\n  text-align: center;\n}\n\n/* Estimator-specific */\n#sk-container-id-1 div.sk-estimator {\n  font-family: monospace;\n  border: 1px dotted var(--sklearn-color-border-box);\n  border-radius: 0.25em;\n  box-sizing: border-box;\n  margin-bottom: 0.5em;\n  /* unfitted */\n  background-color: var(--sklearn-color-unfitted-level-0);\n}\n\n#sk-container-id-1 div.sk-estimator.fitted {\n  /* fitted */\n  background-color: var(--sklearn-color-fitted-level-0);\n}\n\n/* on hover */\n#sk-container-id-1 div.sk-estimator:hover {\n  /* unfitted */\n  background-color: var(--sklearn-color-unfitted-level-2);\n}\n\n#sk-container-id-1 div.sk-estimator.fitted:hover {\n  /* fitted */\n  background-color: var(--sklearn-color-fitted-level-2);\n}\n\n/* Specification for estimator info (e.g. \"i\" and \"?\") */\n\n/* Common style for \"i\" and \"?\" */\n\n.sk-estimator-doc-link,\na:link.sk-estimator-doc-link,\na:visited.sk-estimator-doc-link {\n  float: right;\n  font-size: smaller;\n  line-height: 1em;\n  font-family: monospace;\n  background-color: var(--sklearn-color-background);\n  border-radius: 1em;\n  height: 1em;\n  width: 1em;\n  text-decoration: none !important;\n  margin-left: 1ex;\n  /* unfitted */\n  border: var(--sklearn-color-unfitted-level-1) 1pt solid;\n  color: var(--sklearn-color-unfitted-level-1);\n}\n\n.sk-estimator-doc-link.fitted,\na:link.sk-estimator-doc-link.fitted,\na:visited.sk-estimator-doc-link.fitted {\n  /* fitted */\n  border: var(--sklearn-color-fitted-level-1) 1pt solid;\n  color: var(--sklearn-color-fitted-level-1);\n}\n\n/* On hover */\ndiv.sk-estimator:hover .sk-estimator-doc-link:hover,\n.sk-estimator-doc-link:hover,\ndiv.sk-label-container:hover .sk-estimator-doc-link:hover,\n.sk-estimator-doc-link:hover {\n  /* unfitted */\n  background-color: var(--sklearn-color-unfitted-level-3);\n  color: var(--sklearn-color-background);\n  text-decoration: none;\n}\n\ndiv.sk-estimator.fitted:hover .sk-estimator-doc-link.fitted:hover,\n.sk-estimator-doc-link.fitted:hover,\ndiv.sk-label-container:hover .sk-estimator-doc-link.fitted:hover,\n.sk-estimator-doc-link.fitted:hover {\n  /* fitted */\n  background-color: var(--sklearn-color-fitted-level-3);\n  color: var(--sklearn-color-background);\n  text-decoration: none;\n}\n\n/* Span, style for the box shown on hovering the info icon */\n.sk-estimator-doc-link span {\n  display: none;\n  z-index: 9999;\n  position: relative;\n  font-weight: normal;\n  right: .2ex;\n  padding: .5ex;\n  margin: .5ex;\n  width: min-content;\n  min-width: 20ex;\n  max-width: 50ex;\n  color: var(--sklearn-color-text);\n  box-shadow: 2pt 2pt 4pt #999;\n  /* unfitted */\n  background: var(--sklearn-color-unfitted-level-0);\n  border: .5pt solid var(--sklearn-color-unfitted-level-3);\n}\n\n.sk-estimator-doc-link.fitted span {\n  /* fitted */\n  background: var(--sklearn-color-fitted-level-0);\n  border: var(--sklearn-color-fitted-level-3);\n}\n\n.sk-estimator-doc-link:hover span {\n  display: block;\n}\n\n/* \"?\"-specific style due to the `<a>` HTML tag */\n\n#sk-container-id-1 a.estimator_doc_link {\n  float: right;\n  font-size: 1rem;\n  line-height: 1em;\n  font-family: monospace;\n  background-color: var(--sklearn-color-background);\n  border-radius: 1rem;\n  height: 1rem;\n  width: 1rem;\n  text-decoration: none;\n  /* unfitted */\n  color: var(--sklearn-color-unfitted-level-1);\n  border: var(--sklearn-color-unfitted-level-1) 1pt solid;\n}\n\n#sk-container-id-1 a.estimator_doc_link.fitted {\n  /* fitted */\n  border: var(--sklearn-color-fitted-level-1) 1pt solid;\n  color: var(--sklearn-color-fitted-level-1);\n}\n\n/* On hover */\n#sk-container-id-1 a.estimator_doc_link:hover {\n  /* unfitted */\n  background-color: var(--sklearn-color-unfitted-level-3);\n  color: var(--sklearn-color-background);\n  text-decoration: none;\n}\n\n#sk-container-id-1 a.estimator_doc_link.fitted:hover {\n  /* fitted */\n  background-color: var(--sklearn-color-fitted-level-3);\n}\n</style><div id=\"sk-container-id-1\" class=\"sk-top-container\"><div class=\"sk-text-repr-fallback\"><pre>XGBClassifier(base_score=None, booster=None, callbacks=None,\n              colsample_bylevel=None, colsample_bynode=None,\n              colsample_bytree=None, device=None, early_stopping_rounds=None,\n              enable_categorical=True, eval_metric=None, feature_types=None,\n              gamma=None, grow_policy=None, importance_type=None,\n              interaction_constraints=None, learning_rate=0.05, max_bin=None,\n              max_cat_threshold=None, max_cat_to_onehot=None,\n              max_delta_step=None, max_depth=6, max_leaves=None,\n              min_child_weight=None, missing=nan, monotone_constraints=None,\n              multi_strategy=None, n_estimators=300, n_jobs=None,\n              num_parallel_tree=None, random_state=45, ...)</pre><b>In a Jupyter environment, please rerun this cell to show the HTML representation or trust the notebook. <br />On GitHub, the HTML representation is unable to render, please try loading this page with nbviewer.org.</b></div><div class=\"sk-container\" hidden><div class=\"sk-item\"><div class=\"sk-estimator fitted sk-toggleable\"><input class=\"sk-toggleable__control sk-hidden--visually\" id=\"sk-estimator-id-1\" type=\"checkbox\" checked><label for=\"sk-estimator-id-1\" class=\"sk-toggleable__label fitted sk-toggleable__label-arrow fitted\">&nbsp;XGBClassifier<span class=\"sk-estimator-doc-link fitted\">i<span>Fitted</span></span></label><div class=\"sk-toggleable__content fitted\"><pre>XGBClassifier(base_score=None, booster=None, callbacks=None,\n              colsample_bylevel=None, colsample_bynode=None,\n              colsample_bytree=None, device=None, early_stopping_rounds=None,\n              enable_categorical=True, eval_metric=None, feature_types=None,\n              gamma=None, grow_policy=None, importance_type=None,\n              interaction_constraints=None, learning_rate=0.05, max_bin=None,\n              max_cat_threshold=None, max_cat_to_onehot=None,\n              max_delta_step=None, max_depth=6, max_leaves=None,\n              min_child_weight=None, missing=nan, monotone_constraints=None,\n              multi_strategy=None, n_estimators=300, n_jobs=None,\n              num_parallel_tree=None, random_state=45, ...)</pre></div> </div></div></div></div>"
     },
     "execution_count": 57,
     "metadata": {},
     "output_type": "execute_result"
    }
   ],
   "source": [
    "xgboost = XGBClassifier(random_state=45, enable_categorical=True, tree_method='hist', objective='binary:logistic', n_estimators=300, max_depth=6, learning_rate=0.05)\n",
    "xgboost.fit(X_train_cat, y_train)"
   ]
  },
  {
   "cell_type": "code",
   "source": [
    "print(f'ROC-AUC TRAIN: {roc_auc_score(y_train, xgboost.predict_proba(X_train_cat)[:,1])}')\n",
    "print(f'ROC-AUC TEST: {roc_auc_score(y_test, xgboost.predict_proba(X_test_cat)[:,1])}')"
   ],
   "metadata": {
    "colab": {
     "base_uri": "https://localhost:8080/"
    },
    "id": "N-Vl24GJDn1H",
    "outputId": "ef277f42-e953-46d2-f698-c4652937580c"
   },
   "id": "N-Vl24GJDn1H",
   "execution_count": 161,
   "outputs": [
    {
     "output_type": "stream",
     "name": "stdout",
     "text": [
      "ROC-AUC TRAIN: 0.7577323396106376\n",
      "ROC-AUC TEST: 0.7195276469290467\n"
     ]
    }
   ]
  },
  {
   "cell_type": "markdown",
   "source": [
    "Модель достигает значения ROC-AUC 0.7577 на обучающем наборе данных и 0.7195 на тестовом наборе данных. Эти значения чуть выше, чем у предыдущей модели XGBoost (0.7577 на обучающем наборе и 0.7186 на тестовом наборе)."
   ],
   "metadata": {
    "id": "MdJ9C1IrHDs0"
   },
   "id": "MdJ9C1IrHDs0"
  },
  {
   "cell_type": "code",
   "source": [
    "print('Train:')\n",
    "print(classification_report(y_train, xgboost.predict(X_train_cat)))\n",
    "print('Test:')\n",
    "print(classification_report(y_test, xgboost.predict(X_test_cat)))"
   ],
   "metadata": {
    "colab": {
     "base_uri": "https://localhost:8080/"
    },
    "id": "CKa9nzqED4jT",
    "outputId": "34dab013-bc8b-41f5-ee1a-d47c697da15c"
   },
   "id": "CKa9nzqED4jT",
   "execution_count": 162,
   "outputs": [
    {
     "output_type": "stream",
     "name": "stdout",
     "text": [
      "Train:\n",
      "              precision    recall  f1-score   support\n",
      "\n",
      "         0.0       0.67      0.42      0.52    345642\n",
      "         1.0       0.77      0.91      0.83    758108\n",
      "\n",
      "    accuracy                           0.75   1103750\n",
      "   macro avg       0.72      0.66      0.68   1103750\n",
      "weighted avg       0.74      0.75      0.74   1103750\n",
      "\n",
      "Test:\n",
      "              precision    recall  f1-score   support\n",
      "\n",
      "         0.0       0.67      0.43      0.52    144356\n",
      "         1.0       0.70      0.86      0.77    223560\n",
      "\n",
      "    accuracy                           0.69    367916\n",
      "   macro avg       0.68      0.65      0.65    367916\n",
      "weighted avg       0.69      0.69      0.67    367916\n"
     ]
    }
   ]
  },
  {
   "cell_type": "markdown",
   "source": [
    "\n",
    "Модель показывает улучшение в качестве предсказания на обучающем наборе данных по сравнению с предыдущей моделью: точность для класса 0.0 остается примерно на том же уровне (67%), но для класса 1.0 увеличивается на 1 процентный пункт до 77%. На тестовом наборе данных точность для обоих классов остается примерно на том же уровне, но наблюдается небольшое улучшение полноты и f1-score для класса 1.0."
   ],
   "metadata": {
    "id": "bgVWDGjuHrIh"
   },
   "id": "bgVWDGjuHrIh"
  },
  {
   "cell_type": "code",
   "source": [
    "prediction_train = probs(X_train_cat, y_train, xgboost)\n",
    "prediction_test = probs(X_test_cat, y_test, xgboost)"
   ],
   "metadata": {
    "id": "T3IXZOyND-Wc"
   },
   "id": "T3IXZOyND-Wc",
   "execution_count": 163,
   "outputs": []
  },
  {
   "cell_type": "code",
   "source": [
    "train_ndcg = ndcg_at_k(prediction_train)\n",
    "test_ndcg = ndcg_at_k(prediction_test)\n",
    "\n",
    "print(f'NDCG@20 in train: {train_ndcg}')\n",
    "print(f'NDCG@20 in test: {test_ndcg}')"
   ],
   "metadata": {
    "colab": {
     "base_uri": "https://localhost:8080/"
    },
    "id": "o2ztaPI-EHB3",
    "outputId": "d1af2c53-836a-493f-8105-caa2811a58dc"
   },
   "id": "o2ztaPI-EHB3",
   "execution_count": 164,
   "outputs": [
    {
     "output_type": "stream",
     "name": "stdout",
     "text": [
      "NDCG@20 in train: 0.7644782585341398\n",
      "NDCG@20 in test: 0.7196012562729636\n"
     ]
    }
   ]
  },
  {
   "cell_type": "markdown",
   "source": [
    "\n",
    "Значение NDCG@20 на обучающем наборе данных составляет 0.764 для текущей модели, в то время как на тестовом наборе данных это значение составляет 0.720. Эти показатели незначительно выше, чем у предыдущей модели, где соответственно были 0.765 и 0.719."
   ],
   "metadata": {
    "id": "_haqnbBMZRPp"
   },
   "id": "_haqnbBMZRPp"
  },
  {
   "cell_type": "markdown",
   "source": [
    "## 4. Рекомендации для test.csv"
   ],
   "metadata": {
    "id": "yQj2DrN7ZSuD"
   },
   "id": "yQj2DrN7ZSuD"
  },
  {
   "cell_type": "code",
   "source": [
    "data_test = merged_data(test, members, songs)"
   ],
   "metadata": {
    "colab": {
     "base_uri": "https://localhost:8080/",
     "height": 141
    },
    "id": "shF3RKr5EPe6",
    "outputId": "6bdc0637-e693-4300-9dfc-0e0b7ba609af",
    "ExecuteTime": {
     "end_time": "2024-04-02T15:43:45.217666300Z",
     "start_time": "2024-04-02T15:43:38.480755900Z"
    }
   },
   "id": "shF3RKr5EPe6",
   "execution_count": 58,
   "outputs": []
  },
  {
   "cell_type": "code",
   "source": [
    "data_test.isna().sum()"
   ],
   "metadata": {
    "colab": {
     "base_uri": "https://localhost:8080/",
     "height": 141
    },
    "id": "RImJOvfLZ0lP",
    "outputId": "abeaa40f-1f76-439d-e290-885e22bd9c3c",
    "ExecuteTime": {
     "end_time": "2024-04-02T15:50:20.624406300Z",
     "start_time": "2024-04-02T15:50:19.709662900Z"
    }
   },
   "id": "RImJOvfLZ0lP",
   "execution_count": 71,
   "outputs": [
    {
     "data": {
      "text/plain": "id                           0\nmsno                         0\nsong_id                      0\nsource_system_tab            0\nsource_screen_name           0\nsource_type                  0\ncity                         0\nbd                           0\nregistered_via               0\nregistration_year            0\nexpiration_year              0\nfemale                       0\nmale                         0\nmembership_years             0\nsong_length                  0\nlanguage                     0\ngenre_465                    0\ngenre_958                    0\ngenre_1609                   0\ngenre_2022                   0\ngenre_2122                   0\nNeuromancer                  0\nJohann Sebastian Bach        0\nWolfgang Amadeus Mozart      0\nTraditional                  0\nMarco Rinaldo                0\n―                            0\n林夕                           0\nMichael Ruland               0\n Jr.                         0\nyear                       771\ncountry_code                 0\nfav_genre                    0\npopular_artist               0\ndtype: int64"
     },
     "execution_count": 71,
     "metadata": {},
     "output_type": "execute_result"
    }
   ]
  },
  {
   "cell_type": "code",
   "source": [
    "data_test['source_screen_name'] = data_test['source_screen_name'].fillna('Unknown')\n",
    "data_test['source_type'] = data_test.groupby('msno')['source_type'].transform(lambda x: x.fillna(x.mode().iloc[0]) if not x.dropna().empty else x)\n",
    "data_test['source_system_tab'] = data_test['source_system_tab'].fillna('Unknown')\n",
    "data_test['artist_name'] = data_test['artist_name'].fillna('Unknown')\n",
    "data_test['language'] = data_test.groupby('artist_name')['language'].transform(lambda x: x.fillna(x.mode().iloc[0]) if not x.dropna().empty else x)\n",
    "data_test.dropna(subset='language', inplace=True)\n",
    "data_test['country_code'] = data_test.groupby('language')['country_code'].transform(lambda x: x.fillna(x.mode().iloc[0]) if not x.dropna().empty else x)\n",
    "data_train['year'] = data_train['year'].fillna(0)"
   ],
   "metadata": {
    "colab": {
     "base_uri": "https://localhost:8080/",
     "height": 245
    },
    "id": "6TbpKrrRZ3NF",
    "outputId": "2192f7ca-7c2d-46ff-ea54-28d76c9b3848",
    "ExecuteTime": {
     "end_time": "2024-04-02T15:44:46.297439Z",
     "start_time": "2024-04-02T15:44:09.451592300Z"
    }
   },
   "id": "6TbpKrrRZ3NF",
   "execution_count": 60,
   "outputs": []
  },
  {
   "cell_type": "code",
   "source": [
    "data_test = data_test.merge(favorite_genres[['msno', 'fav_genre']], how='left', on='msno')"
   ],
   "metadata": {
    "colab": {
     "base_uri": "https://localhost:8080/",
     "height": 141
    },
    "id": "Y9u455kBatLZ",
    "outputId": "511e52cd-4141-46b8-8e62-75e780eb4ac5",
    "ExecuteTime": {
     "end_time": "2024-04-02T15:45:02.253932200Z",
     "start_time": "2024-04-02T15:44:59.405324200Z"
    }
   },
   "id": "Y9u455kBatLZ",
   "execution_count": 61,
   "outputs": []
  },
  {
   "cell_type": "code",
   "source": [
    "data_test['popular_artist'] = data_test['artist_name'].map(artist_counts) >= threshold\n",
    "data_test['popular_artist'] = data_test['popular_artist'].astype(int)"
   ],
   "metadata": {
    "id": "_tpYT3vabDK2",
    "ExecuteTime": {
     "end_time": "2024-04-02T15:45:18.207665500Z",
     "start_time": "2024-04-02T15:45:17.791364900Z"
    }
   },
   "id": "_tpYT3vabDK2",
   "execution_count": 62,
   "outputs": []
  },
  {
   "cell_type": "code",
   "source": [
    "data_test['fav_genre'] = data_test['fav_genre'].fillna(top_5_genres[0])\n",
    "data_test.dropna(subset='source_type', inplace=True)"
   ],
   "metadata": {
    "colab": {
     "base_uri": "https://localhost:8080/",
     "height": 158
    },
    "id": "bXXWUoyYb4km",
    "outputId": "7330e552-612b-4258-c0ff-215ef5722757",
    "ExecuteTime": {
     "end_time": "2024-04-02T15:45:30.130167Z",
     "start_time": "2024-04-02T15:45:29.252817700Z"
    }
   },
   "id": "bXXWUoyYb4km",
   "execution_count": 63,
   "outputs": []
  },
  {
   "cell_type": "code",
   "source": [
    "data_test.drop(['artist_name', 'name', 'isrc', 'genre_ids', 'composer', 'lyricist'], axis=1, inplace=True)"
   ],
   "metadata": {
    "id": "yM-0W63NcQNJ",
    "ExecuteTime": {
     "end_time": "2024-04-02T15:45:40.758909500Z",
     "start_time": "2024-04-02T15:45:40.316478100Z"
    }
   },
   "id": "yM-0W63NcQNJ",
   "execution_count": 64,
   "outputs": []
  },
  {
   "cell_type": "code",
   "source": [
    "obj_cols = data_test.select_dtypes(include='object').columns.tolist()\n",
    "data_test_cat = data_test.copy()\n",
    "data_test_cat[obj_cols] = data_test_cat[obj_cols].astype('category')"
   ],
   "metadata": {
    "id": "jS87d8OJcYHV",
    "ExecuteTime": {
     "end_time": "2024-04-02T15:49:18.350655700Z",
     "start_time": "2024-04-02T15:49:18.046440300Z"
    }
   },
   "id": "jS87d8OJcYHV",
   "execution_count": 68,
   "outputs": []
  },
  {
   "cell_type": "code",
   "outputs": [],
   "source": [
    "data_test_cat = data_test_cat.set_index(['msno', 'song_id'])"
   ],
   "metadata": {
    "collapsed": false,
    "ExecuteTime": {
     "end_time": "2024-04-02T15:55:26.316784Z",
     "start_time": "2024-04-02T15:55:25.907474500Z"
    }
   },
   "id": "8a380fe6ffc41bc3",
   "execution_count": 73
  },
  {
   "cell_type": "code",
   "outputs": [],
   "source": [
    "predictions_data_test = xgboost.predict(data_test_cat)"
   ],
   "metadata": {
    "collapsed": false,
    "ExecuteTime": {
     "end_time": "2024-04-02T15:59:33.337257500Z",
     "start_time": "2024-04-02T15:59:19.552446700Z"
    }
   },
   "id": "e12518b0606f6e9f",
   "execution_count": 79
  },
  {
   "cell_type": "code",
   "outputs": [],
   "source": [
    "data_test['prediction'] = predictions_data_test"
   ],
   "metadata": {
    "collapsed": false,
    "ExecuteTime": {
     "end_time": "2024-04-02T16:11:06.197032500Z",
     "start_time": "2024-04-02T16:11:06.103538500Z"
    }
   },
   "id": "f4c5b8a7aad7b697",
   "execution_count": 86
  },
  {
   "cell_type": "code",
   "outputs": [],
   "source": [
    "df_test = pd.DataFrame()\n",
    "df_test['id'] = data_test['id']\n",
    "df_test['prediction'] = data_test['prediction']"
   ],
   "metadata": {
    "collapsed": false,
    "ExecuteTime": {
     "end_time": "2024-04-02T16:15:45.847548700Z",
     "start_time": "2024-04-02T16:15:45.720092100Z"
    }
   },
   "id": "c71bf4a2c0b053cb",
   "execution_count": 93
  },
  {
   "cell_type": "code",
   "outputs": [],
   "source": [
    "df_test.to_csv('recommendation_test.csv', sep=',')"
   ],
   "metadata": {
    "collapsed": false,
    "ExecuteTime": {
     "end_time": "2024-04-02T16:20:24.043816200Z",
     "start_time": "2024-04-02T16:20:20.804442600Z"
    }
   },
   "id": "a8906068441aafe0",
   "execution_count": 97
  },
  {
   "cell_type": "code",
   "outputs": [
    {
     "data": {
      "text/plain": "         prediction\nid                 \n0                 0\n1                 0\n2                 0\n3                 0\n4                 0\n...             ...\n2556785           0\n2556786           0\n2556787           0\n2556788           0\n2556789           0\n\n[2556486 rows x 1 columns]",
      "text/html": "<div>\n<style scoped>\n    .dataframe tbody tr th:only-of-type {\n        vertical-align: middle;\n    }\n\n    .dataframe tbody tr th {\n        vertical-align: top;\n    }\n\n    .dataframe thead th {\n        text-align: right;\n    }\n</style>\n<table border=\"1\" class=\"dataframe\">\n  <thead>\n    <tr style=\"text-align: right;\">\n      <th></th>\n      <th>prediction</th>\n    </tr>\n    <tr>\n      <th>id</th>\n      <th></th>\n    </tr>\n  </thead>\n  <tbody>\n    <tr>\n      <th>0</th>\n      <td>0</td>\n    </tr>\n    <tr>\n      <th>1</th>\n      <td>0</td>\n    </tr>\n    <tr>\n      <th>2</th>\n      <td>0</td>\n    </tr>\n    <tr>\n      <th>3</th>\n      <td>0</td>\n    </tr>\n    <tr>\n      <th>4</th>\n      <td>0</td>\n    </tr>\n    <tr>\n      <th>...</th>\n      <td>...</td>\n    </tr>\n    <tr>\n      <th>2556785</th>\n      <td>0</td>\n    </tr>\n    <tr>\n      <th>2556786</th>\n      <td>0</td>\n    </tr>\n    <tr>\n      <th>2556787</th>\n      <td>0</td>\n    </tr>\n    <tr>\n      <th>2556788</th>\n      <td>0</td>\n    </tr>\n    <tr>\n      <th>2556789</th>\n      <td>0</td>\n    </tr>\n  </tbody>\n</table>\n<p>2556486 rows × 1 columns</p>\n</div>"
     },
     "execution_count": 10,
     "metadata": {},
     "output_type": "execute_result"
    }
   ],
   "source": [
    "df_test"
   ],
   "metadata": {
    "collapsed": false,
    "ExecuteTime": {
     "end_time": "2024-04-02T16:33:47.376667Z",
     "start_time": "2024-04-02T16:33:47.358718Z"
    }
   },
   "id": "c763ca68092bb631",
   "execution_count": 10
  }
 ],
 "metadata": {
  "colab": {
   "provenance": []
  },
  "kernelspec": {
   "display_name": "Python 3",
   "language": "python",
   "name": "python3"
  },
  "language_info": {
   "codemirror_mode": {
    "name": "ipython",
    "version": 2
   },
   "file_extension": ".py",
   "mimetype": "text/x-python",
   "name": "python",
   "nbconvert_exporter": "python",
   "pygments_lexer": "ipython2",
   "version": "2.7.6"
  }
 },
 "nbformat": 4,
 "nbformat_minor": 5
}
